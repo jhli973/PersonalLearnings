{
 "cells": [
  {
   "cell_type": "code",
   "execution_count": 28,
   "metadata": {
    "collapsed": false
   },
   "outputs": [
    {
     "name": "stdout",
     "output_type": "stream",
     "text": [
      "True\n"
     ]
    }
   ],
   "source": [
    "p = 3\n",
    "q = p\n",
    "print(p is q)"
   ]
  },
  {
   "cell_type": "code",
   "execution_count": 29,
   "metadata": {
    "collapsed": false
   },
   "outputs": [
    {
     "name": "stdout",
     "output_type": "stream",
     "text": [
      "5\n"
     ]
    }
   ],
   "source": [
    "p += 2\n",
    "print(p)"
   ]
  },
  {
   "cell_type": "code",
   "execution_count": 30,
   "metadata": {
    "collapsed": false
   },
   "outputs": [
    {
     "name": "stdout",
     "output_type": "stream",
     "text": [
      "3\n"
     ]
    }
   ],
   "source": [
    "print(q)"
   ]
  },
  {
   "cell_type": "code",
   "execution_count": 31,
   "metadata": {
    "collapsed": false
   },
   "outputs": [
    {
     "name": "stdout",
     "output_type": "stream",
     "text": [
      "1\n"
     ]
    }
   ],
   "source": [
    "q -= 2\n",
    "print(q)"
   ]
  },
  {
   "cell_type": "code",
   "execution_count": 32,
   "metadata": {
    "collapsed": false
   },
   "outputs": [
    {
     "name": "stdout",
     "output_type": "stream",
     "text": [
      "5\n"
     ]
    }
   ],
   "source": [
    "print(p)"
   ]
  },
  {
   "cell_type": "code",
   "execution_count": 36,
   "metadata": {
    "collapsed": false
   },
   "outputs": [
    {
     "name": "stdout",
     "output_type": "stream",
     "text": [
      "False\n"
     ]
    }
   ],
   "source": [
    "print((0==0) == 0)"
   ]
  },
  {
   "cell_type": "code",
   "execution_count": 37,
   "metadata": {
    "collapsed": false
   },
   "outputs": [
    {
     "name": "stdout",
     "output_type": "stream",
     "text": [
      "300000000.0\n"
     ]
    }
   ],
   "source": [
    "print(3e8)"
   ]
  },
  {
   "cell_type": "code",
   "execution_count": 38,
   "metadata": {
    "collapsed": false
   },
   "outputs": [
    {
     "data": {
      "text/plain": [
       "False"
      ]
     },
     "execution_count": 38,
     "metadata": {},
     "output_type": "execute_result"
    }
   ],
   "source": [
    "#comparing of string (according to ASCII value)\n",
    "\n",
    "'abc' > 'xyz'"
   ]
  },
  {
   "cell_type": "code",
   "execution_count": 39,
   "metadata": {
    "collapsed": false
   },
   "outputs": [
    {
     "data": {
      "text/plain": [
       "True"
      ]
     },
     "execution_count": 39,
     "metadata": {},
     "output_type": "execute_result"
    }
   ],
   "source": [
    "'abc' > 'ABC'"
   ]
  },
  {
   "cell_type": "code",
   "execution_count": 41,
   "metadata": {
    "collapsed": false
   },
   "outputs": [
    {
     "data": {
      "text/plain": [
       "False"
      ]
     },
     "execution_count": 41,
     "metadata": {},
     "output_type": "execute_result"
    }
   ],
   "source": [
    "'A' > 'abc'"
   ]
  },
  {
   "cell_type": "code",
   "execution_count": 43,
   "metadata": {
    "collapsed": false
   },
   "outputs": [
    {
     "data": {
      "text/plain": [
       "True"
      ]
     },
     "execution_count": 43,
     "metadata": {},
     "output_type": "execute_result"
    }
   ],
   "source": [
    "3 < 4 < 7 # same as (3 < 4) and (4 < 7)"
   ]
  },
  {
   "cell_type": "code",
   "execution_count": 47,
   "metadata": {
    "collapsed": false
   },
   "outputs": [
    {
     "data": {
      "text/plain": [
       "True"
      ]
     },
     "execution_count": 47,
     "metadata": {},
     "output_type": "execute_result"
    }
   ],
   "source": [
    "3 < 5 != 2 < 7 > 1"
   ]
  },
  {
   "cell_type": "code",
   "execution_count": 48,
   "metadata": {
    "collapsed": false
   },
   "outputs": [
    {
     "data": {
      "text/plain": [
       "6"
      ]
     },
     "execution_count": 48,
     "metadata": {},
     "output_type": "execute_result"
    }
   ],
   "source": [
    "3 << 1"
   ]
  },
  {
   "cell_type": "code",
   "execution_count": 50,
   "metadata": {
    "collapsed": false
   },
   "outputs": [
    {
     "data": {
      "text/plain": [
       "['ArithmeticError',\n",
       " 'AssertionError',\n",
       " 'AttributeError',\n",
       " 'BaseException',\n",
       " 'BlockingIOError',\n",
       " 'BrokenPipeError',\n",
       " 'BufferError',\n",
       " 'BytesWarning',\n",
       " 'ChildProcessError',\n",
       " 'ConnectionAbortedError',\n",
       " 'ConnectionError',\n",
       " 'ConnectionRefusedError',\n",
       " 'ConnectionResetError',\n",
       " 'DeprecationWarning',\n",
       " 'EOFError',\n",
       " 'Ellipsis',\n",
       " 'EnvironmentError',\n",
       " 'Exception',\n",
       " 'False',\n",
       " 'FileExistsError',\n",
       " 'FileNotFoundError',\n",
       " 'FloatingPointError',\n",
       " 'FutureWarning',\n",
       " 'GeneratorExit',\n",
       " 'IOError',\n",
       " 'ImportError',\n",
       " 'ImportWarning',\n",
       " 'IndentationError',\n",
       " 'IndexError',\n",
       " 'InterruptedError',\n",
       " 'IsADirectoryError',\n",
       " 'KeyError',\n",
       " 'KeyboardInterrupt',\n",
       " 'LookupError',\n",
       " 'MemoryError',\n",
       " 'NameError',\n",
       " 'None',\n",
       " 'NotADirectoryError',\n",
       " 'NotImplemented',\n",
       " 'NotImplementedError',\n",
       " 'OSError',\n",
       " 'OverflowError',\n",
       " 'PendingDeprecationWarning',\n",
       " 'PermissionError',\n",
       " 'ProcessLookupError',\n",
       " 'RecursionError',\n",
       " 'ReferenceError',\n",
       " 'ResourceWarning',\n",
       " 'RuntimeError',\n",
       " 'RuntimeWarning',\n",
       " 'StopAsyncIteration',\n",
       " 'StopIteration',\n",
       " 'SyntaxError',\n",
       " 'SyntaxWarning',\n",
       " 'SystemError',\n",
       " 'SystemExit',\n",
       " 'TabError',\n",
       " 'TimeoutError',\n",
       " 'True',\n",
       " 'TypeError',\n",
       " 'UnboundLocalError',\n",
       " 'UnicodeDecodeError',\n",
       " 'UnicodeEncodeError',\n",
       " 'UnicodeError',\n",
       " 'UnicodeTranslateError',\n",
       " 'UnicodeWarning',\n",
       " 'UserWarning',\n",
       " 'ValueError',\n",
       " 'Warning',\n",
       " 'WindowsError',\n",
       " 'ZeroDivisionError',\n",
       " '__IPYTHON__',\n",
       " '__build_class__',\n",
       " '__debug__',\n",
       " '__doc__',\n",
       " '__import__',\n",
       " '__loader__',\n",
       " '__name__',\n",
       " '__package__',\n",
       " '__spec__',\n",
       " 'abs',\n",
       " 'all',\n",
       " 'any',\n",
       " 'ascii',\n",
       " 'bin',\n",
       " 'bool',\n",
       " 'bytearray',\n",
       " 'bytes',\n",
       " 'callable',\n",
       " 'chr',\n",
       " 'classmethod',\n",
       " 'compile',\n",
       " 'complex',\n",
       " 'copyright',\n",
       " 'credits',\n",
       " 'delattr',\n",
       " 'dict',\n",
       " 'dir',\n",
       " 'divmod',\n",
       " 'dreload',\n",
       " 'enumerate',\n",
       " 'eval',\n",
       " 'exec',\n",
       " 'filter',\n",
       " 'float',\n",
       " 'format',\n",
       " 'frozenset',\n",
       " 'get_ipython',\n",
       " 'getattr',\n",
       " 'globals',\n",
       " 'hasattr',\n",
       " 'hash',\n",
       " 'help',\n",
       " 'hex',\n",
       " 'id',\n",
       " 'input',\n",
       " 'int',\n",
       " 'isinstance',\n",
       " 'issubclass',\n",
       " 'iter',\n",
       " 'len',\n",
       " 'license',\n",
       " 'list',\n",
       " 'locals',\n",
       " 'map',\n",
       " 'max',\n",
       " 'memoryview',\n",
       " 'min',\n",
       " 'next',\n",
       " 'object',\n",
       " 'oct',\n",
       " 'open',\n",
       " 'ord',\n",
       " 'pow',\n",
       " 'print',\n",
       " 'property',\n",
       " 'range',\n",
       " 'repr',\n",
       " 'reversed',\n",
       " 'round',\n",
       " 'set',\n",
       " 'setattr',\n",
       " 'slice',\n",
       " 'sorted',\n",
       " 'staticmethod',\n",
       " 'str',\n",
       " 'sum',\n",
       " 'super',\n",
       " 'tuple',\n",
       " 'type',\n",
       " 'vars',\n",
       " 'zip']"
      ]
     },
     "execution_count": 50,
     "metadata": {},
     "output_type": "execute_result"
    }
   ],
   "source": [
    "dir(__builtins__)"
   ]
  },
  {
   "cell_type": "code",
   "execution_count": 51,
   "metadata": {
    "collapsed": false
   },
   "outputs": [
    {
     "name": "stdout",
     "output_type": "stream",
     "text": [
      "Help on class str in module builtins:\n",
      "\n",
      "class str(object)\n",
      " |  str(object='') -> str\n",
      " |  str(bytes_or_buffer[, encoding[, errors]]) -> str\n",
      " |  \n",
      " |  Create a new string object from the given object. If encoding or\n",
      " |  errors is specified, then the object must expose a data buffer\n",
      " |  that will be decoded using the given encoding and error handler.\n",
      " |  Otherwise, returns the result of object.__str__() (if defined)\n",
      " |  or repr(object).\n",
      " |  encoding defaults to sys.getdefaultencoding().\n",
      " |  errors defaults to 'strict'.\n",
      " |  \n",
      " |  Methods defined here:\n",
      " |  \n",
      " |  __add__(self, value, /)\n",
      " |      Return self+value.\n",
      " |  \n",
      " |  __contains__(self, key, /)\n",
      " |      Return key in self.\n",
      " |  \n",
      " |  __eq__(self, value, /)\n",
      " |      Return self==value.\n",
      " |  \n",
      " |  __format__(...)\n",
      " |      S.__format__(format_spec) -> str\n",
      " |      \n",
      " |      Return a formatted version of S as described by format_spec.\n",
      " |  \n",
      " |  __ge__(self, value, /)\n",
      " |      Return self>=value.\n",
      " |  \n",
      " |  __getattribute__(self, name, /)\n",
      " |      Return getattr(self, name).\n",
      " |  \n",
      " |  __getitem__(self, key, /)\n",
      " |      Return self[key].\n",
      " |  \n",
      " |  __getnewargs__(...)\n",
      " |  \n",
      " |  __gt__(self, value, /)\n",
      " |      Return self>value.\n",
      " |  \n",
      " |  __hash__(self, /)\n",
      " |      Return hash(self).\n",
      " |  \n",
      " |  __iter__(self, /)\n",
      " |      Implement iter(self).\n",
      " |  \n",
      " |  __le__(self, value, /)\n",
      " |      Return self<=value.\n",
      " |  \n",
      " |  __len__(self, /)\n",
      " |      Return len(self).\n",
      " |  \n",
      " |  __lt__(self, value, /)\n",
      " |      Return self<value.\n",
      " |  \n",
      " |  __mod__(self, value, /)\n",
      " |      Return self%value.\n",
      " |  \n",
      " |  __mul__(self, value, /)\n",
      " |      Return self*value.n\n",
      " |  \n",
      " |  __ne__(self, value, /)\n",
      " |      Return self!=value.\n",
      " |  \n",
      " |  __new__(*args, **kwargs) from builtins.type\n",
      " |      Create and return a new object.  See help(type) for accurate signature.\n",
      " |  \n",
      " |  __repr__(self, /)\n",
      " |      Return repr(self).\n",
      " |  \n",
      " |  __rmod__(self, value, /)\n",
      " |      Return value%self.\n",
      " |  \n",
      " |  __rmul__(self, value, /)\n",
      " |      Return self*value.\n",
      " |  \n",
      " |  __sizeof__(...)\n",
      " |      S.__sizeof__() -> size of S in memory, in bytes\n",
      " |  \n",
      " |  __str__(self, /)\n",
      " |      Return str(self).\n",
      " |  \n",
      " |  capitalize(...)\n",
      " |      S.capitalize() -> str\n",
      " |      \n",
      " |      Return a capitalized version of S, i.e. make the first character\n",
      " |      have upper case and the rest lower case.\n",
      " |  \n",
      " |  casefold(...)\n",
      " |      S.casefold() -> str\n",
      " |      \n",
      " |      Return a version of S suitable for caseless comparisons.\n",
      " |  \n",
      " |  center(...)\n",
      " |      S.center(width[, fillchar]) -> str\n",
      " |      \n",
      " |      Return S centered in a string of length width. Padding is\n",
      " |      done using the specified fill character (default is a space)\n",
      " |  \n",
      " |  count(...)\n",
      " |      S.count(sub[, start[, end]]) -> int\n",
      " |      \n",
      " |      Return the number of non-overlapping occurrences of substring sub in\n",
      " |      string S[start:end].  Optional arguments start and end are\n",
      " |      interpreted as in slice notation.\n",
      " |  \n",
      " |  encode(...)\n",
      " |      S.encode(encoding='utf-8', errors='strict') -> bytes\n",
      " |      \n",
      " |      Encode S using the codec registered for encoding. Default encoding\n",
      " |      is 'utf-8'. errors may be given to set a different error\n",
      " |      handling scheme. Default is 'strict' meaning that encoding errors raise\n",
      " |      a UnicodeEncodeError. Other possible values are 'ignore', 'replace' and\n",
      " |      'xmlcharrefreplace' as well as any other name registered with\n",
      " |      codecs.register_error that can handle UnicodeEncodeErrors.\n",
      " |  \n",
      " |  endswith(...)\n",
      " |      S.endswith(suffix[, start[, end]]) -> bool\n",
      " |      \n",
      " |      Return True if S ends with the specified suffix, False otherwise.\n",
      " |      With optional start, test S beginning at that position.\n",
      " |      With optional end, stop comparing S at that position.\n",
      " |      suffix can also be a tuple of strings to try.\n",
      " |  \n",
      " |  expandtabs(...)\n",
      " |      S.expandtabs(tabsize=8) -> str\n",
      " |      \n",
      " |      Return a copy of S where all tab characters are expanded using spaces.\n",
      " |      If tabsize is not given, a tab size of 8 characters is assumed.\n",
      " |  \n",
      " |  find(...)\n",
      " |      S.find(sub[, start[, end]]) -> int\n",
      " |      \n",
      " |      Return the lowest index in S where substring sub is found,\n",
      " |      such that sub is contained within S[start:end].  Optional\n",
      " |      arguments start and end are interpreted as in slice notation.\n",
      " |      \n",
      " |      Return -1 on failure.\n",
      " |  \n",
      " |  format(...)\n",
      " |      S.format(*args, **kwargs) -> str\n",
      " |      \n",
      " |      Return a formatted version of S, using substitutions from args and kwargs.\n",
      " |      The substitutions are identified by braces ('{' and '}').\n",
      " |  \n",
      " |  format_map(...)\n",
      " |      S.format_map(mapping) -> str\n",
      " |      \n",
      " |      Return a formatted version of S, using substitutions from mapping.\n",
      " |      The substitutions are identified by braces ('{' and '}').\n",
      " |  \n",
      " |  index(...)\n",
      " |      S.index(sub[, start[, end]]) -> int\n",
      " |      \n",
      " |      Like S.find() but raise ValueError when the substring is not found.\n",
      " |  \n",
      " |  isalnum(...)\n",
      " |      S.isalnum() -> bool\n",
      " |      \n",
      " |      Return True if all characters in S are alphanumeric\n",
      " |      and there is at least one character in S, False otherwise.\n",
      " |  \n",
      " |  isalpha(...)\n",
      " |      S.isalpha() -> bool\n",
      " |      \n",
      " |      Return True if all characters in S are alphabetic\n",
      " |      and there is at least one character in S, False otherwise.\n",
      " |  \n",
      " |  isdecimal(...)\n",
      " |      S.isdecimal() -> bool\n",
      " |      \n",
      " |      Return True if there are only decimal characters in S,\n",
      " |      False otherwise.\n",
      " |  \n",
      " |  isdigit(...)\n",
      " |      S.isdigit() -> bool\n",
      " |      \n",
      " |      Return True if all characters in S are digits\n",
      " |      and there is at least one character in S, False otherwise.\n",
      " |  \n",
      " |  isidentifier(...)\n",
      " |      S.isidentifier() -> bool\n",
      " |      \n",
      " |      Return True if S is a valid identifier according\n",
      " |      to the language definition.\n",
      " |      \n",
      " |      Use keyword.iskeyword() to test for reserved identifiers\n",
      " |      such as \"def\" and \"class\".\n",
      " |  \n",
      " |  islower(...)\n",
      " |      S.islower() -> bool\n",
      " |      \n",
      " |      Return True if all cased characters in S are lowercase and there is\n",
      " |      at least one cased character in S, False otherwise.\n",
      " |  \n",
      " |  isnumeric(...)\n",
      " |      S.isnumeric() -> bool\n",
      " |      \n",
      " |      Return True if there are only numeric characters in S,\n",
      " |      False otherwise.\n",
      " |  \n",
      " |  isprintable(...)\n",
      " |      S.isprintable() -> bool\n",
      " |      \n",
      " |      Return True if all characters in S are considered\n",
      " |      printable in repr() or S is empty, False otherwise.\n",
      " |  \n",
      " |  isspace(...)\n",
      " |      S.isspace() -> bool\n",
      " |      \n",
      " |      Return True if all characters in S are whitespace\n",
      " |      and there is at least one character in S, False otherwise.\n",
      " |  \n",
      " |  istitle(...)\n",
      " |      S.istitle() -> bool\n",
      " |      \n",
      " |      Return True if S is a titlecased string and there is at least one\n",
      " |      character in S, i.e. upper- and titlecase characters may only\n",
      " |      follow uncased characters and lowercase characters only cased ones.\n",
      " |      Return False otherwise.\n",
      " |  \n",
      " |  isupper(...)\n",
      " |      S.isupper() -> bool\n",
      " |      \n",
      " |      Return True if all cased characters in S are uppercase and there is\n",
      " |      at least one cased character in S, False otherwise.\n",
      " |  \n",
      " |  join(...)\n",
      " |      S.join(iterable) -> str\n",
      " |      \n",
      " |      Return a string which is the concatenation of the strings in the\n",
      " |      iterable.  The separator between elements is S.\n",
      " |  \n",
      " |  ljust(...)\n",
      " |      S.ljust(width[, fillchar]) -> str\n",
      " |      \n",
      " |      Return S left-justified in a Unicode string of length width. Padding is\n",
      " |      done using the specified fill character (default is a space).\n",
      " |  \n",
      " |  lower(...)\n",
      " |      S.lower() -> str\n",
      " |      \n",
      " |      Return a copy of the string S converted to lowercase.\n",
      " |  \n",
      " |  lstrip(...)\n",
      " |      S.lstrip([chars]) -> str\n",
      " |      \n",
      " |      Return a copy of the string S with leading whitespace removed.\n",
      " |      If chars is given and not None, remove characters in chars instead.\n",
      " |  \n",
      " |  partition(...)\n",
      " |      S.partition(sep) -> (head, sep, tail)\n",
      " |      \n",
      " |      Search for the separator sep in S, and return the part before it,\n",
      " |      the separator itself, and the part after it.  If the separator is not\n",
      " |      found, return S and two empty strings.\n",
      " |  \n",
      " |  replace(...)\n",
      " |      S.replace(old, new[, count]) -> str\n",
      " |      \n",
      " |      Return a copy of S with all occurrences of substring\n",
      " |      old replaced by new.  If the optional argument count is\n",
      " |      given, only the first count occurrences are replaced.\n",
      " |  \n",
      " |  rfind(...)\n",
      " |      S.rfind(sub[, start[, end]]) -> int\n",
      " |      \n",
      " |      Return the highest index in S where substring sub is found,\n",
      " |      such that sub is contained within S[start:end].  Optional\n",
      " |      arguments start and end are interpreted as in slice notation.\n",
      " |      \n",
      " |      Return -1 on failure.\n",
      " |  \n",
      " |  rindex(...)\n",
      " |      S.rindex(sub[, start[, end]]) -> int\n",
      " |      \n",
      " |      Like S.rfind() but raise ValueError when the substring is not found.\n",
      " |  \n",
      " |  rjust(...)\n",
      " |      S.rjust(width[, fillchar]) -> str\n",
      " |      \n",
      " |      Return S right-justified in a string of length width. Padding is\n",
      " |      done using the specified fill character (default is a space).\n",
      " |  \n",
      " |  rpartition(...)\n",
      " |      S.rpartition(sep) -> (head, sep, tail)\n",
      " |      \n",
      " |      Search for the separator sep in S, starting at the end of S, and return\n",
      " |      the part before it, the separator itself, and the part after it.  If the\n",
      " |      separator is not found, return two empty strings and S.\n",
      " |  \n",
      " |  rsplit(...)\n",
      " |      S.rsplit(sep=None, maxsplit=-1) -> list of strings\n",
      " |      \n",
      " |      Return a list of the words in S, using sep as the\n",
      " |      delimiter string, starting at the end of the string and\n",
      " |      working to the front.  If maxsplit is given, at most maxsplit\n",
      " |      splits are done. If sep is not specified, any whitespace string\n",
      " |      is a separator.\n",
      " |  \n",
      " |  rstrip(...)\n",
      " |      S.rstrip([chars]) -> str\n",
      " |      \n",
      " |      Return a copy of the string S with trailing whitespace removed.\n",
      " |      If chars is given and not None, remove characters in chars instead.\n",
      " |  \n",
      " |  split(...)\n",
      " |      S.split(sep=None, maxsplit=-1) -> list of strings\n",
      " |      \n",
      " |      Return a list of the words in S, using sep as the\n",
      " |      delimiter string.  If maxsplit is given, at most maxsplit\n",
      " |      splits are done. If sep is not specified or is None, any\n",
      " |      whitespace string is a separator and empty strings are\n",
      " |      removed from the result.\n",
      " |  \n",
      " |  splitlines(...)\n",
      " |      S.splitlines([keepends]) -> list of strings\n",
      " |      \n",
      " |      Return a list of the lines in S, breaking at line boundaries.\n",
      " |      Line breaks are not included in the resulting list unless keepends\n",
      " |      is given and true.\n",
      " |  \n",
      " |  startswith(...)\n",
      " |      S.startswith(prefix[, start[, end]]) -> bool\n",
      " |      \n",
      " |      Return True if S starts with the specified prefix, False otherwise.\n",
      " |      With optional start, test S beginning at that position.\n",
      " |      With optional end, stop comparing S at that position.\n",
      " |      prefix can also be a tuple of strings to try.\n",
      " |  \n",
      " |  strip(...)\n",
      " |      S.strip([chars]) -> str\n",
      " |      \n",
      " |      Return a copy of the string S with leading and trailing\n",
      " |      whitespace removed.\n",
      " |      If chars is given and not None, remove characters in chars instead.\n",
      " |  \n",
      " |  swapcase(...)\n",
      " |      S.swapcase() -> str\n",
      " |      \n",
      " |      Return a copy of S with uppercase characters converted to lowercase\n",
      " |      and vice versa.\n",
      " |  \n",
      " |  title(...)\n",
      " |      S.title() -> str\n",
      " |      \n",
      " |      Return a titlecased version of S, i.e. words start with title case\n",
      " |      characters, all remaining cased characters have lower case.\n",
      " |  \n",
      " |  translate(...)\n",
      " |      S.translate(table) -> str\n",
      " |      \n",
      " |      Return a copy of the string S in which each character has been mapped\n",
      " |      through the given translation table. The table must implement\n",
      " |      lookup/indexing via __getitem__, for instance a dictionary or list,\n",
      " |      mapping Unicode ordinals to Unicode ordinals, strings, or None. If\n",
      " |      this operation raises LookupError, the character is left untouched.\n",
      " |      Characters mapped to None are deleted.\n",
      " |  \n",
      " |  upper(...)\n",
      " |      S.upper() -> str\n",
      " |      \n",
      " |      Return a copy of S converted to uppercase.\n",
      " |  \n",
      " |  zfill(...)\n",
      " |      S.zfill(width) -> str\n",
      " |      \n",
      " |      Pad a numeric string S with zeros on the left, to fill a field\n",
      " |      of the specified width. The string S is never truncated.\n",
      " |  \n",
      " |  ----------------------------------------------------------------------\n",
      " |  Static methods defined here:\n",
      " |  \n",
      " |  maketrans(x, y=None, z=None, /)\n",
      " |      Return a translation table usable for str.translate().\n",
      " |      \n",
      " |      If there is only one argument, it must be a dictionary mapping Unicode\n",
      " |      ordinals (integers) or characters to Unicode ordinals, strings or None.\n",
      " |      Character keys will be then converted to ordinals.\n",
      " |      If there are two arguments, they must be strings of equal length, and\n",
      " |      in the resulting dictionary, each character in x will be mapped to the\n",
      " |      character at the same position in y. If there is a third argument, it\n",
      " |      must be a string, whose characters will be mapped to None in the result.\n",
      "\n"
     ]
    }
   ],
   "source": [
    "help(str)"
   ]
  },
  {
   "cell_type": "code",
   "execution_count": 52,
   "metadata": {
    "collapsed": true
   },
   "outputs": [],
   "source": [
    "## the nth Fibonacci number\n",
    "def fib(n):\n",
    "    \n",
    "    a, b = 0, 1\n",
    "    count = 1\n",
    "    while count < n:\n",
    "        a, b = b, a + b\n",
    "        count += 1\n",
    "    print(a)\n",
    "    "
   ]
  },
  {
   "cell_type": "code",
   "execution_count": 54,
   "metadata": {
    "collapsed": false
   },
   "outputs": [],
   "source": [
    "def fib1(n):\n",
    "    if n == 0 or n == 1:\n",
    "        return n\n",
    "    else:\n",
    "        return fib(n-1) + fib(n-2)"
   ]
  },
  {
   "cell_type": "code",
   "execution_count": 57,
   "metadata": {
    "collapsed": false
   },
   "outputs": [
    {
     "name": "stdout",
     "output_type": "stream",
     "text": [
      "126\n",
      "2\n",
      "1 1 1 1 1 0 "
     ]
    }
   ],
   "source": [
    "def foo(num,base):\n",
    "    if(num >= base):\n",
    "        foo(num // base , base)\n",
    "        print(num%base, end = ' ')\n",
    "\n",
    "numA = int(input())\n",
    "numB = int(input())\n",
    "foo(numA, numB)"
   ]
  },
  {
   "cell_type": "code",
   "execution_count": 58,
   "metadata": {
    "collapsed": false
   },
   "outputs": [
    {
     "data": {
      "text/plain": [
       "['__doc__',\n",
       " '__loader__',\n",
       " '__name__',\n",
       " '__package__',\n",
       " '__spec__',\n",
       " 'acos',\n",
       " 'acosh',\n",
       " 'asin',\n",
       " 'asinh',\n",
       " 'atan',\n",
       " 'atan2',\n",
       " 'atanh',\n",
       " 'ceil',\n",
       " 'copysign',\n",
       " 'cos',\n",
       " 'cosh',\n",
       " 'degrees',\n",
       " 'e',\n",
       " 'erf',\n",
       " 'erfc',\n",
       " 'exp',\n",
       " 'expm1',\n",
       " 'fabs',\n",
       " 'factorial',\n",
       " 'floor',\n",
       " 'fmod',\n",
       " 'frexp',\n",
       " 'fsum',\n",
       " 'gamma',\n",
       " 'gcd',\n",
       " 'hypot',\n",
       " 'inf',\n",
       " 'isclose',\n",
       " 'isfinite',\n",
       " 'isinf',\n",
       " 'isnan',\n",
       " 'ldexp',\n",
       " 'lgamma',\n",
       " 'log',\n",
       " 'log10',\n",
       " 'log1p',\n",
       " 'log2',\n",
       " 'modf',\n",
       " 'nan',\n",
       " 'pi',\n",
       " 'pow',\n",
       " 'radians',\n",
       " 'sin',\n",
       " 'sinh',\n",
       " 'sqrt',\n",
       " 'tan',\n",
       " 'tanh',\n",
       " 'trunc']"
      ]
     },
     "execution_count": 58,
     "metadata": {},
     "output_type": "execute_result"
    }
   ],
   "source": [
    "import math\n",
    "dir(math)"
   ]
  },
  {
   "cell_type": "code",
   "execution_count": 61,
   "metadata": {
    "collapsed": false
   },
   "outputs": [
    {
     "name": "stdout",
     "output_type": "stream",
     "text": [
      "C:\\Users\\dbsnail\\PersonalLearnings\n"
     ]
    }
   ],
   "source": [
    "import os\n",
    "print(os.getcwd())"
   ]
  },
  {
   "cell_type": "code",
   "execution_count": 62,
   "metadata": {
    "collapsed": true
   },
   "outputs": [],
   "source": [
    "path = r'C:\\Users\\dbsnail'\n",
    "os.chdir(path)"
   ]
  },
  {
   "cell_type": "code",
   "execution_count": 63,
   "metadata": {
    "collapsed": false
   },
   "outputs": [
    {
     "name": "stdout",
     "output_type": "stream",
     "text": [
      "C:\\Users\\dbsnail\n"
     ]
    }
   ],
   "source": [
    "print(os.getcwd())"
   ]
  },
  {
   "cell_type": "code",
   "execution_count": 64,
   "metadata": {
    "collapsed": false
   },
   "outputs": [
    {
     "data": {
      "text/plain": [
       "1"
      ]
     },
     "execution_count": 64,
     "metadata": {},
     "output_type": "execute_result"
    }
   ],
   "source": [
    "import random\n",
    "random.choice([1,2,3,4,5])"
   ]
  },
  {
   "cell_type": "code",
   "execution_count": 65,
   "metadata": {
    "collapsed": false
   },
   "outputs": [
    {
     "data": {
      "text/plain": [
       "169"
      ]
     },
     "execution_count": 65,
     "metadata": {},
     "output_type": "execute_result"
    }
   ],
   "source": [
    "random.randint(1,1000)"
   ]
  },
  {
   "cell_type": "code",
   "execution_count": 70,
   "metadata": {
    "collapsed": false
   },
   "outputs": [
    {
     "data": {
      "text/plain": [
       "0"
      ]
     },
     "execution_count": 70,
     "metadata": {},
     "output_type": "execute_result"
    }
   ],
   "source": [
    "random.randrange(0,10,2)"
   ]
  },
  {
   "cell_type": "code",
   "execution_count": 71,
   "metadata": {
    "collapsed": false
   },
   "outputs": [
    {
     "data": {
      "text/plain": [
       "0.05064951976210852"
      ]
     },
     "execution_count": 71,
     "metadata": {},
     "output_type": "execute_result"
    }
   ],
   "source": [
    "random.random()#random float within 0 and 1"
   ]
  },
  {
   "cell_type": "code",
   "execution_count": 72,
   "metadata": {
    "collapsed": false
   },
   "outputs": [
    {
     "data": {
      "text/plain": [
       "9.200365919789824"
      ]
     },
     "execution_count": 72,
     "metadata": {},
     "output_type": "execute_result"
    }
   ],
   "source": [
    "random.uniform(5,10) #random number within 5 and 10"
   ]
  },
  {
   "cell_type": "code",
   "execution_count": 73,
   "metadata": {
    "collapsed": false
   },
   "outputs": [
    {
     "data": {
      "text/plain": [
       "[2, 3, 15, 47, 88, 21, 86, 96, 97, 36]"
      ]
     },
     "execution_count": 73,
     "metadata": {},
     "output_type": "execute_result"
    }
   ],
   "source": [
    "random.sample(range(100),10) # pick 10 number from the range"
   ]
  },
  {
   "cell_type": "code",
   "execution_count": 75,
   "metadata": {
    "collapsed": false
   },
   "outputs": [
    {
     "data": {
      "text/plain": [
       "[17, 13, 15, 12, 16, 14, 11]"
      ]
     },
     "execution_count": 75,
     "metadata": {},
     "output_type": "execute_result"
    }
   ],
   "source": [
    "nums = [11, 12, 13, 14, 15, 16, 17]\n",
    "random.shuffle(nums)\n",
    "nums"
   ]
  },
  {
   "cell_type": "code",
   "execution_count": 76,
   "metadata": {
    "collapsed": false
   },
   "outputs": [
    {
     "data": {
      "text/plain": [
       "'Raj'"
      ]
     },
     "execution_count": 76,
     "metadata": {},
     "output_type": "execute_result"
    }
   ],
   "source": [
    "import random\n",
    "random.choice(['Leonard', 'Sheldon', 'Penny', 'Howard', 'Raj', 'Bernadette', 'Amy'])"
   ]
  },
  {
   "cell_type": "code",
   "execution_count": 77,
   "metadata": {
    "collapsed": false
   },
   "outputs": [
    {
     "data": {
      "text/plain": [
       "['MAXYEAR',\n",
       " 'MINYEAR',\n",
       " '__builtins__',\n",
       " '__cached__',\n",
       " '__doc__',\n",
       " '__file__',\n",
       " '__loader__',\n",
       " '__name__',\n",
       " '__package__',\n",
       " '__spec__',\n",
       " '_divide_and_round',\n",
       " 'date',\n",
       " 'datetime',\n",
       " 'datetime_CAPI',\n",
       " 'time',\n",
       " 'timedelta',\n",
       " 'timezone',\n",
       " 'tzinfo']"
      ]
     },
     "execution_count": 77,
     "metadata": {},
     "output_type": "execute_result"
    }
   ],
   "source": [
    "import datetime\n",
    "dir(datetime)"
   ]
  },
  {
   "cell_type": "code",
   "execution_count": 78,
   "metadata": {
    "collapsed": false
   },
   "outputs": [
    {
     "data": {
      "text/plain": [
       "datetime.date(2017, 10, 21)"
      ]
     },
     "execution_count": 78,
     "metadata": {},
     "output_type": "execute_result"
    }
   ],
   "source": [
    "from datetime import date\n",
    "\n",
    "date.today()"
   ]
  },
  {
   "cell_type": "code",
   "execution_count": 79,
   "metadata": {
    "collapsed": false
   },
   "outputs": [
    {
     "data": {
      "text/plain": [
       "datetime.time(23, 20, 35)"
      ]
     },
     "execution_count": 79,
     "metadata": {},
     "output_type": "execute_result"
    }
   ],
   "source": [
    "from datetime import time\n",
    "tm = time(23, 20,35)\n",
    "tm"
   ]
  },
  {
   "cell_type": "code",
   "execution_count": 87,
   "metadata": {
    "collapsed": false
   },
   "outputs": [
    {
     "name": "stdout",
     "output_type": "stream",
     "text": [
      "2017-10-21 18:55:10.991335\n"
     ]
    },
    {
     "data": {
      "text/plain": [
       "datetime.datetime(2017, 10, 21, 18, 55, 10, 991335)"
      ]
     },
     "execution_count": 87,
     "metadata": {},
     "output_type": "execute_result"
    }
   ],
   "source": [
    "from datetime import datetime\n",
    "dt = datetime.now()\n",
    "print(dt)\n",
    "dt"
   ]
  },
  {
   "cell_type": "code",
   "execution_count": 84,
   "metadata": {
    "collapsed": false
   },
   "outputs": [
    {
     "name": "stdout",
     "output_type": "stream",
     "text": [
      "Saturday, Oct 21 2017 18:51\n"
     ]
    }
   ],
   "source": [
    "print(dt.strftime('%A, %b %d %Y %H:%M'))"
   ]
  },
  {
   "cell_type": "code",
   "execution_count": 86,
   "metadata": {
    "collapsed": false
   },
   "outputs": [
    {
     "name": "stdout",
     "output_type": "stream",
     "text": [
      "2017-10-21 20:31:00\n"
     ]
    }
   ],
   "source": [
    "dt = datetime(2017, 10,21, 20,31)\n",
    "print(dt)"
   ]
  },
  {
   "cell_type": "code",
   "execution_count": 89,
   "metadata": {
    "collapsed": false
   },
   "outputs": [
    {
     "name": "stdout",
     "output_type": "stream",
     "text": [
      "1508626510.991335\n"
     ]
    }
   ],
   "source": [
    "ts = dt.timestamp()\n",
    "print(ts)"
   ]
  },
  {
   "cell_type": "code",
   "execution_count": 90,
   "metadata": {
    "collapsed": false
   },
   "outputs": [
    {
     "name": "stdout",
     "output_type": "stream",
     "text": [
      "2017-10-21 18:55:10.991335\n"
     ]
    }
   ],
   "source": [
    "print(datetime.fromtimestamp(ts))  #convert to local time"
   ]
  },
  {
   "cell_type": "code",
   "execution_count": 91,
   "metadata": {
    "collapsed": false
   },
   "outputs": [
    {
     "name": "stdout",
     "output_type": "stream",
     "text": [
      "Help on built-in function open in module io:\n",
      "\n",
      "open(file, mode='r', buffering=-1, encoding=None, errors=None, newline=None, closefd=True, opener=None)\n",
      "    Open file and return a stream.  Raise IOError upon failure.\n",
      "    \n",
      "    file is either a text or byte string giving the name (and the path\n",
      "    if the file isn't in the current working directory) of the file to\n",
      "    be opened or an integer file descriptor of the file to be\n",
      "    wrapped. (If a file descriptor is given, it is closed when the\n",
      "    returned I/O object is closed, unless closefd is set to False.)\n",
      "    \n",
      "    mode is an optional string that specifies the mode in which the file\n",
      "    is opened. It defaults to 'r' which means open for reading in text\n",
      "    mode.  Other common values are 'w' for writing (truncating the file if\n",
      "    it already exists), 'x' for creating and writing to a new file, and\n",
      "    'a' for appending (which on some Unix systems, means that all writes\n",
      "    append to the end of the file regardless of the current seek position).\n",
      "    In text mode, if encoding is not specified the encoding used is platform\n",
      "    dependent: locale.getpreferredencoding(False) is called to get the\n",
      "    current locale encoding. (For reading and writing raw bytes use binary\n",
      "    mode and leave encoding unspecified.) The available modes are:\n",
      "    \n",
      "    ========= ===============================================================\n",
      "    Character Meaning\n",
      "    --------- ---------------------------------------------------------------\n",
      "    'r'       open for reading (default)\n",
      "    'w'       open for writing, truncating the file first\n",
      "    'x'       create a new file and open it for writing\n",
      "    'a'       open for writing, appending to the end of the file if it exists\n",
      "    'b'       binary mode\n",
      "    't'       text mode (default)\n",
      "    '+'       open a disk file for updating (reading and writing)\n",
      "    'U'       universal newline mode (deprecated)\n",
      "    ========= ===============================================================\n",
      "    \n",
      "    The default mode is 'rt' (open for reading text). For binary random\n",
      "    access, the mode 'w+b' opens and truncates the file to 0 bytes, while\n",
      "    'r+b' opens the file without truncation. The 'x' mode implies 'w' and\n",
      "    raises an `FileExistsError` if the file already exists.\n",
      "    \n",
      "    Python distinguishes between files opened in binary and text modes,\n",
      "    even when the underlying operating system doesn't. Files opened in\n",
      "    binary mode (appending 'b' to the mode argument) return contents as\n",
      "    bytes objects without any decoding. In text mode (the default, or when\n",
      "    't' is appended to the mode argument), the contents of the file are\n",
      "    returned as strings, the bytes having been first decoded using a\n",
      "    platform-dependent encoding or using the specified encoding if given.\n",
      "    \n",
      "    'U' mode is deprecated and will raise an exception in future versions\n",
      "    of Python.  It has no effect in Python 3.  Use newline to control\n",
      "    universal newlines mode.\n",
      "    \n",
      "    buffering is an optional integer used to set the buffering policy.\n",
      "    Pass 0 to switch buffering off (only allowed in binary mode), 1 to select\n",
      "    line buffering (only usable in text mode), and an integer > 1 to indicate\n",
      "    the size of a fixed-size chunk buffer.  When no buffering argument is\n",
      "    given, the default buffering policy works as follows:\n",
      "    \n",
      "    * Binary files are buffered in fixed-size chunks; the size of the buffer\n",
      "      is chosen using a heuristic trying to determine the underlying device's\n",
      "      \"block size\" and falling back on `io.DEFAULT_BUFFER_SIZE`.\n",
      "      On many systems, the buffer will typically be 4096 or 8192 bytes long.\n",
      "    \n",
      "    * \"Interactive\" text files (files for which isatty() returns True)\n",
      "      use line buffering.  Other text files use the policy described above\n",
      "      for binary files.\n",
      "    \n",
      "    encoding is the name of the encoding used to decode or encode the\n",
      "    file. This should only be used in text mode. The default encoding is\n",
      "    platform dependent, but any encoding supported by Python can be\n",
      "    passed.  See the codecs module for the list of supported encodings.\n",
      "    \n",
      "    errors is an optional string that specifies how encoding errors are to\n",
      "    be handled---this argument should not be used in binary mode. Pass\n",
      "    'strict' to raise a ValueError exception if there is an encoding error\n",
      "    (the default of None has the same effect), or pass 'ignore' to ignore\n",
      "    errors. (Note that ignoring encoding errors can lead to data loss.)\n",
      "    See the documentation for codecs.register or run 'help(codecs.Codec)'\n",
      "    for a list of the permitted encoding error strings.\n",
      "    \n",
      "    newline controls how universal newlines works (it only applies to text\n",
      "    mode). It can be None, '', '\\n', '\\r', and '\\r\\n'.  It works as\n",
      "    follows:\n",
      "    \n",
      "    * On input, if newline is None, universal newlines mode is\n",
      "      enabled. Lines in the input can end in '\\n', '\\r', or '\\r\\n', and\n",
      "      these are translated into '\\n' before being returned to the\n",
      "      caller. If it is '', universal newline mode is enabled, but line\n",
      "      endings are returned to the caller untranslated. If it has any of\n",
      "      the other legal values, input lines are only terminated by the given\n",
      "      string, and the line ending is returned to the caller untranslated.\n",
      "    \n",
      "    * On output, if newline is None, any '\\n' characters written are\n",
      "      translated to the system default line separator, os.linesep. If\n",
      "      newline is '' or '\\n', no translation takes place. If newline is any\n",
      "      of the other legal values, any '\\n' characters written are translated\n",
      "      to the given string.\n",
      "    \n",
      "    If closefd is False, the underlying file descriptor will be kept open\n",
      "    when the file is closed. This does not work when a file name is given\n",
      "    and must be True in that case.\n",
      "    \n",
      "    A custom opener can be used by passing a callable as *opener*. The\n",
      "    underlying file descriptor for the file object is then obtained by\n",
      "    calling *opener* with (*file*, *flags*). *opener* must return an open\n",
      "    file descriptor (passing os.open as *opener* results in functionality\n",
      "    similar to passing None).\n",
      "    \n",
      "    open() returns a file object whose type depends on the mode, and\n",
      "    through which the standard file operations such as reading and writing\n",
      "    are performed. When open() is used to open a file in a text mode ('w',\n",
      "    'r', 'wt', 'rt', etc.), it returns a TextIOWrapper. When used to open\n",
      "    a file in a binary mode, the returned class varies: in read binary\n",
      "    mode, it returns a BufferedReader; in write binary and append binary\n",
      "    modes, it returns a BufferedWriter, and in read/write mode, it returns\n",
      "    a BufferedRandom.\n",
      "    \n",
      "    It is also possible to use a string or bytearray as a file for both\n",
      "    reading and writing. For strings StringIO can be used like a file\n",
      "    opened in a text mode, and for bytes a BytesIO can be used like a file\n",
      "    opened in a binary mode.\n",
      "\n"
     ]
    }
   ],
   "source": [
    "help(open)"
   ]
  },
  {
   "cell_type": "code",
   "execution_count": 92,
   "metadata": {
    "collapsed": true
   },
   "outputs": [],
   "source": [
    "import requests"
   ]
  },
  {
   "cell_type": "code",
   "execution_count": 93,
   "metadata": {
    "collapsed": true
   },
   "outputs": [],
   "source": [
    "r = requests.get('https://book.douban.com/subject/1084336/comments')"
   ]
  },
  {
   "cell_type": "code",
   "execution_count": 94,
   "metadata": {
    "collapsed": false
   },
   "outputs": [
    {
     "data": {
      "text/plain": [
       "200"
      ]
     },
     "execution_count": 94,
     "metadata": {},
     "output_type": "execute_result"
    }
   ],
   "source": [
    "r.status_code"
   ]
  },
  {
   "cell_type": "code",
   "execution_count": 95,
   "metadata": {
    "collapsed": false
   },
   "outputs": [
    {
     "data": {
      "text/plain": [
       "'\\n\\n<!DOCTYPE html>\\n<html lang=\"zh-cmn-Hans\" class=\" book-new-nav\">\\n<head>\\n  <meta http-equiv=\"Content-Type\" content=\"text/html; charset=utf-8\">\\n  <title>\\n    小王子 短评\\n</title>\\n  \\n<script>!function(e){var o=function(o,n,t){var c,i,r=new Date;n=n||30,t=t||\"/\",r.setTime(r.getTime()+24*n*60*60*1e3),c=\"; expires=\"+r.toGMTString();for(i in o)e.cookie=i+\"=\"+o[i]+c+\"; path=\"+t},n=function(o){var n,t,c,i=o+\"=\",r=e.cookie.split(\";\");for(t=0,c=r.length;t<c;t++)if(n=r[t].replace(/^\\\\s+|\\\\s+$/g,\"\"),0==n.indexOf(i))return n.substring(i.length,n.length).replace(/\\\\\"/g,\"\");return null},t=e.write,c={\"douban.com\":1,\"douban.fm\":1,\"google.com\":1,\"google.cn\":1,\"googleapis.com\":1,\"gmaptiles.co.kr\":1,\"gstatic.com\":1,\"gstatic.cn\":1,\"google-analytics.com\":1,\"googleadservices.com\":1},i=function(e,o){var n=new Image;n.onload=function(){},n.src=\"https://www.douban.com/j/except_report?kind=ra022&reason=\"+encodeURIComponent(e)+\"&environment=\"+encodeURIComponent(o)},r=function(o){try{t.call(e,o)}catch(e){t(o)}},a=/<script.*?src\\\\=[\"\\']?([^\"\\'\\\\s>]+)/gi,g=/http:\\\\/\\\\/(.+?)\\\\.([^\\\\/]+).+/i;e.writeln=e.write=function(e){var t,l=a.exec(e);return l&&(t=g.exec(l[1]))?c[t[2]]?void r(e):void(\"tqs\"!==n(\"hj\")&&(i(l[1],location.href),o({hj:\"tqs\"},1),setTimeout(function(){location.replace(location.href)},50))):void r(e)}}(document);\\n</script>\\n\\n  \\n    <meta http-equiv=\"Pragma\" content=\"no-cache\">\\n    <meta http-equiv=\"Expires\" content=\"Sun, 6 Mar 2005 01:00:00 GMT\">\\n    \\n    <script >var _head_start = new Date();</script>\\n    <script src=\"https://img3.doubanio.com/f/book/0495cb173e298c28593766009c7b0a953246c5b5/js/book/lib/jquery/jquery.js\"></script>\\n    <script src=\"https://img3.doubanio.com/f/book/0f1957d4c436280f238b0295e4d0ba6855510555/js/book/master.js\"></script>\\n    <link href=\"https://img3.doubanio.com/f/shire/94213e812acbb00123f685909b4768bb304d16f3/css/douban.css\" rel=\"stylesheet\" type=\"text/css\">\\n    <link href=\"https://img3.doubanio.com/f/shire/8377b9498330a2e6f056d863987cc7a37eb4d486/css/ui/dialog.css\" rel=\"stylesheet\" type=\"text/css\">\\n    <link href=\"https://img3.doubanio.com/f/book/8a9d097c416aabac4f7e45f5d2ce9c6834b3fc7a/css/book/base/init.css\" rel=\"stylesheet\">\\n    <style type=\"text/css\">\\n    \\n        \\n    </style>\\n    \\n<link rel=\"stylesheet\" href=\"https://img3.doubanio.com/f/book/7b582d46a76eb4852219ba472dd4476bb40f3dba/css/book/subject/comment.css\"/>\\n<meta name=\"mobile-agent\" content=\"format=html5; url=http://m.douban.com/book/subject/1084336/comments\"/>\\n\\n    <!-- COLLECTED CSS -->\\n    <script></script>\\n\\n  <link rel=\"shortcut icon\" href=\"https://img3.doubanio.com/favicon.ico\" type=\"image/x-icon\">\\n</head>\\n<body>\\n  \\n    <script>var _body_start = new Date();</script>\\n    \\n  \\n\\n\\n\\n    <link href=\"//img3.doubanio.com/dae/accounts/resources/321e246/shire/bundle.css\" rel=\"stylesheet\" type=\"text/css\">\\n\\n\\n\\n<div id=\"db-global-nav\" class=\"global-nav\">\\n  <div class=\"bd\">\\n    \\n<div class=\"top-nav-info\">\\n  <a href=\"https://www.douban.com/accounts/login?source=book\" class=\"nav-login\" rel=\"nofollow\">登录</a>\\n  <a href=\"https://www.douban.com/accounts/register?source=book\" class=\"nav-register\" rel=\"nofollow\">注册</a>\\n</div>\\n\\n\\n    \\n<div class=\"top-nav-doubanapp\">\\n  <a href=\"https://www.douban.com/doubanapp/app?channel=top-nav\" class=\"lnk-doubanapp\">下载豆瓣客户端</a>\\n  <div id=\"top-nav-appintro\" class=\"more-items\">\\n    <p class=\"appintro-title\">豆瓣</p>\\n    <p class=\"slogan\">我们的精神角落</p>\\n    <p class=\"qrcode\">扫码直接下载</p>\\n    <div class=\"download\">\\n      <a href=\"https://www.douban.com/doubanapp/redirect?channel=top-nav&direct_dl=1&download=iOS\">iPhone</a>\\n      <span>·</span>\\n      <a href=\"https://www.douban.com/doubanapp/redirect?channel=top-nav&direct_dl=1&download=Android\" class=\"download-android\">Android</a>\\n    </div>\\n    <div id=\"doubanapp-tip\">\\n      <a href=\"https://www.douban.com/doubanapp/app?channel=qipao\" class=\"tip-link\">豆瓣 5.0 全新发布</a>\\n      <a href=\"javascript: void 0;\" class=\"tip-close\">×</a>\\n    </div>\\n  </div>\\n</div>\\n\\n    \\n\\n\\n<div class=\"global-nav-items\">\\n  <ul>\\n    <li class=\"\">\\n      <a href=\"https://www.douban.com\" target=\"_blank\" data-moreurl-dict=\"{&quot;from&quot;:&quot;top-nav-click-main&quot;,&quot;uid&quot;:&quot;0&quot;}\">豆瓣</a>\\n    </li>\\n    <li class=\"on\">\\n      <a href=\"https://book.douban.com\"  data-moreurl-dict=\"{&quot;from&quot;:&quot;top-nav-click-book&quot;,&quot;uid&quot;:&quot;0&quot;}\">读书</a>\\n    </li>\\n    <li class=\"\">\\n      <a href=\"https://movie.douban.com\" target=\"_blank\" data-moreurl-dict=\"{&quot;from&quot;:&quot;top-nav-click-movie&quot;,&quot;uid&quot;:&quot;0&quot;}\">电影</a>\\n    </li>\\n    <li class=\"\">\\n      <a href=\"https://music.douban.com\" target=\"_blank\" data-moreurl-dict=\"{&quot;from&quot;:&quot;top-nav-click-music&quot;,&quot;uid&quot;:&quot;0&quot;}\">音乐</a>\\n    </li>\\n    <li class=\"\">\\n      <a href=\"https://www.douban.com/location\" target=\"_blank\" data-moreurl-dict=\"{&quot;from&quot;:&quot;top-nav-click-location&quot;,&quot;uid&quot;:&quot;0&quot;}\">同城</a>\\n    </li>\\n    <li class=\"\">\\n      <a href=\"https://www.douban.com/group\" target=\"_blank\" data-moreurl-dict=\"{&quot;from&quot;:&quot;top-nav-click-group&quot;,&quot;uid&quot;:&quot;0&quot;}\">小组</a>\\n    </li>\\n    <li class=\"\">\\n      <a href=\"https://read.douban.com&#47;?dcs=top-nav&amp;dcm=douban\" target=\"_blank\" data-moreurl-dict=\"{&quot;from&quot;:&quot;top-nav-click-read&quot;,&quot;uid&quot;:&quot;0&quot;}\">阅读</a>\\n    </li>\\n    <li class=\"\">\\n      <a href=\"https://douban.fm&#47;?from_=shire_top_nav\" target=\"_blank\" data-moreurl-dict=\"{&quot;from&quot;:&quot;top-nav-click-fm&quot;,&quot;uid&quot;:&quot;0&quot;}\">FM</a>\\n    </li>\\n    <li class=\"\">\\n      <a href=\"https://www.douban.com/time&#47;?dt_time_source=douban-web_top_nav\" target=\"_blank\" data-moreurl-dict=\"{&quot;from&quot;:&quot;top-nav-click-time&quot;,&quot;uid&quot;:&quot;0&quot;}\">时间</a>\\n    </li>\\n    <li class=\"\">\\n      <a href=\"https://dongxi.douban.com&#47;?dcs=top-nav&amp;dcm=douban\" target=\"_blank\" data-moreurl-dict=\"{&quot;from&quot;:&quot;top-nav-click-commodity&quot;,&quot;uid&quot;:&quot;0&quot;}\">东西</a>\\n    </li>\\n    <li class=\"\">\\n      <a href=\"https://market.douban.com&#47;?utm_campaign=douban_top_nav&amp;utm_source=douban&amp;utm_medium=pc_web\" target=\"_blank\" data-moreurl-dict=\"{&quot;from&quot;:&quot;top-nav-click-market&quot;,&quot;uid&quot;:&quot;0&quot;}\">市集</a>\\n    </li>\\n    <li>\\n      <a href=\"#more\" class=\"bn-more\"><span>更多</span></a>\\n      <div class=\"more-items\">\\n        <table cellpadding=\"0\" cellspacing=\"0\">\\n          <tbody>\\n            <tr>\\n              <td>\\n                <a href=\"https://ypy.douban.com\" target=\"_blank\" data-moreurl-dict=\"{&quot;from&quot;:&quot;top-nav-click-ypy&quot;,&quot;uid&quot;:&quot;0&quot;}\">豆瓣摄影</a>\\n              </td>\\n            </tr>\\n          </tbody>\\n        </table>\\n      </div>\\n    </li>\\n  </ul>\\n</div>\\n\\n  </div>\\n</div>\\n<script>\\n  ;window._GLOBAL_NAV = {\\n    DOUBAN_URL: \"https://www.douban.com\",\\n    N_NEW_NOTIS: 0,\\n    N_NEW_DOUMAIL: 0\\n  };\\n</script>\\n\\n\\n\\n    <script src=\"//img3.doubanio.com/dae/accounts/resources/321e246/shire/bundle.js\" defer=\"defer\"></script>\\n\\n\\n\\n\\n  \\n\\n\\n\\n    <link href=\"//img3.doubanio.com/dae/accounts/resources/321e246/book/bundle.css\" rel=\"stylesheet\" type=\"text/css\">\\n\\n\\n\\n\\n<div id=\"db-nav-book\" class=\"nav\">\\n  <div class=\"nav-wrap\">\\n  <div class=\"nav-primary\">\\n    <div class=\"nav-logo\">\\n      <a href=\"https:&#47;&#47;book.douban.com\">豆瓣读书</a>\\n    </div>\\n    <div class=\"nav-search\">\\n      <form action=\"https:&#47;&#47;book.douban.com/subject_search\" method=\"get\">\\n        <fieldset>\\n          <legend>搜索：</legend>\\n          <label for=\"inp-query\">\\n          </label>\\n          <div class=\"inp\"><input id=\"inp-query\" name=\"search_text\" size=\"22\" maxlength=\"60\" placeholder=\"书名、作者、ISBN\" value=\"\"></div>\\n          <div class=\"inp-btn\"><input type=\"submit\" value=\"搜索\"></div>\\n          <input type=\"hidden\" name=\"cat\" value=\"1001\" />\\n        </fieldset>\\n      </form>\\n    </div>\\n  </div>\\n  </div>\\n  <div class=\"nav-secondary\">\\n    \\n\\n<div class=\"nav-items\">\\n  <ul>\\n    <li    ><a href=\"https://book.douban.com/cart/\"\\n     >购书单</a>\\n    </li>\\n    <li    ><a href=\"https://read.douban.com/ebooks/?dcs=book-nav&dcm=douban\"\\n            target=\"_blank\"\\n     >电子图书</a>\\n    </li>\\n    <li    ><a href=\"https://market.douban.com/book?utm_campaign=book_nav_freyr&utm_source=douban&utm_medium=pc_web\"\\n     >豆瓣书店</a>\\n    </li>\\n    <li    ><a href=\"https://book.douban.com/annual2016/?source=navigation\"\\n            target=\"_blank\"\\n     >2016年度榜单</a>\\n    </li>\\n    <li    ><a href=\"https://book.douban.com/standbyme/2016?source=navigation\"\\n            target=\"_blank\"\\n     >2016读书报告</a>\\n    </li>\\n    <li          class=\" book-cart\"\\n    ><a href=\"https://market.douban.com/cart/?utm_campaign=book_nav_cart&utm_source=douban&utm_medium=pc_web\"\\n            target=\"_blank\"\\n     >购物车</a>\\n    </li>\\n  </ul>\\n</div>\\n\\n  </div>\\n</div>\\n\\n<script id=\"suggResult\" type=\"text/x-jquery-tmpl\">\\n  <li data-link=\"{{= url}}\">\\n            <a href=\"{{= url}}\" onclick=\"moreurl(this, {from:\\'book_search_sugg\\', query:\\'{{= keyword }}\\', subject_id:\\'{{= id}}\\', i: \\'{{= index}}\\', type: \\'{{= type}}\\'})\">\\n            <img src=\"{{= pic}}\" width=\"40\" />\\n            <div>\\n                <em>{{= title}}</em>\\n                {{if year}}\\n                    <span>{{= year}}</span>\\n                {{/if}}\\n                <p>\\n                {{if type == \"b\"}}\\n                    {{= author_name}}\\n                {{else type == \"a\" }}\\n                    {{if en_name}}\\n                        {{= en_name}}\\n                    {{/if}}\\n                {{/if}}\\n                 </p>\\n            </div>\\n        </a>\\n        </li>\\n  </script>\\n\\n\\n\\n\\n    <script src=\"//img3.doubanio.com/dae/accounts/resources/321e246/book/bundle.js\" defer=\"defer\"></script>\\n\\n\\n\\n\\n\\n    <div id=\"wrapper\">\\n        \\n        \\n  <div id=\"content\">\\n    \\n    <h1>小王子 短评</h1>\\n\\n    <div class=\"grid-16-8 clearfix\">\\n      \\n      <div class=\"article\">\\n<div class=\"comments-wrapper\">\\n    <div class=\"nav-tab title_line clearfix\">\\n        \\n    <span id=\"total-comments\">全部共 49896 条</span>\\n\\n        \\n    <div class=\"tabs-wrapper fright \">\\n        <a class=\"short-comment-tabs on-tab\" href=\"hot\" data-tab=\"hot\">热门</a>\\n        <span>/</span>\\n        <a class=\"short-comment-tabs \" href=\"new\" data-tab=\"new\">最新</a>\\n        <span>/</span>\\n        <a class=\"j a_show_login \" href=\"follows\" data-tab=\"follows\">好友</a>\\n    </div>\\n\\n    </div>\\n    <div id=\"comment-list-wrapper\">\\n        \\n\\n<div id=\"comments\" class=\"comment-list hot \">\\n        <ul>\\n                \\n    <li class=\"comment-item\" data-cid=\"10287387\">\\n            <div class=\"avatar\">\\n                <a title=\"眠去\" href=\"https://www.douban.com/people/rebekah/\">\\n                    <img src=\"https://img3.doubanio.com/icon/u1418881-44.jpg\">\\n                </a>\\n            </div>\\n        <div class=\"comment\">\\n            <h3>\\n                <span class=\"comment-vote\">\\n                    <span id=\"c-10287387\" class=\"vote-count\">1570</span>\\n                        <a href=\"javascript:;\" id=\"btn-10287387\" class=\"j a_show_login\" data-cid=\"10287387\">有用</a>\\n                </span>\\n                <span class=\"comment-info\">\\n                    <a href=\"https://www.douban.com/people/rebekah/\">眠去</a>\\n                        <span class=\"user-stars allstar50 rating\" title=\"力荐\"></span>\\n                    <span>2007-02-08</span>\\n                </span>\\n            </h3>\\n            <p class=\"comment-content\">十几岁的时候渴慕着小王子，一天之间可以看四十四次日落。是在多久之后才明白，看四十四次日落的小王子，他有多么难过。</p>\\n        </div>\\n    </li>\\n\\n                \\n    <li class=\"comment-item\" data-cid=\"480104477\">\\n            <div class=\"avatar\">\\n                <a title=\"小岩井\" href=\"https://www.douban.com/people/koiwai0908/\">\\n                    <img src=\"https://img3.doubanio.com/icon/u45442872-6.jpg\">\\n                </a>\\n            </div>\\n        <div class=\"comment\">\\n            <h3>\\n                <span class=\"comment-vote\">\\n                    <span id=\"c-480104477\" class=\"vote-count\">854</span>\\n                        <a href=\"javascript:;\" id=\"btn-480104477\" class=\"j a_show_login\" data-cid=\"480104477\">有用</a>\\n                </span>\\n                <span class=\"comment-info\">\\n                    <a href=\"https://www.douban.com/people/koiwai0908/\">小岩井</a>\\n                    <span>2012-01-09</span>\\n                </span>\\n            </h3>\\n            <p class=\"comment-content\">读了好多年，终于读完了，但是实在共鸣不起来，虽然知道那些道理，但真的觉得没什么了不起啊，是我还太幼稚吗？</p>\\n        </div>\\n    </li>\\n\\n                \\n    <li class=\"comment-item\" data-cid=\"851287159\">\\n            <div class=\"avatar\">\\n                <a title=\"[已注销]\" href=\"https://www.douban.com/people/kse7en/\">\\n                    <img src=\"https://img1.doubanio.com/icon/user_normal.jpg\">\\n                </a>\\n            </div>\\n        <div class=\"comment\">\\n            <h3>\\n                <span class=\"comment-vote\">\\n                    <span id=\"c-851287159\" class=\"vote-count\">766</span>\\n                        <a href=\"javascript:;\" id=\"btn-851287159\" class=\"j a_show_login\" data-cid=\"851287159\">有用</a>\\n                </span>\\n                <span class=\"comment-info\">\\n                    <a href=\"https://www.douban.com/people/kse7en/\">[已注销]</a>\\n                        <span class=\"user-stars allstar50 rating\" title=\"力荐\"></span>\\n                    <span>2014-10-05</span>\\n                </span>\\n            </h3>\\n            <p class=\"comment-content\">我早该猜到，在她那可笑的伎俩后面是缱绻柔情啊。花朵是如此的天真无邪，可是，我毕竟太年轻了，不知该如何去爱她。</p>\\n        </div>\\n    </li>\\n\\n                \\n    <li class=\"comment-item\" data-cid=\"575471489\">\\n            <div class=\"avatar\">\\n                <a title=\"渍\" href=\"https://www.douban.com/people/phoebejk/\">\\n                    <img src=\"https://img3.doubanio.com/icon/u3735640-166.jpg\">\\n                </a>\\n            </div>\\n        <div class=\"comment\">\\n            <h3>\\n                <span class=\"comment-vote\">\\n                    <span id=\"c-575471489\" class=\"vote-count\">564</span>\\n                        <a href=\"javascript:;\" id=\"btn-575471489\" class=\"j a_show_login\" data-cid=\"575471489\">有用</a>\\n                </span>\\n                <span class=\"comment-info\">\\n                    <a href=\"https://www.douban.com/people/phoebejk/\">渍</a>\\n                        <span class=\"user-stars allstar50 rating\" title=\"力荐\"></span>\\n                    <span>2012-09-01</span>\\n                </span>\\n            </h3>\\n            <p class=\"comment-content\">我的玫瑰花儿，只有四个微不足道的刺，用来抵御这个世界。</p>\\n        </div>\\n    </li>\\n\\n                \\n    <li class=\"comment-item\" data-cid=\"713800182\">\\n            <div class=\"avatar\">\\n                <a title=\"陈毓秀\" href=\"https://www.douban.com/people/54793495/\">\\n                    <img src=\"https://img3.doubanio.com/icon/u54793495-135.jpg\">\\n                </a>\\n            </div>\\n        <div class=\"comment\">\\n            <h3>\\n                <span class=\"comment-vote\">\\n                    <span id=\"c-713800182\" class=\"vote-count\">357</span>\\n                        <a href=\"javascript:;\" id=\"btn-713800182\" class=\"j a_show_login\" data-cid=\"713800182\">有用</a>\\n                </span>\\n                <span class=\"comment-info\">\\n                    <a href=\"https://www.douban.com/people/54793495/\">陈毓秀</a>\\n                        <span class=\"user-stars allstar10 rating\" title=\"很差\"></span>\\n                    <span>2013-08-10</span>\\n                </span>\\n            </h3>\\n            <p class=\"comment-content\">谁能告诉俺，小王子这种书有什么好看的？</p>\\n        </div>\\n    </li>\\n\\n                \\n    <li class=\"comment-item\" data-cid=\"349150347\">\\n            <div class=\"avatar\">\\n                <a title=\"猫伯爵\" href=\"https://www.douban.com/people/guo_betty/\">\\n                    <img src=\"https://img1.doubanio.com/icon/u1126291-7.jpg\">\\n                </a>\\n            </div>\\n        <div class=\"comment\">\\n            <h3>\\n                <span class=\"comment-vote\">\\n                    <span id=\"c-349150347\" class=\"vote-count\">328</span>\\n                        <a href=\"javascript:;\" id=\"btn-349150347\" class=\"j a_show_login\" data-cid=\"349150347\">有用</a>\\n                </span>\\n                <span class=\"comment-info\">\\n                    <a href=\"https://www.douban.com/people/guo_betty/\">猫伯爵</a>\\n                        <span class=\"user-stars allstar50 rating\" title=\"力荐\"></span>\\n                    <span>2011-02-04</span>\\n                </span>\\n            </h3>\\n            <p class=\"comment-content\">他像一颗树那样倒了下去</p>\\n        </div>\\n    </li>\\n\\n                \\n    <li class=\"comment-item\" data-cid=\"26285645\">\\n            <div class=\"avatar\">\\n                <a title=\"北溟鱼\" href=\"https://www.douban.com/people/julia1989/\">\\n                    <img src=\"https://img3.doubanio.com/icon/u1339639-60.jpg\">\\n                </a>\\n            </div>\\n        <div class=\"comment\">\\n            <h3>\\n                <span class=\"comment-vote\">\\n                    <span id=\"c-26285645\" class=\"vote-count\">129</span>\\n                        <a href=\"javascript:;\" id=\"btn-26285645\" class=\"j a_show_login\" data-cid=\"26285645\">有用</a>\\n                </span>\\n                <span class=\"comment-info\">\\n                    <a href=\"https://www.douban.com/people/julia1989/\">北溟鱼</a>\\n                    <span>2007-12-15</span>\\n                </span>\\n            </h3>\\n            <p class=\"comment-content\">不能理解的是，為什么它忽然紅成這樣？</p>\\n        </div>\\n    </li>\\n\\n                \\n    <li class=\"comment-item\" data-cid=\"961360514\">\\n            <div class=\"avatar\">\\n                <a title=\"把酒临风之菱夏\" href=\"https://www.douban.com/people/qianlishuitiany/\">\\n                    <img src=\"https://img1.doubanio.com/icon/u4869978-48.jpg\">\\n                </a>\\n            </div>\\n        <div class=\"comment\">\\n            <h3>\\n                <span class=\"comment-vote\">\\n                    <span id=\"c-961360514\" class=\"vote-count\">124</span>\\n                        <a href=\"javascript:;\" id=\"btn-961360514\" class=\"j a_show_login\" data-cid=\"961360514\">有用</a>\\n                </span>\\n                <span class=\"comment-info\">\\n                    <a href=\"https://www.douban.com/people/qianlishuitiany/\">把酒临风之菱夏</a>\\n                        <span class=\"user-stars allstar30 rating\" title=\"还行\"></span>\\n                    <span>2015-09-23</span>\\n                </span>\\n            </h3>\\n            <p class=\"comment-content\">虽然我实在幼稚，但我并不怎么喜欢孩童般的纯净，我只爱风浪过后的平静，流水打磨出的清亮，大雪纷飞时的安宁，沧桑看透的纯真，我爱眼冷心热的庄子，人究竟无所逃于天地之间，各适其性，做自己认为有意义的事就好了，无论是统治宇宙还是喝酒点灯，对他们来说，都比爱一朵玫瑰重要，这不是很好的么</p>\\n        </div>\\n    </li>\\n\\n                \\n    <li class=\"comment-item\" data-cid=\"193119339\">\\n            <div class=\"avatar\">\\n                <a title=\"黛安Diane\" href=\"https://www.douban.com/people/sweetmm/\">\\n                    <img src=\"https://img1.doubanio.com/icon/u3234209-57.jpg\">\\n                </a>\\n            </div>\\n        <div class=\"comment\">\\n            <h3>\\n                <span class=\"comment-vote\">\\n                    <span id=\"c-193119339\" class=\"vote-count\">187</span>\\n                        <a href=\"javascript:;\" id=\"btn-193119339\" class=\"j a_show_login\" data-cid=\"193119339\">有用</a>\\n                </span>\\n                <span class=\"comment-info\">\\n                    <a href=\"https://www.douban.com/people/sweetmm/\">黛安Diane</a>\\n                        <span class=\"user-stars allstar50 rating\" title=\"力荐\"></span>\\n                    <span>2009-12-22</span>\\n                </span>\\n            </h3>\\n            <p class=\"comment-content\">说实话 我看不太懂 但还是跟风给个5星吧 以显示我也是有思想有学识之人</p>\\n        </div>\\n    </li>\\n\\n                \\n    <li class=\"comment-item\" data-cid=\"453513383\">\\n            <div class=\"avatar\">\\n                <a title=\"何小沁\" href=\"https://www.douban.com/people/hexiaoqin/\">\\n                    <img src=\"https://img3.doubanio.com/icon/u10969301-311.jpg\">\\n                </a>\\n            </div>\\n        <div class=\"comment\">\\n            <h3>\\n                <span class=\"comment-vote\">\\n                    <span id=\"c-453513383\" class=\"vote-count\">115</span>\\n                        <a href=\"javascript:;\" id=\"btn-453513383\" class=\"j a_show_login\" data-cid=\"453513383\">有用</a>\\n                </span>\\n                <span class=\"comment-info\">\\n                    <a href=\"https://www.douban.com/people/hexiaoqin/\">何小沁</a>\\n                        <span class=\"user-stars allstar40 rating\" title=\"推荐\"></span>\\n                    <span>2011-11-04</span>\\n                </span>\\n            </h3>\\n            <p class=\"comment-content\">It is the time you have wasted for your rose that makes your rose so important.</p>\\n        </div>\\n    </li>\\n\\n                \\n    <li class=\"comment-item\" data-cid=\"182423079\">\\n            <div class=\"avatar\">\\n                <a title=\"蛇\" href=\"https://www.douban.com/people/tomienn_9crimes/\">\\n                    <img src=\"https://img3.doubanio.com/icon/u4599201-790.jpg\">\\n                </a>\\n            </div>\\n        <div class=\"comment\">\\n            <h3>\\n                <span class=\"comment-vote\">\\n                    <span id=\"c-182423079\" class=\"vote-count\">131</span>\\n                        <a href=\"javascript:;\" id=\"btn-182423079\" class=\"j a_show_login\" data-cid=\"182423079\">有用</a>\\n                </span>\\n                <span class=\"comment-info\">\\n                    <a href=\"https://www.douban.com/people/tomienn_9crimes/\">蛇</a>\\n                        <span class=\"user-stars allstar40 rating\" title=\"推荐\"></span>\\n                    <span>2009-11-25</span>\\n                </span>\\n            </h3>\\n            <p class=\"comment-content\">狐狸告诉小王子的秘密是：用心去看才看得清楚；是分离让小王子更思念他的玫瑰；爱就是责任。 \\r\\n</p>\\n        </div>\\n    </li>\\n\\n                \\n    <li class=\"comment-item\" data-cid=\"456621403\">\\n            <div class=\"avatar\">\\n                <a title=\"7酱™\" href=\"https://www.douban.com/people/maxineY/\">\\n                    <img src=\"https://img3.doubanio.com/icon/u41406642-871.jpg\">\\n                </a>\\n            </div>\\n        <div class=\"comment\">\\n            <h3>\\n                <span class=\"comment-vote\">\\n                    <span id=\"c-456621403\" class=\"vote-count\">131</span>\\n                        <a href=\"javascript:;\" id=\"btn-456621403\" class=\"j a_show_login\" data-cid=\"456621403\">有用</a>\\n                </span>\\n                <span class=\"comment-info\">\\n                    <a href=\"https://www.douban.com/people/maxineY/\">7酱™</a>\\n                        <span class=\"user-stars allstar50 rating\" title=\"力荐\"></span>\\n                    <span>2011-11-12</span>\\n                </span>\\n            </h3>\\n            <p class=\"comment-content\">第一遍读时，我才4岁。等到真的读懂，才明白为什么这是一部“童话”。</p>\\n        </div>\\n    </li>\\n\\n                \\n    <li class=\"comment-item\" data-cid=\"25726069\">\\n            <div class=\"avatar\">\\n                <a title=\"杜边生\" href=\"https://www.douban.com/people/darkiddy/\">\\n                    <img src=\"https://img3.doubanio.com/icon/u1105086-2.jpg\">\\n                </a>\\n            </div>\\n        <div class=\"comment\">\\n            <h3>\\n                <span class=\"comment-vote\">\\n                    <span id=\"c-25726069\" class=\"vote-count\">132</span>\\n                        <a href=\"javascript:;\" id=\"btn-25726069\" class=\"j a_show_login\" data-cid=\"25726069\">有用</a>\\n                </span>\\n                <span class=\"comment-info\">\\n                    <a href=\"https://www.douban.com/people/darkiddy/\">杜边生</a>\\n                    <span>2007-12-09</span>\\n                </span>\\n            </h3>\\n            <p class=\"comment-content\">我老觉得小狐狸跟小王子是在搞GAY</p>\\n        </div>\\n    </li>\\n\\n                \\n    <li class=\"comment-item\" data-cid=\"525136708\">\\n            <div class=\"avatar\">\\n                <a title=\"[已注销]\" href=\"https://www.douban.com/people/sabrina89/\">\\n                    <img src=\"https://img1.doubanio.com/icon/user_normal.jpg\">\\n                </a>\\n            </div>\\n        <div class=\"comment\">\\n            <h3>\\n                <span class=\"comment-vote\">\\n                    <span id=\"c-525136708\" class=\"vote-count\">150</span>\\n                        <a href=\"javascript:;\" id=\"btn-525136708\" class=\"j a_show_login\" data-cid=\"525136708\">有用</a>\\n                </span>\\n                <span class=\"comment-info\">\\n                    <a href=\"https://www.douban.com/people/sabrina89/\">[已注销]</a>\\n                        <span class=\"user-stars allstar50 rating\" title=\"力荐\"></span>\\n                    <span>2012-04-27</span>\\n                </span>\\n            </h3>\\n            <p class=\"comment-content\">爱屋及乌，爱一个人会让周围的一切变得美好，连麦浪的金黄都会让人心醉。 \\n\\u3000\\u3000\\u3000\\u3000 \\n\\u3000\\u3000\\u3000\\u3000爱同样意味着责任。因为“你现在要对你驯服过的一切负责到底”。爱与被爱都有责任，每一段我们曾经付出过的感情，都必须为对方，为爱情负责，不是吗？ \\n\\u3000\\u3000\\u3000\\u3000 \\n\\u3000\\u3000\\u3000\\u3000爱很多时候又会面临失去。小王子离开的时候，对狐狸说“那么你什么好处也没得到”。狐狸回答：“由于麦子颜色的缘故，我还是得到了好处”。爱同样意味着宽容，意味着放弃，也许我们在面对渐行渐远的爱情，该抱着平和感激的心态，因为我们起码收获了麦浪的金黄！ \\n\\u3000\\u3000\\u3000\\u3000 \\n\\u3000\\u3000\\u3000\\u3000狐狸同样告诉小王子，“只有用心才能看得清。实质性的东西，用眼睛是看不见的”。只有这样，才能让我看清爱的本质。 \\n\\u3000\\u3000\\u3000\\u3000 \\n\\u3000\\u3000\\u3000\\u3000爱是什么？ \\n\\u3000\\u3000\\u3000\\u3000 \\n\\u3000\\u3000</p>\\n        </div>\\n    </li>\\n\\n                \\n    <li class=\"comment-item\" data-cid=\"965894472\">\\n            <div class=\"avatar\">\\n                <a title=\"Cassie\" href=\"https://www.douban.com/people/2866241/\">\\n                    <img src=\"https://img3.doubanio.com/icon/u2866241-30.jpg\">\\n                </a>\\n            </div>\\n        <div class=\"comment\">\\n            <h3>\\n                <span class=\"comment-vote\">\\n                    <span id=\"c-965894472\" class=\"vote-count\">91</span>\\n                        <a href=\"javascript:;\" id=\"btn-965894472\" class=\"j a_show_login\" data-cid=\"965894472\">有用</a>\\n                </span>\\n                <span class=\"comment-info\">\\n                    <a href=\"https://www.douban.com/people/2866241/\">Cassie</a>\\n                        <span class=\"user-stars allstar20 rating\" title=\"较差\"></span>\\n                    <span>2015-10-07</span>\\n                </span>\\n            </h3>\\n            <p class=\"comment-content\">痛苦迷茫不是因为成为了“可笑”的大人，而是成为大人却没有真正长大。所以回过头来想要从怀念童年中解脱缓解痛苦那是本末倒置的做法。如果你作为一个成年人觉得痛苦，原因不是因为你“成年”了，也不是因为是生而为“人”，而是“你”停止了思考停止了学习。</p>\\n        </div>\\n    </li>\\n\\n                \\n    <li class=\"comment-item\" data-cid=\"252280247\">\\n            <div class=\"avatar\">\\n                <a title=\"E\" href=\"https://www.douban.com/people/Equator/\">\\n                    <img src=\"https://img3.doubanio.com/icon/u1106753-14.jpg\">\\n                </a>\\n            </div>\\n        <div class=\"comment\">\\n            <h3>\\n                <span class=\"comment-vote\">\\n                    <span id=\"c-252280247\" class=\"vote-count\">112</span>\\n                        <a href=\"javascript:;\" id=\"btn-252280247\" class=\"j a_show_login\" data-cid=\"252280247\">有用</a>\\n                </span>\\n                <span class=\"comment-info\">\\n                    <a href=\"https://www.douban.com/people/Equator/\">E</a>\\n                        <span class=\"user-stars allstar50 rating\" title=\"力荐\"></span>\\n                    <span>2010-06-06</span>\\n                </span>\\n            </h3>\\n            <p class=\"comment-content\">漫山遍野的玫瑰，但真的，我最喜欢最初的那一朵，带刺儿的那一朵。我能不能回去继续浇灌那朵玫瑰⋯⋯</p>\\n        </div>\\n    </li>\\n\\n                \\n    <li class=\"comment-item\" data-cid=\"391185768\">\\n            <div class=\"avatar\">\\n                <a title=\"漫漫\" href=\"https://www.douban.com/people/chenrr1106/\">\\n                    <img src=\"https://img1.doubanio.com/icon/u2589250-128.jpg\">\\n                </a>\\n            </div>\\n        <div class=\"comment\">\\n            <h3>\\n                <span class=\"comment-vote\">\\n                    <span id=\"c-391185768\" class=\"vote-count\">124</span>\\n                        <a href=\"javascript:;\" id=\"btn-391185768\" class=\"j a_show_login\" data-cid=\"391185768\">有用</a>\\n                </span>\\n                <span class=\"comment-info\">\\n                    <a href=\"https://www.douban.com/people/chenrr1106/\">漫漫</a>\\n                        <span class=\"user-stars allstar50 rating\" title=\"力荐\"></span>\\n                    <span>2011-05-16</span>\\n                </span>\\n            </h3>\\n            <p class=\"comment-content\">长这么大，读过次数最多的书就是《小王子》，我是那么的爱这本书，可是我都没有一本属于我的小王子，每次想读了就去图书馆借他，读过很多版本的小王子，但是每次读他，小王子在我心中都不一样。我在我的612星球等我的小王子回家，但有时候我也不确定我是玫瑰还是狐狸或是那条毒蛇，可能我也是小王子。</p>\\n        </div>\\n    </li>\\n\\n                \\n    <li class=\"comment-item\" data-cid=\"664117972\">\\n            <div class=\"avatar\">\\n                <a title=\"波蘭修女\" href=\"https://www.douban.com/people/MissAngelajuicy/\">\\n                    <img src=\"https://img3.doubanio.com/icon/u1440892-294.jpg\">\\n                </a>\\n            </div>\\n        <div class=\"comment\">\\n            <h3>\\n                <span class=\"comment-vote\">\\n                    <span id=\"c-664117972\" class=\"vote-count\">66</span>\\n                        <a href=\"javascript:;\" id=\"btn-664117972\" class=\"j a_show_login\" data-cid=\"664117972\">有用</a>\\n                </span>\\n                <span class=\"comment-info\">\\n                    <a href=\"https://www.douban.com/people/MissAngelajuicy/\">波蘭修女</a>\\n                    <span>2013-04-07</span>\\n                </span>\\n            </h3>\\n            <p class=\"comment-content\">其實我覺得小王子自私不負責, 沒有看懂玫瑰, 而且被動地把小狐狸傷害了, 小王子看懂很多人和事, 卻到最後才明白愛情的本質。</p>\\n        </div>\\n    </li>\\n\\n                \\n    <li class=\"comment-item\" data-cid=\"489033929\">\\n            <div class=\"avatar\">\\n                <a title=\"暴走系乙女药\" href=\"https://www.douban.com/people/woosaya/\">\\n                    <img src=\"https://img3.doubanio.com/icon/u2017192-174.jpg\">\\n                </a>\\n            </div>\\n        <div class=\"comment\">\\n            <h3>\\n                <span class=\"comment-vote\">\\n                    <span id=\"c-489033929\" class=\"vote-count\">95</span>\\n                        <a href=\"javascript:;\" id=\"btn-489033929\" class=\"j a_show_login\" data-cid=\"489033929\">有用</a>\\n                </span>\\n                <span class=\"comment-info\">\\n                    <a href=\"https://www.douban.com/people/woosaya/\">暴走系乙女药</a>\\n                        <span class=\"user-stars allstar40 rating\" title=\"推荐\"></span>\\n                    <span>2012-01-30</span>\\n                </span>\\n            </h3>\\n            <p class=\"comment-content\">原来在我还不懂爱情的时候就爱上了你</p>\\n        </div>\\n    </li>\\n\\n                \\n    <li class=\"comment-item\" data-cid=\"603728707\">\\n            <div class=\"avatar\">\\n                <a title=\"ZIII \" href=\"https://www.douban.com/people/Uranus_Qiang/\">\\n                    <img src=\"https://img1.doubanio.com/icon/u3236706-87.jpg\">\\n                </a>\\n            </div>\\n        <div class=\"comment\">\\n            <h3>\\n                <span class=\"comment-vote\">\\n                    <span id=\"c-603728707\" class=\"vote-count\">78</span>\\n                        <a href=\"javascript:;\" id=\"btn-603728707\" class=\"j a_show_login\" data-cid=\"603728707\">有用</a>\\n                </span>\\n                <span class=\"comment-info\">\\n                    <a href=\"https://www.douban.com/people/Uranus_Qiang/\">ZIII </a>\\n                        <span class=\"user-stars allstar50 rating\" title=\"力荐\"></span>\\n                    <span>2012-11-15</span>\\n                </span>\\n            </h3>\\n            <p class=\"comment-content\">如果你是小王子，我就是那捉鸡的狐狸，求你驯养了我，却又对你说要你回去对你的玫瑰花负责。还大方地以为只要看见了麦田就会想起你头发的颜色。我却永远无法随你回到B-612星球。现在觉得，我可能只是猴面包树而已。</p>\\n        </div>\\n    </li>\\n\\n        </ul>\\n        \\n\\n</div>\\n\\n    </div>\\n    <div class=\"paginator-wrapper\">\\n        \\n<ul class=\"comment-paginator\">\\n        <li class=\"p\">\\n                <span class=\"page-disabled\">第一页</span>\\n        </li>\\n        <li class=\"p\">\\n                <span class=\"page-disabled\">前一页</span>\\n        </li>\\n        <li class=\"p\">\\n                <a class=\"page-btn\" href=\"hot?p=2\">后一页</a>\\n        </li>\\n</ul>\\n\\n    </div>\\n</div>\\n</div>\\n      <div class=\"aside\">\\n        \\n<div class=\"sidebar-wrapper\">\\n    \\n\\n    <p class=\"pl2 side-bar-link\">\\n        &gt; <a href=\"https://www.douban.com/login?reason=collect&amp;ck=\" name=\"pbtn-1084336-collect\" class=\"j a_show_login\">我来写短评</a>\\n    </p>\\n    <p class=\"pl2 side-bar-link\">\\n        &gt; <a href=\"https://book.douban.com/subject/1084336/\">小王子</a>\\n    </p>\\n    <div class=\"indent subject-info\">\\n        \\n\\n\\n\\n\\n\\n\\n\\n\\n\\n\\n\\n<div>\\n    <a href=\"https://book.douban.com/subject/1084336/\"><img class=\"fil\" alt=\"小王子\" title=\"小王子\" src=\"https://img1.doubanio.com/mpic/s1237549.jpg\" rel=\"v:image\"></a>\\n<br clear=\"all\"/>\\n\\n    <span class=\"pl\">作者:</span> [法] 圣埃克苏佩里<br/>\\n\\n    \\n            \\n    <span class=\"pl\">原作名:</span> Le Petit Prince<br/>\\n\\n    \\n            \\n    \\n            \\n    <span class=\"pl\">isbn:</span> 702004249X<br/>\\n\\n    \\n            \\n    <span class=\"pl\">书名:</span> 小王子<br/>\\n\\n    \\n            \\n    <span class=\"pl\">页数:</span> 97<br/>\\n\\n    \\n    \\n            \\n    \\n    <span class=\"pl\">译者:</span> <a href=\"https://book.douban.com/search/%E9%A9%AC%E6%8C%AF%E8%81%98\">马振聘</a><br/>\\n\\n    \\n            \\n    \\n    \\n            \\n    <span class=\"pl\">定价:</span> 22.00元<br/>\\n\\n    \\n    \\n            \\n    <span class=\"pl\">出版社:</span> 人民文学出版社<br/>\\n\\n    \\n            \\n    \\n            \\n    <span class=\"pl\">装帧:</span> 平装<br/>\\n\\n    \\n            \\n    <span class=\"pl\">出版年:</span> 2003-8<br/>\\n\\n    \\n    \\n            \\n</div>\\n\\n    </div>\\n\\n</div>\\n\\n      </div>\\n      <div class=\"extra\">\\n        \\n      </div>\\n    </div>\\n  </div>\\n\\n        \\n  <div id=\"footer\">\\n    \\n<span id=\"icp\" class=\"fleft gray-link\">\\n    &copy; 2005－2017 douban.com, all rights reserved 北京豆网科技有限公司\\n</span>\\n\\n<a href=\"https://www.douban.com/hnypt/variformcyst.py\" style=\"display: none;\"></a>\\n\\n<span class=\"fright\">\\n    <a href=\"https://www.douban.com/about\">关于豆瓣</a>\\n    · <a href=\"https://www.douban.com/jobs\">在豆瓣工作</a>\\n    · <a href=\"https://www.douban.com/about?topic=contactus\">联系我们</a>\\n    · <a href=\"https://www.douban.com/about?policy=disclaimer\">免责声明</a>\\n    \\n    · <a href=\"https://help.douban.com/?app=book\" target=\"_blank\">帮助中心</a>\\n    · <a href=\"https://book.douban.com/library_invitation\">图书馆合作</a>\\n    · <a href=\"https://www.douban.com/doubanapp/\">移动应用</a>\\n    · <a href=\"https://www.douban.com/partner/\">豆瓣广告</a>\\n</span>\\n\\n  </div>\\n\\n    </div>\\n    <!-- COLLECTED JS -->\\n    <!-- mako -->\\n    \\n    <script src=\"https://img3.doubanio.com/f/shire/3d185ca912c999ee7f464749201139ebf8eb6972/js/ui/dialog.js\"></script>\\n        <script src=\"https://img3.doubanio.com/f/book/b42817fca6f44d5af3e28a48bcab95c05342292d/js/book/subject/short_comment_view.js\"></script>\\n    <script>\\n        $(\\'.collect_btn\\').each(function(){\\n               Douban.init_collect_btn(this);\\n        });\\n    </script>\\n\\n    \\n  \\n\\n<script type=\"text/javascript\">\\n  var _paq = _paq || [];\\n  _paq.push([\\'trackPageView\\']);\\n  _paq.push([\\'enableLinkTracking\\']);\\n  (function() {\\n    var p=((\\'https:\\' == document.location.protocol) ? \\'https\\' : \\'http\\'), u=p+\\'://fundin.douban.com/\\';\\n    _paq.push([\\'setTrackerUrl\\', u+\\'piwik\\']);\\n    _paq.push([\\'setSiteId\\', \\'100001\\']);\\n    var d=document, g=d.createElement(\\'script\\'), s=d.getElementsByTagName(\\'script\\')[0]; \\n    g.type=\\'text/javascript\\';\\n    g.defer=true; \\n    g.async=true; \\n    g.src=p+\\'://s.doubanio.com/dae/fundin/piwik.js\\';\\n    s.parentNode.insertBefore(g,s);\\n  })();\\n</script>\\n\\n<script type=\"text/javascript\">\\nvar setMethodWithNs = function(namespace) {\\n  var ns = namespace ? namespace + \\'.\\' : \\'\\'\\n    , fn = function(string) {\\n        if(!ns) {return string}\\n        return ns + string\\n      }\\n  return fn\\n}\\n\\nvar gaWithNamespace = function(fn, namespace) {\\n  var method = setMethodWithNs(namespace)\\n  fn.call(this, method)\\n}\\n\\nvar _gaq = _gaq || []\\n  , accounts = [\\n      { id: \\'UA-7019765-1\\', namespace: \\'douban\\' }\\n    , { id: \\'UA-7019765-16\\', namespace: \\'\\' }\\n    ]\\n  , gaInit = function(account) {\\n      gaWithNamespace(function(method) {\\n        gaInitFn.call(this, method, account)\\n      }, account.namespace)\\n    }\\n  , gaInitFn = function(method, account) {\\n      _gaq.push([method(\\'_setAccount\\'), account.id])\\n\\n      \\n  _gaq.push([method(\\'_addOrganic\\'), \\'google\\', \\'q\\'])\\n  _gaq.push([method(\\'_addOrganic\\'), \\'baidu\\', \\'wd\\'])\\n  _gaq.push([method(\\'_addOrganic\\'), \\'soso\\', \\'w\\'])\\n  _gaq.push([method(\\'_addOrganic\\'), \\'youdao\\', \\'q\\'])\\n  _gaq.push([method(\\'_addOrganic\\'), \\'so.360.cn\\', \\'q\\'])\\n  _gaq.push([method(\\'_addOrganic\\'), \\'sogou\\', \\'query\\'])\\n  if (account.namespace) {\\n    _gaq.push([method(\\'_addIgnoredOrganic\\'), \\'豆瓣\\'])\\n    _gaq.push([method(\\'_addIgnoredOrganic\\'), \\'douban\\'])\\n    _gaq.push([method(\\'_addIgnoredOrganic\\'), \\'豆瓣网\\'])\\n    _gaq.push([method(\\'_addIgnoredOrganic\\'), \\'www.douban.com\\'])\\n  }\\n\\n      if (account.namespace === \\'douban\\') {\\n        _gaq.push([method(\\'_setDomainName\\'), \\'.douban.com\\'])\\n      }\\n\\n        _gaq.push([method(\\'_setCustomVar\\'), 1, \\'responsive_view_mode\\', \\'desktop\\', 3])\\n\\n        _gaq.push([method(\\'_setCustomVar\\'), 2, \\'login_status\\', \\'0\\', 2]);\\n\\n      _gaq.push([method(\\'_trackPageview\\')])\\n    }\\n\\nfor(var i = 0, l = accounts.length; i < l; i++) {\\n  var account = accounts[i]\\n  gaInit(account)\\n}\\n\\n\\n;(function() {\\n    var ga = document.createElement(\\'script\\');\\n    ga.src = (\\'https:\\' == document.location.protocol ? \\'https://ssl\\' : \\'http://www\\') + \\'.google-analytics.com/ga.js\\';\\n    ga.setAttribute(\\'async\\', \\'true\\');\\n    document.documentElement.firstChild.appendChild(ga);\\n})()\\n</script>\\n\\n\\n\\n\\n\\n\\n  <img src=\"https://img3.doubanio.com/pics/10k.jpg\" style=\"display:none;\" />\\n  <img src=\"https://img3.doubanio.com/pics/10k.jpg\" style=\"display:none;\" />\\n  <img src=\"https://img3.doubanio.com/pics/10k.jpg\" style=\"display:none;\" />\\n  <img src=\"https://www.douban.com/pics/10k.jpg\" style=\"display:none;\" />\\n\\n<script type=\"text/javascript\">\\n$(window).load(function(){\\n    if (get_cookie(\\'ct\\')) return;\\n    var submit_result = function(domain, key, cost) {\\n        $.get(\"https://www.douban.com/misc/ct\", {domain:domain, key:key, cost:cost});\\n    };\\n    var test = function(domain, url, key, timeout) {\\n        var img = $(\\'<img src=\"http://\\'+domain+\\'.douban.com\\'+url+\\'\" style=\"display:none;\" />\\');\\n        var begin = new Date();\\n        var t;\\n        img.load(function() {\\n            var cost = new Date() - begin;\\n            clearTimeout(t);\\n            submit_result(domain, key, cost);\\n            set_cookie({ct:\\'y\\'});\\n        });\\n        $().append(img);\\n        t = setTimeout(function(){\\n            submit_result(domain, key, \"timedout\");\\n            }, timeout);\\n    };\\n    test(\\'img5\\', \\'/pics/ct-1k.gif\\', \\'ct-1k\\', 5000);\\n    test(\\'img3\\', \\'/pics/ct-1k.gif\\', \\'ct-1k\\', 5000);\\n    test(\\'img1\\', \\'/pics/ct-1k.gif\\', \\'ct-1k\\', 5000);\\n    test(\\'www\\', \\'/pics/ct-1k.gif\\', \\'ct-1k\\', 5000);\\n});\\n</script>\\n\\n\\n\\n\\n    <!-- sindar6c-docker-->\\n\\n</body>\\n</html>\\n\\n\\n\\n\\n\\n\\n\\n\\n\\n\\n\\n\\n\\n\\n\\n\\n\\n\\n\\n\\n\\n\\n\\n\\n\\n\\n\\n\\n\\n\\n\\n\\n\\n\\n\\n'"
      ]
     },
     "execution_count": 95,
     "metadata": {},
     "output_type": "execute_result"
    }
   ],
   "source": [
    "r.text"
   ]
  },
  {
   "cell_type": "code",
   "execution_count": 96,
   "metadata": {
    "collapsed": false
   },
   "outputs": [
    {
     "name": "stdout",
     "output_type": "stream",
     "text": [
      "[('MMM', '3M', '203.56'), ('AXP', 'American Express', '86.14'), ('AAPL', 'Apple', '164.05'), ('BA', 'Boeing', '240.33'), ('CAT', 'Caterpillar', '118.28'), ('CVX', 'Chevron', '108.76'), ('CSCO', 'Cisco', '32.30'), ('KO', 'Coca-Cola', '45.78'), ('DIS', 'Disney', '101.50'), ('XOM', 'Exxon Mobil', '76.57'), ('GE', 'General Electric', '25.14'), ('GS', 'Goldman Sachs', '225.88'), ('HD', 'Home Depot', '150.78'), ('IBM', 'IBM', '144.08'), ('INTC', 'Intel', '35.09'), ('JNJ', 'Johnson & Johnson', '131.03'), ('JPM', 'JPMorgan Chase', '91.70'), ('MCD', \"McDonald's\", '159.81'), ('MRK', 'Merck', '63.83'), ('MSFT', 'Microsoft', '73.94'), ('NKE', 'Nike', '53.36'), ('PFE', 'Pfizer', '33.96'), ('PG', 'Procter & Gamble', '92.53'), ('TRV', 'Travelers Companies Inc', '119.90'), ('UTX', 'United Technologies', '117.92'), ('UNH', 'UnitedHealth', '199.75'), ('VZ', 'Verizon', '47.92'), ('V', 'Visa', '103.90'), ('WMT', 'Wal-Mart', '78.37')]\n"
     ]
    }
   ],
   "source": [
    "import requests\n",
    "import re\n",
    "\n",
    "def retrieve_dji_list():\n",
    "    r = requests.get('http://money.cnn.com/data/dow30/')\n",
    "    search_pattern = re.compile('class=\"wsod_symbol\">(.*?)<\\/a>.*?<span.*?\">(.*?)<\\/span>.*?\\n.*class=\"wsod_stream\">(.*?)<\\/span>')\n",
    "    dji_list_in_text = re.findall(search_pattern, r.text)\n",
    "    return dji_list_in_text\n",
    "\n",
    "dji_list = retrieve_dji_list()\n",
    "print(dji_list)"
   ]
  },
  {
   "cell_type": "code",
   "execution_count": 97,
   "metadata": {
    "collapsed": false
   },
   "outputs": [
    {
     "data": {
      "text/plain": [
       "[1, 4, 7, 10]"
      ]
     },
     "execution_count": 97,
     "metadata": {},
     "output_type": "execute_result"
    }
   ],
   "source": [
    "numbers = [1, 2, 3, 4, 5, 6, 7, 8, 9, 10]\n",
    "numbers[0::3]"
   ]
  },
  {
   "cell_type": "code",
   "execution_count": 98,
   "metadata": {
    "collapsed": false
   },
   "outputs": [
    {
     "name": "stdout",
     "output_type": "stream",
     "text": [
      "3.142\n"
     ]
    }
   ],
   "source": [
    "print('{:5.3f}'.format(math.pi))"
   ]
  },
  {
   "cell_type": "code",
   "execution_count": 99,
   "metadata": {
    "collapsed": false
   },
   "outputs": [
    {
     "name": "stdout",
     "output_type": "stream",
     "text": [
      "True\n"
     ]
    }
   ],
   "source": [
    "print('you' in 'Life is short, you need Python.')"
   ]
  },
  {
   "cell_type": "code",
   "execution_count": 100,
   "metadata": {
    "collapsed": false
   },
   "outputs": [
    {
     "ename": "TypeError",
     "evalue": "sequence item 0: expected str instance, int found",
     "output_type": "error",
     "traceback": [
      "\u001b[0;31m---------------------------------------------------------------------------\u001b[0m",
      "\u001b[0;31mTypeError\u001b[0m                                 Traceback (most recent call last)",
      "\u001b[0;32m<ipython-input-100-f69b72a4cd7f>\u001b[0m in \u001b[0;36m<module>\u001b[0;34m()\u001b[0m\n\u001b[1;32m      1\u001b[0m \u001b[0mseq\u001b[0m \u001b[1;33m=\u001b[0m \u001b[1;33m[\u001b[0m\u001b[1;36m1\u001b[0m\u001b[1;33m,\u001b[0m \u001b[1;36m2\u001b[0m\u001b[1;33m,\u001b[0m \u001b[1;36m3\u001b[0m\u001b[1;33m,\u001b[0m \u001b[1;36m4\u001b[0m\u001b[1;33m]\u001b[0m\u001b[1;33m;\u001b[0m\u001b[1;33m\u001b[0m\u001b[0m\n\u001b[1;32m      2\u001b[0m \u001b[0msep\u001b[0m \u001b[1;33m=\u001b[0m \u001b[1;34m'+'\u001b[0m\u001b[1;33m;\u001b[0m\u001b[1;33m\u001b[0m\u001b[0m\n\u001b[0;32m----> 3\u001b[0;31m \u001b[0msep\u001b[0m\u001b[1;33m.\u001b[0m\u001b[0mjoin\u001b[0m\u001b[1;33m(\u001b[0m\u001b[0mseq\u001b[0m\u001b[1;33m)\u001b[0m\u001b[1;33m\u001b[0m\u001b[0m\n\u001b[0m",
      "\u001b[0;31mTypeError\u001b[0m: sequence item 0: expected str instance, int found"
     ]
    }
   ],
   "source": [
    "seq = [1, 2, 3, 4];\n",
    "sep = '+';   \n",
    "sep.join(seq)"
   ]
  },
  {
   "cell_type": "code",
   "execution_count": 102,
   "metadata": {
    "collapsed": false
   },
   "outputs": [
    {
     "name": "stdout",
     "output_type": "stream",
     "text": [
      "['L', 'i', 'f', 'e', ' ', 'i', 's', ' ', 's', 'h', 'o', 'r', 't', ',', ' ', 'y', 'o', 'u', ' ', 'n', 'e', 'e', 'd', ' ', 'P', 'y', 't', 'h', 'o', 'n', '.']\n"
     ]
    }
   ],
   "source": [
    "print(list('Life is short, you need Python.')) ##.count('is'))"
   ]
  },
  {
   "cell_type": "code",
   "execution_count": 103,
   "metadata": {
    "collapsed": false
   },
   "outputs": [
    {
     "name": "stdout",
     "output_type": "stream",
     "text": [
      "['P', 'y', 't', 'h', 'o', 'n']\n"
     ]
    }
   ],
   "source": [
    "language = list('PHP');\n",
    "language[1:] = 'ython';\n",
    "print(language)"
   ]
  },
  {
   "cell_type": "code",
   "execution_count": 104,
   "metadata": {
    "collapsed": false
   },
   "outputs": [
    {
     "name": "stdout",
     "output_type": "stream",
     "text": [
      "[0, 1, 2, 3, 4]\n"
     ]
    }
   ],
   "source": [
    "x = [2, 3, 0, 4, 1]\n",
    "x.sort()\n",
    "print(x)"
   ]
  },
  {
   "cell_type": "code",
   "execution_count": 105,
   "metadata": {
    "collapsed": false
   },
   "outputs": [
    {
     "name": "stdout",
     "output_type": "stream",
     "text": [
      "c\n"
     ]
    }
   ],
   "source": [
    "word = 'cloud'; print(min(word))"
   ]
  },
  {
   "cell_type": "code",
   "execution_count": 106,
   "metadata": {
    "collapsed": false
   },
   "outputs": [
    {
     "data": {
      "text/plain": [
       "[5, 5]"
      ]
     },
     "execution_count": 106,
     "metadata": {},
     "output_type": "execute_result"
    }
   ],
   "source": [
    "[5] * 2"
   ]
  },
  {
   "cell_type": "code",
   "execution_count": 108,
   "metadata": {
    "collapsed": false
   },
   "outputs": [
    {
     "name": "stdout",
     "output_type": "stream",
     "text": [
      "['life', 'is', 'short,', 'you', 'need', 'python.']\n",
      "False\n",
      "python.\n"
     ]
    }
   ],
   "source": [
    "my_list = [s.lower() for s in 'Life is short, you need Python.'.split(' ')]\n",
    "print(my_list)\n",
    "print('short' in my_list)\n",
    "print(my_list[5])"
   ]
  },
  {
   "cell_type": "code",
   "execution_count": 110,
   "metadata": {
    "collapsed": false
   },
   "outputs": [
    {
     "data": {
      "text/plain": [
       "{'Alison Wang': 3000, 'James Harden': 3000, 'Ming Yao': 3000}"
      ]
     },
     "execution_count": 110,
     "metadata": {},
     "output_type": "execute_result"
    }
   ],
   "source": [
    "dct = {}.fromkeys(['Alison Wang', 'James Harden', 'Ming Yao'], 3000)\n",
    "dct"
   ]
  },
  {
   "cell_type": "code",
   "execution_count": 111,
   "metadata": {
    "collapsed": false
   },
   "outputs": [
    {
     "name": "stdout",
     "output_type": "stream",
     "text": [
      "{'Alison Wang': 3000, 'Ming Yao': 3000, 'Jason Li': 3009, 'James Harden': 3000}\n",
      "{'Alison Wang': 3000, 'Ming Yao': 3000, 'Jason Li': 3009, 'James Harden': 3000}\n"
     ]
    }
   ],
   "source": [
    "dict1 = dct\n",
    "dct['Jason Li'] = 3009\n",
    "print(dct)\n",
    "print(dict1)"
   ]
  },
  {
   "cell_type": "code",
   "execution_count": 113,
   "metadata": {
    "collapsed": false
   },
   "outputs": [
    {
     "data": {
      "text/plain": [
       "3009"
      ]
     },
     "execution_count": 113,
     "metadata": {},
     "output_type": "execute_result"
    }
   ],
   "source": [
    "hash(dct['Jason Li'])"
   ]
  },
  {
   "cell_type": "code",
   "execution_count": null,
   "metadata": {
    "collapsed": true
   },
   "outputs": [],
   "source": []
  }
 ],
 "metadata": {
  "anaconda-cloud": {},
  "kernelspec": {
   "display_name": "Python [conda env:py35]",
   "language": "python",
   "name": "conda-env-py35-py"
  },
  "language_info": {
   "codemirror_mode": {
    "name": "ipython",
    "version": 3
   },
   "file_extension": ".py",
   "mimetype": "text/x-python",
   "name": "python",
   "nbconvert_exporter": "python",
   "pygments_lexer": "ipython3",
   "version": "3.5.2"
  }
 },
 "nbformat": 4,
 "nbformat_minor": 2
}
