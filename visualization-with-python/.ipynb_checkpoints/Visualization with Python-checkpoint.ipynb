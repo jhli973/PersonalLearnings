{
 "cells": [
  {
   "cell_type": "markdown",
   "metadata": {},
   "source": [
    "### Credit to course presented by [YK Sugishita](https://app.pluralsight.com/library/courses/data-visualization-with-python-introduction/exercise-files)"
   ]
  },
  {
   "cell_type": "markdown",
   "metadata": {},
   "source": [
    "### Why data visualization.\n",
    "\n",
    "- First step and crucial step  in all kinds of analysis (A/B testing, statistical analysis, data mining and machine learning)"
   ]
  },
  {
   "cell_type": "code",
   "execution_count": 1,
   "metadata": {
    "collapsed": true
   },
   "outputs": [],
   "source": [
    "import pandas as pd\n",
    "import numpy as np\n",
    "import matplotlib.pyplot as plt"
   ]
  },
  {
   "cell_type": "markdown",
   "metadata": {},
   "source": [
    "### Matplotlib\n",
    "\n",
    "- Bar Chart\n",
    "- Scatter plot\n",
    "- line chart or time series"
   ]
  },
  {
   "cell_type": "code",
   "execution_count": 2,
   "metadata": {
    "collapsed": false
   },
   "outputs": [
    {
     "data": {
      "text/html": [
       "<div>\n",
       "<style>\n",
       "    .dataframe thead tr:only-child th {\n",
       "        text-align: right;\n",
       "    }\n",
       "\n",
       "    .dataframe thead th {\n",
       "        text-align: left;\n",
       "    }\n",
       "\n",
       "    .dataframe tbody tr th {\n",
       "        vertical-align: top;\n",
       "    }\n",
       "</style>\n",
       "<table border=\"1\" class=\"dataframe\">\n",
       "  <thead>\n",
       "    <tr style=\"text-align: right;\">\n",
       "      <th></th>\n",
       "      <th>country</th>\n",
       "      <th>continent</th>\n",
       "      <th>year</th>\n",
       "      <th>lifeExpectancy</th>\n",
       "      <th>population</th>\n",
       "      <th>gdpPerCapita</th>\n",
       "    </tr>\n",
       "  </thead>\n",
       "  <tbody>\n",
       "    <tr>\n",
       "      <th>0</th>\n",
       "      <td>Afghanistan</td>\n",
       "      <td>Asia</td>\n",
       "      <td>1952</td>\n",
       "      <td>28.801</td>\n",
       "      <td>8425333</td>\n",
       "      <td>779.445314</td>\n",
       "    </tr>\n",
       "    <tr>\n",
       "      <th>1</th>\n",
       "      <td>Afghanistan</td>\n",
       "      <td>Asia</td>\n",
       "      <td>1957</td>\n",
       "      <td>30.332</td>\n",
       "      <td>9240934</td>\n",
       "      <td>820.853030</td>\n",
       "    </tr>\n",
       "    <tr>\n",
       "      <th>2</th>\n",
       "      <td>Afghanistan</td>\n",
       "      <td>Asia</td>\n",
       "      <td>1962</td>\n",
       "      <td>31.997</td>\n",
       "      <td>10267083</td>\n",
       "      <td>853.100710</td>\n",
       "    </tr>\n",
       "    <tr>\n",
       "      <th>3</th>\n",
       "      <td>Afghanistan</td>\n",
       "      <td>Asia</td>\n",
       "      <td>1967</td>\n",
       "      <td>34.020</td>\n",
       "      <td>11537966</td>\n",
       "      <td>836.197138</td>\n",
       "    </tr>\n",
       "    <tr>\n",
       "      <th>4</th>\n",
       "      <td>Afghanistan</td>\n",
       "      <td>Asia</td>\n",
       "      <td>1972</td>\n",
       "      <td>36.088</td>\n",
       "      <td>13079460</td>\n",
       "      <td>739.981106</td>\n",
       "    </tr>\n",
       "  </tbody>\n",
       "</table>\n",
       "</div>"
      ],
      "text/plain": [
       "       country continent  year  lifeExpectancy  population  gdpPerCapita\n",
       "0  Afghanistan      Asia  1952          28.801     8425333    779.445314\n",
       "1  Afghanistan      Asia  1957          30.332     9240934    820.853030\n",
       "2  Afghanistan      Asia  1962          31.997    10267083    853.100710\n",
       "3  Afghanistan      Asia  1967          34.020    11537966    836.197138\n",
       "4  Afghanistan      Asia  1972          36.088    13079460    739.981106"
      ]
     },
     "execution_count": 2,
     "metadata": {},
     "output_type": "execute_result"
    }
   ],
   "source": [
    "dt = pd.read_csv('countries.csv')\n",
    "dt.head()"
   ]
  },
  {
   "cell_type": "code",
   "execution_count": 3,
   "metadata": {
    "collapsed": false
   },
   "outputs": [],
   "source": [
    "dt_2007 = dt[dt['year']==2007]\n",
    "\n",
    "americas_2007 = dt_2007[dt_2007['continent']=='Americas']\n",
    "asia_2007 = dt_2007[dt_2007['continent']=='Asia']"
   ]
  },
  {
   "cell_type": "code",
   "execution_count": 4,
   "metadata": {
    "collapsed": false
   },
   "outputs": [
    {
     "name": "stdout",
     "output_type": "stream",
     "text": [
      "25\n",
      "33\n"
     ]
    }
   ],
   "source": [
    "print(len(set(americas_2007.country)))\n",
    "print(len(set(asia_2007.country)))"
   ]
  },
  {
   "cell_type": "code",
   "execution_count": 5,
   "metadata": {
    "collapsed": false
   },
   "outputs": [
    {
     "name": "stdout",
     "output_type": "stream",
     "text": [
      "Mean life expentency in Americas is: 73.60812000000001\n",
      "Mean life expentency in Asia is: 70.72848484848484\n",
      "Median life expentency in Americas is: 72.899\n",
      "Median life expentency in Asia is: 72.396\n"
     ]
    }
   ],
   "source": [
    "print(\"Mean life expentency in Americas is: {0}\".format(americas_2007.lifeExpectancy.mean()))\n",
    "print(\"Mean life expentency in Asia is: {0}\".format(asia_2007.lifeExpectancy.mean()))\n",
    "print(\"Median life expentency in Americas is: {0}\".format(americas_2007.lifeExpectancy.median()))\n",
    "print(\"Median life expentency in Asia is: {0}\".format(asia_2007.lifeExpectancy.median()))"
   ]
  },
  {
   "cell_type": "markdown",
   "metadata": {},
   "source": [
    "### Histogram\n",
    "\n",
    "- Distribution"
   ]
  },
  {
   "cell_type": "code",
   "execution_count": 6,
   "metadata": {
    "collapsed": false
   },
   "outputs": [
    {
     "ename": "NameError",
     "evalue": "name 'america_2007' is not defined",
     "output_type": "error",
     "traceback": [
      "\u001b[0;31m---------------------------------------------------------------------------\u001b[0m",
      "\u001b[0;31mNameError\u001b[0m                                 Traceback (most recent call last)",
      "\u001b[0;32m<ipython-input-6-9d5a73a02e3f>\u001b[0m in \u001b[0;36m<module>\u001b[0;34m()\u001b[0m\n\u001b[1;32m      1\u001b[0m \u001b[0mplt\u001b[0m\u001b[1;33m.\u001b[0m\u001b[0msubplot\u001b[0m\u001b[1;33m(\u001b[0m\u001b[1;36m211\u001b[0m\u001b[1;33m)\u001b[0m\u001b[1;33m\u001b[0m\u001b[0m\n\u001b[1;32m      2\u001b[0m \u001b[0mplt\u001b[0m\u001b[1;33m.\u001b[0m\u001b[0mtitle\u001b[0m\u001b[1;33m(\u001b[0m\u001b[1;34m'Distribution of Life Expectancy'\u001b[0m\u001b[1;33m)\u001b[0m\u001b[1;33m\u001b[0m\u001b[0m\n\u001b[0;32m----> 3\u001b[0;31m \u001b[0mplt\u001b[0m\u001b[1;33m.\u001b[0m\u001b[0mhist\u001b[0m\u001b[1;33m(\u001b[0m\u001b[0mamerica_2007\u001b[0m\u001b[1;33m.\u001b[0m\u001b[0mlifeExpectancy\u001b[0m\u001b[1;33m,\u001b[0m \u001b[1;36m20\u001b[0m\u001b[1;33m,\u001b[0m \u001b[0mrange\u001b[0m\u001b[1;33m=\u001b[0m\u001b[1;33m(\u001b[0m\u001b[1;36m40\u001b[0m\u001b[1;33m,\u001b[0m\u001b[1;36m90\u001b[0m\u001b[1;33m)\u001b[0m\u001b[1;33m)\u001b[0m\u001b[1;33m\u001b[0m\u001b[0m\n\u001b[0m\u001b[1;32m      4\u001b[0m \u001b[0mplt\u001b[0m\u001b[1;33m.\u001b[0m\u001b[0mylabel\u001b[0m\u001b[1;33m(\u001b[0m\u001b[1;34m'Americas'\u001b[0m\u001b[1;33m)\u001b[0m\u001b[1;33m\u001b[0m\u001b[0m\n\u001b[1;32m      5\u001b[0m \u001b[0mplt\u001b[0m\u001b[1;33m.\u001b[0m\u001b[0msubplot\u001b[0m\u001b[1;33m(\u001b[0m\u001b[1;36m212\u001b[0m\u001b[1;33m)\u001b[0m\u001b[1;33m\u001b[0m\u001b[0m\n",
      "\u001b[0;31mNameError\u001b[0m: name 'america_2007' is not defined"
     ]
    }
   ],
   "source": [
    "plt.subplot(211)\n",
    "plt.title('Distribution of Life Expectancy')\n",
    "plt.hist(america_2007.lifeExpectancy, 20, range=(40,90))\n",
    "plt.ylabel('Americas')\n",
    "plt.subplot(212)\n",
    "plt.hist(asia_2007.lifeExpectancy, 20, range=(40,90))\n",
    "plt.ylabel('Asia')\n",
    "plt.show()"
   ]
  },
  {
   "cell_type": "code",
   "execution_count": null,
   "metadata": {
    "collapsed": false
   },
   "outputs": [],
   "source": [
    "asia_2007[asia_2007['lifeExpectancy'] < 50]"
   ]
  },
  {
   "cell_type": "markdown",
   "metadata": {
    "collapsed": true
   },
   "source": [
    "### Line Chart/Time Series\n",
    "\n",
    "- examines a trend over time\n",
    "- tests a hypothesis on a variety of conditions\n",
    "- reduces misinterpretation of data"
   ]
  },
  {
   "cell_type": "code",
   "execution_count": null,
   "metadata": {
    "collapsed": false
   },
   "outputs": [],
   "source": [
    "us = dt[dt.country=='United States']\n",
    "ch = dt[dt.country=='China']"
   ]
  },
  {
   "cell_type": "code",
   "execution_count": null,
   "metadata": {
    "collapsed": false
   },
   "outputs": [],
   "source": [
    "plt.plot(us.year, us.gdpPerCapita)\n",
    "plt.plot(ch.year, ch.gdpPerCapita)\n",
    "plt.title('Growth of GDP per Capita')\n",
    "plt.legend(['United States', 'China'])\n",
    "plt.xlabel('Year')\n",
    "plt.ylabel('GDP per capita')\n",
    "plt.show()"
   ]
  },
  {
   "cell_type": "code",
   "execution_count": null,
   "metadata": {
    "collapsed": false
   },
   "outputs": [],
   "source": [
    "us_growth = us.gdpPerCapita / us.gdpPerCapita.iloc[0] * 100\n",
    "ch_growth = ch.gdpPerCapita / ch.gdpPerCapita.iloc[0] * 100"
   ]
  },
  {
   "cell_type": "code",
   "execution_count": null,
   "metadata": {
    "collapsed": false
   },
   "outputs": [],
   "source": [
    "plt.plot(us.year, us_growth)\n",
    "plt.plot(ch.year, ch_growth)\n",
    "plt.title('Growth of GDP per Capita')\n",
    "plt.legend(['United States', 'China'])\n",
    "plt.xlabel('Year')\n",
    "plt.ylabel('GDP per capita')\n",
    "plt.show()"
   ]
  },
  {
   "cell_type": "markdown",
   "metadata": {},
   "source": [
    "### Scatter Plots\n",
    "\n",
    "- examine the correlation of two numeric variables"
   ]
  },
  {
   "cell_type": "code",
   "execution_count": null,
   "metadata": {
    "collapsed": false
   },
   "outputs": [],
   "source": [
    "plt.scatter(dt.lifeExpectancy,dt.gdpPerCapita, 2 )\n",
    "plt.title('Scatter plot between Life expentancy and GDP per capita')\n",
    "plt.ylabel('GDP per capita ($)')\n",
    "plt.xlabel(\"Life expectancy\")\n",
    "plt.show()"
   ]
  },
  {
   "cell_type": "code",
   "execution_count": null,
   "metadata": {
    "collapsed": false
   },
   "outputs": [],
   "source": [
    "dt.lifeExpectancy.corr(dt.gdpPerCapita)"
   ]
  },
  {
   "cell_type": "code",
   "execution_count": null,
   "metadata": {
    "collapsed": false
   },
   "outputs": [],
   "source": [
    "plt.scatter(dt.lifeExpectancy,np.log10(dt.gdpPerCapita), 2 )\n",
    "plt.title('Scatter plot between Life expentancy and GDP per capita')\n",
    "plt.ylabel('GDP per capita ($)')\n",
    "plt.xlabel(\"Life expectancy\")\n",
    "plt.show()"
   ]
  },
  {
   "cell_type": "code",
   "execution_count": null,
   "metadata": {
    "collapsed": false
   },
   "outputs": [],
   "source": [
    "dt.lifeExpectancy.corr(np.log10(dt.gdpPerCapita))"
   ]
  },
  {
   "cell_type": "code",
   "execution_count": null,
   "metadata": {
    "collapsed": false
   },
   "outputs": [],
   "source": [
    "years_sorted = sorted(dt.year.unique())\n",
    "years_sorted"
   ]
  },
  {
   "cell_type": "code",
   "execution_count": null,
   "metadata": {
    "collapsed": false
   },
   "outputs": [],
   "source": [
    "for yr in years_sorted:\n",
    "    if yr % 2 == 0:\n",
    "        dt_yr = dt[dt.year==yr]\n",
    "        plt.scatter(dt_yr.lifeExpectancy,np.log10(dt_yr.gdpPerCapita), 2)\n",
    "        plt.title(yr)\n",
    "        plt.xlim(20, 90)\n",
    "        plt.ylim(2.0,6.0)\n",
    "        plt.ylabel('Log10 (GDP per Captia)')\n",
    "        plt.xlabel('Life Expectency')\n",
    "        plt.show()\n",
    "        #plt.savefig(str(yr), dpi=200) dpi = dots per inch\n",
    "        #plt.clf() to clear the current        "
   ]
  },
  {
   "cell_type": "markdown",
   "metadata": {},
   "source": [
    "### Bar graphs\n",
    "\n",
    "- Compare numeric values among several groups"
   ]
  },
  {
   "cell_type": "code",
   "execution_count": null,
   "metadata": {
    "collapsed": false
   },
   "outputs": [],
   "source": [
    "dt_2007 = dt[dt.year==2007]\n",
    "dt_2007.head()"
   ]
  },
  {
   "cell_type": "code",
   "execution_count": null,
   "metadata": {
    "collapsed": false
   },
   "outputs": [],
   "source": [
    "top10_2007 = dt_2007.sort_values('population', ascending=False)[:10]"
   ]
  },
  {
   "cell_type": "code",
   "execution_count": null,
   "metadata": {
    "collapsed": false
   },
   "outputs": [],
   "source": [
    "x = range(10)\n",
    "plt.bar(x, top10_2007['population']/10**6)\n",
    "plt.title('Populations in top 10 countries')\n",
    "plt.xticks(x, top10_2007.country, rotation='vertical') ## very nice\n",
    "plt.ylabel('Population in Millions')\n",
    "plt.show()"
   ]
  },
  {
   "cell_type": "code",
   "execution_count": null,
   "metadata": {
    "collapsed": false
   },
   "outputs": [],
   "source": [
    "import numpy as np # We're going to import np for np.arange().\n",
    "# np.arange(10) is similar to range(10), and it allows us to shift\n",
    "# each value in it by the bar width as you can see below.\n",
    "x = np.arange(10)\n",
    "\n",
    "# We need to create subplots in order to overlay two bar plots\n",
    "# with proper axes on the left hand side and the right hand side.\n",
    "fig, ax1 = plt.subplots()\n",
    "\n",
    "width = 0.3 # This is the width of each bar in the bar plot.\n",
    "plt.xticks(x, top10_2007.country, rotation='vertical')\n",
    "population = ax1.bar(x, top10_2007.population / 10**6, width)\n",
    "plt.ylabel('Population')\n",
    "\n",
    "# ax1.twinx() gives us the same x-axis with the y-axis on the right.\n",
    "ax2 = ax1.twinx()\n",
    "gdp = ax2.bar(x + width, top10_2007.gdpPerCapita * top10_2007.population / 10**9,\n",
    "              width, color='orange')\n",
    "plt.ylabel('GDP')\n",
    "plt.legend([population, gdp],\n",
    "           ['Population in Millions', 'GDP in Billions'])\n",
    "figure = plt.gcf() # get current figure\n",
    "plt.show()"
   ]
  },
  {
   "cell_type": "markdown",
   "metadata": {},
   "source": [
    "### When data is too Big\n",
    "\n",
    "- Aggregation and summary\n",
    "- Random sampling"
   ]
  },
  {
   "cell_type": "code",
   "execution_count": null,
   "metadata": {
    "collapsed": false
   },
   "outputs": [],
   "source": [
    "ob = pd.read_csv('obama.csv', parse_dates=['year_month'])\n",
    "ob.head()"
   ]
  },
  {
   "cell_type": "code",
   "execution_count": null,
   "metadata": {
    "collapsed": false
   },
   "outputs": [],
   "source": [
    "plt.plot(ob.year_month, ob.approve_percent, 'o', markersize=2, alpha=0.5)\n",
    "plt.show()"
   ]
  },
  {
   "cell_type": "code",
   "execution_count": null,
   "metadata": {
    "collapsed": false
   },
   "outputs": [],
   "source": [
    "dt_mean = ob.groupby('year_month').mean()\n",
    "plt.plot(dt_mean.index, dt_mean.approve_percent, 'red')\n",
    "plt.plot(ob.year_month, ob.approve_percent, 'o', markersize=2, alpha=0.5)\n",
    "plt.xlabel('Year')\n",
    "plt.ylabel('Approve percent')\n",
    "plt.title('Approval Trend')\n",
    "plt.show()"
   ]
  },
  {
   "cell_type": "code",
   "execution_count": null,
   "metadata": {
    "collapsed": false
   },
   "outputs": [],
   "source": [
    "dt_25 = ob.groupby('year_month').quantile(0.25)\n",
    "dt_75 = ob.groupby('year_month').quantile(0.75)\n",
    "dt_median = ob.groupby('year_month').median()\n",
    "plt.plot(dt_mean.index, dt_median.approve_percent, 'red')\n",
    "plt.plot(dt_mean.index, dt_25.approve_percent, 'blue')\n",
    "plt.plot(dt_mean.index, dt_75.approve_percent, 'green')\n",
    "plt.plot(ob.year_month, ob.approve_percent, 'o', markersize=2, alpha=0.5)\n",
    "plt.xlabel('Year')\n",
    "plt.ylabel('Approve percent')\n",
    "plt.title('Approval Trend')\n",
    "plt.show()"
   ]
  },
  {
   "cell_type": "code",
   "execution_count": null,
   "metadata": {
    "collapsed": false
   },
   "outputs": [],
   "source": [
    "ob_big = pd.read_csv('obama_too_big.csv', parse_dates=['year_month'])\n",
    "ob_big.shape"
   ]
  },
  {
   "cell_type": "code",
   "execution_count": null,
   "metadata": {
    "collapsed": false
   },
   "outputs": [],
   "source": [
    "dt_sample = ob_big.sample(frac=0.1)\n",
    "dt_sample.shape"
   ]
  },
  {
   "cell_type": "code",
   "execution_count": null,
   "metadata": {
    "collapsed": true
   },
   "outputs": [],
   "source": []
  }
 ],
 "metadata": {
  "anaconda-cloud": {},
  "kernelspec": {
   "display_name": "Python [conda env:py35]",
   "language": "python",
   "name": "conda-env-py35-py"
  },
  "language_info": {
   "codemirror_mode": {
    "name": "ipython",
    "version": 3
   },
   "file_extension": ".py",
   "mimetype": "text/x-python",
   "name": "python",
   "nbconvert_exporter": "python",
   "pygments_lexer": "ipython3",
   "version": "3.5.2"
  }
 },
 "nbformat": 4,
 "nbformat_minor": 1
}
