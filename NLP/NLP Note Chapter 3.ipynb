{
 "cells": [
  {
   "cell_type": "markdown",
   "metadata": {},
   "source": [
    "## Use py27"
   ]
  },
  {
   "cell_type": "code",
   "execution_count": 1,
   "metadata": {
    "collapsed": false
   },
   "outputs": [
    {
     "name": "stdout",
     "output_type": "stream",
     "text": [
      "showing info https://raw.githubusercontent.com/nltk/nltk_data/gh-pages/index.xml\n"
     ]
    },
    {
     "data": {
      "text/plain": [
       "True"
      ]
     },
     "execution_count": 1,
     "metadata": {},
     "output_type": "execute_result"
    }
   ],
   "source": [
    "from __future__ import division\n",
    "import nltk, re, pprint\n",
    "nltk.download()"
   ]
  },
  {
   "cell_type": "markdown",
   "metadata": {},
   "source": [
    "## Accessing Text from the Web and from Disk\n",
    "\n",
    "Check the difference among urllib, urllib2, request [here](http://stackoverflow.com/questions/2018026/what-are-the-differences-between-the-urllib-urllib2-and-requests-module)"
   ]
  },
  {
   "cell_type": "code",
   "execution_count": 2,
   "metadata": {
    "collapsed": true
   },
   "outputs": [],
   "source": [
    "from urllib import urlopen"
   ]
  },
  {
   "cell_type": "code",
   "execution_count": 3,
   "metadata": {
    "collapsed": false
   },
   "outputs": [
    {
     "data": {
      "text/plain": [
       "str"
      ]
     },
     "execution_count": 3,
     "metadata": {},
     "output_type": "execute_result"
    }
   ],
   "source": [
    "url =  \"http://www.gutenberg.org/files/2554/2554.txt\"\n",
    "raw =  urlopen(url).read()\n",
    "type(raw)"
   ]
  },
  {
   "cell_type": "code",
   "execution_count": 4,
   "metadata": {
    "collapsed": false
   },
   "outputs": [
    {
     "data": {
      "text/plain": [
       "1176896"
      ]
     },
     "execution_count": 4,
     "metadata": {},
     "output_type": "execute_result"
    }
   ],
   "source": [
    "len(raw)"
   ]
  },
  {
   "cell_type": "code",
   "execution_count": 5,
   "metadata": {
    "collapsed": false
   },
   "outputs": [
    {
     "data": {
      "text/plain": [
       "'The Project Gutenberg EBook of Crime and Punishment, by Fyodor Dostoev'"
      ]
     },
     "execution_count": 5,
     "metadata": {},
     "output_type": "execute_result"
    }
   ],
   "source": [
    "raw[:70]"
   ]
  },
  {
   "cell_type": "code",
   "execution_count": 12,
   "metadata": {
    "collapsed": false
   },
   "outputs": [
    {
     "data": {
      "text/plain": [
       "list"
      ]
     },
     "execution_count": 12,
     "metadata": {},
     "output_type": "execute_result"
    }
   ],
   "source": [
    "tokens =  nltk.word_tokenize(raw)  # a list of words and punctuation\n",
    "type(tokens)"
   ]
  },
  {
   "cell_type": "code",
   "execution_count": 13,
   "metadata": {
    "collapsed": false
   },
   "outputs": [
    {
     "data": {
      "text/plain": [
       "254352"
      ]
     },
     "execution_count": 13,
     "metadata": {},
     "output_type": "execute_result"
    }
   ],
   "source": [
    "len(tokens)"
   ]
  },
  {
   "cell_type": "code",
   "execution_count": 14,
   "metadata": {
    "collapsed": false
   },
   "outputs": [
    {
     "data": {
      "text/plain": [
       "['The',\n",
       " 'Project',\n",
       " 'Gutenberg',\n",
       " 'EBook',\n",
       " 'of',\n",
       " 'Crime',\n",
       " 'and',\n",
       " 'Punishment',\n",
       " ',',\n",
       " 'by']"
      ]
     },
     "execution_count": 14,
     "metadata": {},
     "output_type": "execute_result"
    }
   ],
   "source": [
    "tokens[:10]"
   ]
  },
  {
   "cell_type": "markdown",
   "metadata": {},
   "source": [
    "### Creating an NLTK text from this list, we can carry out all of the other linguistic processing"
   ]
  },
  {
   "cell_type": "code",
   "execution_count": 9,
   "metadata": {
    "collapsed": false
   },
   "outputs": [
    {
     "data": {
      "text/plain": [
       "nltk.text.Text"
      ]
     },
     "execution_count": 9,
     "metadata": {},
     "output_type": "execute_result"
    }
   ],
   "source": [
    "text = nltk.Text(tokens)\n",
    "type(text)"
   ]
  },
  {
   "cell_type": "code",
   "execution_count": 15,
   "metadata": {
    "collapsed": false
   },
   "outputs": [
    {
     "data": {
      "text/plain": [
       "254352"
      ]
     },
     "execution_count": 15,
     "metadata": {},
     "output_type": "execute_result"
    }
   ],
   "source": [
    "len(text)"
   ]
  },
  {
   "cell_type": "code",
   "execution_count": 16,
   "metadata": {
    "collapsed": false
   },
   "outputs": [
    {
     "data": {
      "text/plain": [
       "['The',\n",
       " 'Project',\n",
       " 'Gutenberg',\n",
       " 'EBook',\n",
       " 'of',\n",
       " 'Crime',\n",
       " 'and',\n",
       " 'Punishment',\n",
       " ',',\n",
       " 'by']"
      ]
     },
     "execution_count": 16,
     "metadata": {},
     "output_type": "execute_result"
    }
   ],
   "source": [
    "text[:10]"
   ]
  },
  {
   "cell_type": "code",
   "execution_count": 17,
   "metadata": {
    "collapsed": false
   },
   "outputs": [
    {
     "name": "stdout",
     "output_type": "stream",
     "text": [
      "Katerina Ivanovna; Pyotr Petrovitch; Pulcheria Alexandrovna; Avdotya\n",
      "Romanovna; Rodion Romanovitch; Marfa Petrovna; Sofya Semyonovna; old\n",
      "woman; Project Gutenberg-tm; Porfiry Petrovitch; Amalia Ivanovna;\n",
      "great deal; Nikodim Fomitch; young man; Ilya Petrovitch; n't know;\n",
      "Project Gutenberg; Dmitri Prokofitch; Andrey Semyonovitch; Hay Market\n"
     ]
    }
   ],
   "source": [
    "text.collocations()"
   ]
  },
  {
   "cell_type": "code",
   "execution_count": 18,
   "metadata": {
    "collapsed": false
   },
   "outputs": [
    {
     "data": {
      "text/plain": [
       "FreqDist({'fawn': 1,\n",
       "          'writings': 1,\n",
       "          'nunnery': 1,\n",
       "          'yellow': 27,\n",
       "          'four': 26,\n",
       "          'Does': 8,\n",
       "          'clotted': 1,\n",
       "          'spiders': 2,\n",
       "          'hanging': 15,\n",
       "          'self-reliant': 1,\n",
       "          'Foundation': 24,\n",
       "          'Livingstone': 1,\n",
       "          '_might_': 1,\n",
       "          'rupture': 7,\n",
       "          'rouse': 4,\n",
       "          'Fetch': 1,\n",
       "          'originality': 1,\n",
       "          'superficially': 1,\n",
       "          'unnecessarily': 1,\n",
       "          'meadows': 1,\n",
       "          'sinking': 4,\n",
       "          'impertinent': 1,\n",
       "          'fogeys': 1,\n",
       "          'uncertain': 5,\n",
       "          'stabbed': 5,\n",
       "          'bringing': 14,\n",
       "          'disturb': 6,\n",
       "          'recollections': 2,\n",
       "          'uttering': 12,\n",
       "          'prize': 2,\n",
       "          'buttonhole': 1,\n",
       "          'protest': 14,\n",
       "          'persisted': 8,\n",
       "          's/he': 1,\n",
       "          'Evidently': 2,\n",
       "          'specially': 2,\n",
       "          'tired': 17,\n",
       "          'railing': 5,\n",
       "          'pulse': 3,\n",
       "          'elegant': 2,\n",
       "          'second': 55,\n",
       "          'consenting': 2,\n",
       "          'available': 2,\n",
       "          'scraped': 1,\n",
       "          'loathing': 6,\n",
       "          'haughtily': 3,\n",
       "          'easy-chair': 1,\n",
       "          'errors': 1,\n",
       "          'thunder': 5,\n",
       "          'cooking': 1,\n",
       "          'contributed': 1,\n",
       "          'fingers': 14,\n",
       "          \"'You\": 7,\n",
       "          'increasing': 4,\n",
       "          'exclamations': 7,\n",
       "          'shocks': 1,\n",
       "          'specialist': 1,\n",
       "          'insinuation': 2,\n",
       "          'dumbfoundered': 1,\n",
       "          'unseemly': 10,\n",
       "          'Wanderers': 1,\n",
       "          'reported': 2,\n",
       "          'china': 1,\n",
       "          'hers': 6,\n",
       "          'shriek': 2,\n",
       "          'strewn': 2,\n",
       "          'pretensions': 1,\n",
       "          'elaborate': 1,\n",
       "          'unchildish': 2,\n",
       "          'reports': 2,\n",
       "          'NOT': 2,\n",
       "          'military': 5,\n",
       "          'spotty': 2,\n",
       "          'criticism': 4,\n",
       "          'golden': 1,\n",
       "          'owed': 4,\n",
       "          'Recalling': 2,\n",
       "          'explained': 26,\n",
       "          'Three': 4,\n",
       "          'summons': 2,\n",
       "          'brought': 78,\n",
       "          'stern': 11,\n",
       "          \"'Serves\": 1,\n",
       "          'painters': 6,\n",
       "          'cherishing': 1,\n",
       "          'spoke': 33,\n",
       "          'untie': 2,\n",
       "          'therefore': 14,\n",
       "          'passport': 4,\n",
       "          'violently': 15,\n",
       "          'strike': 10,\n",
       "          'until': 7,\n",
       "          'paperwork': 1,\n",
       "          'holy': 5,\n",
       "          'successful': 4,\n",
       "          'brings': 3,\n",
       "          'vocation': 2,\n",
       "          'whirling': 3,\n",
       "          'hurt': 5,\n",
       "          'glass': 31,\n",
       "          'LUZHIN': 1,\n",
       "          '90': 2,\n",
       "          'hole': 15,\n",
       "          'hold': 38,\n",
       "          'gashed': 1,\n",
       "          'circumstances': 21,\n",
       "          'morally': 1,\n",
       "          'locked': 25,\n",
       "          'blade': 2,\n",
       "          'plunged': 4,\n",
       "          'Gogol': 4,\n",
       "          'sweeter': 1,\n",
       "          'leaped': 2,\n",
       "          'malignant': 7,\n",
       "          'Mr': 3,\n",
       "          'apoplexy': 1,\n",
       "          'example': 3,\n",
       "          'expressively': 1,\n",
       "          'misfortunes': 2,\n",
       "          'vanities': 1,\n",
       "          'NOTICE': 1,\n",
       "          'unjust': 2,\n",
       "          'household': 2,\n",
       "          'organized': 1,\n",
       "          'police-station': 4,\n",
       "          'caution': 2,\n",
       "          'want': 185,\n",
       "          'house-warming': 2,\n",
       "          'absolute': 2,\n",
       "          'provincial': 1,\n",
       "          'groaned': 2,\n",
       "          'complaining': 3,\n",
       "          'travel': 1,\n",
       "          'drying': 1,\n",
       "          'feature': 1,\n",
       "          'Killing': 1,\n",
       "          'Anatomy': 1,\n",
       "          'how': 394,\n",
       "          'hot': 13,\n",
       "          'hesitatingly': 2,\n",
       "          'significance': 8,\n",
       "          \"He'll\": 1,\n",
       "          'Mihail': 2,\n",
       "          'fanaticism': 3,\n",
       "          'A': 181,\n",
       "          'beauty': 7,\n",
       "          'wrong': 42,\n",
       "          'destined': 2,\n",
       "          'Napoleons': 2,\n",
       "          'short-tempered': 1,\n",
       "          'outcry': 3,\n",
       "          'types': 3,\n",
       "          'matter-of-fact': 1,\n",
       "          'effective': 1,\n",
       "          'endeavoured': 1,\n",
       "          'post-haste': 1,\n",
       "          'fleetingly': 1,\n",
       "          'revolt': 2,\n",
       "          'presiding': 1,\n",
       "          \"'new\": 1,\n",
       "          'sickening': 3,\n",
       "          'cigarettes': 3,\n",
       "          'specks': 1,\n",
       "          'Another': 10,\n",
       "          'keeps': 10,\n",
       "          'nonsensical': 1,\n",
       "          'samovars': 2,\n",
       "          'wind': 11,\n",
       "          'wine': 19,\n",
       "          'sarcastically': 5,\n",
       "          'dreamed': 4,\n",
       "          'reforms': 1,\n",
       "          '_O': 1,\n",
       "          '_I': 1,\n",
       "          'fidelity': 1,\n",
       "          'dreamer': 1,\n",
       "          'tallow-candle': 1,\n",
       "          'His': 115,\n",
       "          'Hit': 1,\n",
       "          'maturer': 1,\n",
       "          'fit': 21,\n",
       "          'unforeseen': 1,\n",
       "          'screaming': 6,\n",
       "          'fix': 6,\n",
       "          'matured': 1,\n",
       "          'nobler': 1,\n",
       "          'hidden': 21,\n",
       "          'easier': 13,\n",
       "          '_a': 2,\n",
       "          'copying': 4,\n",
       "          'biding': 1,\n",
       "          'Pavlovitch': 1,\n",
       "          'colourless': 2,\n",
       "          'interrupt': 2,\n",
       "          'sixteen': 6,\n",
       "          'silver': 18,\n",
       "          '_tone_': 1,\n",
       "          'wooden': 12,\n",
       "          'spotless': 1,\n",
       "          'arrow': 2,\n",
       "          'uninfluenced': 1,\n",
       "          'blushed': 5,\n",
       "          'burial': 1,\n",
       "          'financial': 2,\n",
       "          'woes': 1,\n",
       "          'garment': 1,\n",
       "          'turn-over': 1,\n",
       "          'Kapernaumov': 10,\n",
       "          'spider': 2,\n",
       "          'depositing': 1,\n",
       "          'fortnight': 7,\n",
       "          'cathedral': 1,\n",
       "          'blinded': 1,\n",
       "          'whip': 6,\n",
       "          'borne': 1,\n",
       "          'falsity': 1,\n",
       "          'misfortune': 6,\n",
       "          'recognising': 3,\n",
       "          'indiscretion': 1,\n",
       "          'brutish': 1,\n",
       "          'encourage': 2,\n",
       "          'cheerfully': 1,\n",
       "          'outburst': 1,\n",
       "          'foundation': 5,\n",
       "          'stamping': 1,\n",
       "          'assured': 7,\n",
       "          'Work': 1,\n",
       "          'threatened': 2,\n",
       "          'sheer': 1,\n",
       "          '_her_': 1,\n",
       "          'faculties': 8,\n",
       "          'tinkled': 1,\n",
       "          'crowned': 2,\n",
       "          'returning': 4,\n",
       "          'obstructing': 1,\n",
       "          'ate': 6,\n",
       "          'ANYTHING': 1,\n",
       "          'Afrosinya': 1,\n",
       "          'Incongruous': 1,\n",
       "          'commented': 1,\n",
       "          'disturbed': 1,\n",
       "          'speedy': 1,\n",
       "          'Human': 1,\n",
       "          'loudness': 1,\n",
       "          'purpose': 34,\n",
       "          'mademoiselle': 3,\n",
       "          'wasp': 1,\n",
       "          'disfigured': 1,\n",
       "          'Please': 15,\n",
       "          'wash': 4,\n",
       "          'instruct': 1,\n",
       "          'FITNESS': 1,\n",
       "          'curing': 2,\n",
       "          'bitten': 1,\n",
       "          'Sonia': 399,\n",
       "          'service': 36,\n",
       "          'timid': 11,\n",
       "          'engagement': 2,\n",
       "          'underlip': 1,\n",
       "          'needed': 12,\n",
       "          'master': 2,\n",
       "          'legs': 20,\n",
       "          'bitter': 14,\n",
       "          'remote': 3,\n",
       "          'rummaged': 1,\n",
       "          'listen': 30,\n",
       "          'agonisingly': 2,\n",
       "          'bounty': 1,\n",
       "          'frowned': 5,\n",
       "          'wisdom': 4,\n",
       "          'asylums': 1,\n",
       "          'mutilated': 1,\n",
       "          'Such': 10,\n",
       "          '_the': 4,\n",
       "          'positively': 35,\n",
       "          'showed': 33,\n",
       "          'coward': 4,\n",
       "          'tree': 1,\n",
       "          'rusty': 1,\n",
       "          'idly': 1,\n",
       "          'blasphemer': 1,\n",
       "          'project': 6,\n",
       "          'idle': 2,\n",
       "          'exclaimed': 5,\n",
       "          'endure': 9,\n",
       "          'spermaceti': 1,\n",
       "          'feeling': 77,\n",
       "          'festivity': 2,\n",
       "          'groaning': 3,\n",
       "          'spacious': 1,\n",
       "          'dozed': 1,\n",
       "          'Son': 1,\n",
       "          'dozen': 6,\n",
       "          'Then': 123,\n",
       "          'regretting': 3,\n",
       "          'climate': 2,\n",
       "          'Thee': 2,\n",
       "          'soaked': 6,\n",
       "          'eagerly': 13,\n",
       "          'purchases': 1,\n",
       "          'recommended': 1,\n",
       "          'causing': 1,\n",
       "          'absorbed': 8,\n",
       "          'amusing': 2,\n",
       "          'They': 200,\n",
       "          'horrible-looking': 1,\n",
       "          'Ask': 3,\n",
       "          'est_': 1,\n",
       "          'disdainfully': 1,\n",
       "          'sensualist': 1,\n",
       "          'committing': 2,\n",
       "          'shall': 184,\n",
       "          'object': 47,\n",
       "          'hushing': 1,\n",
       "          'mouth': 20,\n",
       "          'letter': 65,\n",
       "          'Logic': 1,\n",
       "          'retaining': 1,\n",
       "          'morality': 2,\n",
       "          'singer': 1,\n",
       "          'stupid': 43,\n",
       "          'professor': 1,\n",
       "          'wreck': 1,\n",
       "          'Kobelev': 1,\n",
       "          'Lisbon': 1,\n",
       "          'nineteenth': 1,\n",
       "          'scream': 10,\n",
       "          'came': 242,\n",
       "          'crowbar': 2,\n",
       "          'saying': 50,\n",
       "          'signatures': 2,\n",
       "          'departing': 1,\n",
       "          'meetings': 3,\n",
       "          'Darya': 4,\n",
       "          'conclusion': 14,\n",
       "          'tempted': 6,\n",
       "          'lessons': 17,\n",
       "          'touches': 1,\n",
       "          'busy': 16,\n",
       "          'Barefoot': 1,\n",
       "          'Reaching': 2,\n",
       "          'buxom': 2,\n",
       "          'than': 181,\n",
       "          'bush': 4,\n",
       "          'bliss': 1,\n",
       "          'touched': 8,\n",
       "          'rich': 13,\n",
       "          'upbraiding': 1,\n",
       "          'mend': 1,\n",
       "          'rice': 3,\n",
       "          'emphatically': 6,\n",
       "          'plate': 4,\n",
       "          'wide': 28,\n",
       "          'stammered': 1,\n",
       "          'terrors': 2,\n",
       "          'foremost': 2,\n",
       "          'pocket': 55,\n",
       "          '_bonne': 1,\n",
       "          'clumsiness': 1,\n",
       "          'altogether': 21,\n",
       "          'X': 6,\n",
       "          'relish': 6,\n",
       "          'spilling': 1,\n",
       "          'nicely': 4,\n",
       "          'Creator': 1,\n",
       "          'SEND': 1,\n",
       "          'eyelids': 2,\n",
       "          'lurched': 2,\n",
       "          'hasten': 2,\n",
       "          'circling': 4,\n",
       "          'respond': 1,\n",
       "          'blew': 2,\n",
       "          'disaster': 1,\n",
       "          'fair': 6,\n",
       "          'job': 10,\n",
       "          \"'honourable\": 1,\n",
       "          'guerre': 3,\n",
       "          '_You_': 1,\n",
       "          'unexpectedly': 8,\n",
       "          'naturalness': 1,\n",
       "          'flaxen': 6,\n",
       "          'result': 3,\n",
       "          'smirched': 1,\n",
       "          'fail': 11,\n",
       "          'John': 3,\n",
       "          'best': 26,\n",
       "          'sooner': 10,\n",
       "          \"'travel\": 1,\n",
       "          'playfulness': 1,\n",
       "          'lots': 3,\n",
       "          'rings': 5,\n",
       "          'solicitude': 2,\n",
       "          'score': 5,\n",
       "          'preserve': 4,\n",
       "          'interrupting': 4,\n",
       "          '_en': 1,\n",
       "          'nature': 30,\n",
       "          'rolled': 2,\n",
       "          'twinkling': 1,\n",
       "          'here': 289,\n",
       "          'extent': 3,\n",
       "          'defiance': 2,\n",
       "          'debt': 13,\n",
       "          '_et': 1,\n",
       "          'pity': 18,\n",
       "          'accident': 10,\n",
       "          'sacrificing': 4,\n",
       "          'disdain': 2,\n",
       "          'country': 26,\n",
       "          'damsels': 1,\n",
       "          'adventures': 1,\n",
       "          'askew': 1,\n",
       "          'Playful': 1,\n",
       "          'planned': 2,\n",
       "          'logic': 2,\n",
       "          'argue': 1,\n",
       "          'tinge': 2,\n",
       "          'asked': 187,\n",
       "          'eradicate': 1,\n",
       "          'absent-mindedly': 1,\n",
       "          'mortified': 1,\n",
       "          'unbuttoned': 2,\n",
       "          'vain': 4,\n",
       "          '//www.gutenberg.org/2/5/5/2554/': 1,\n",
       "          'basque': 1,\n",
       "          'humming': 1,\n",
       "          'Method': 1,\n",
       "          'Instantly': 2,\n",
       "          \"'Lord\": 2,\n",
       "          'self-confidence': 3,\n",
       "          'remained': 31,\n",
       "          'subside': 2,\n",
       "          'criticised': 1,\n",
       "          '.': 10536,\n",
       "          'breathlessly': 1,\n",
       "          'much': 183,\n",
       "          'privilege': 1,\n",
       "          'exactness': 1,\n",
       "          'life': 135,\n",
       "          'First-rate': 1,\n",
       "          'persecute': 1,\n",
       "          'spit': 4,\n",
       "          'snap': 1,\n",
       "          'lift': 5,\n",
       "          'doubts': 5,\n",
       "          'worked': 16,\n",
       "          'jeeringly': 1,\n",
       "          'chill': 7,\n",
       "          'block': 3,\n",
       "          'manes': 1,\n",
       "          'contemplated': 1,\n",
       "          'administrative': 2,\n",
       "          'contingencies': 1,\n",
       "          'dram-shop': 1,\n",
       "          'prostrate': 1,\n",
       "          'flooding': 1,\n",
       "          'skirts': 1,\n",
       "          'remembering': 11,\n",
       "          'thing_': 1,\n",
       "          'played': 3,\n",
       "          'piercing': 3,\n",
       "          'Painters': 1,\n",
       "          \"'My\": 5,\n",
       "          'eighteen': 4,\n",
       "          'anticipating': 2,\n",
       "          'Capital': 1,\n",
       "          'violin': 1,\n",
       "          'trusted': 1,\n",
       "          'memorial': 4,\n",
       "          'feebler': 1,\n",
       "          'severity': 4,\n",
       "          'things': 110,\n",
       "          'woollen': 2,\n",
       "          'any': 173,\n",
       "          'split': 2,\n",
       "          'babies': 1,\n",
       "          'visitations': 1,\n",
       "          'emphatic': 2,\n",
       "          'consequence': 13,\n",
       "          'eBooks': 7,\n",
       "          'fairly': 16,\n",
       "          'boiled': 3,\n",
       "          'kitchen-table': 1,\n",
       "          'ringleaders': 1,\n",
       "          'Maybe': 7,\n",
       "          'tops': 1,\n",
       "          'supper': 1,\n",
       "          'Persia': 1,\n",
       "          'tune': 1,\n",
       "          'peremptory': 1,\n",
       "          'askance': 3,\n",
       "          'Cruel': 1,\n",
       "          'echoed': 2,\n",
       "          '_blunder_': 1,\n",
       "          'stillness': 2,\n",
       "          'lonelier': 1,\n",
       "          'Svirbey': 1,\n",
       "          'opinions': 3,\n",
       "          'Thank': 12,\n",
       "          'sleeps': 3,\n",
       "          'appropriately': 1,\n",
       "          'distribute': 5,\n",
       "          'sleepy': 1,\n",
       "          'forsaken': 1,\n",
       "          'disguise': 2,\n",
       "          'ungovernable': 1,\n",
       "          'exclaiming': 3,\n",
       "          'rushing': 6,\n",
       "          'previous': 22,\n",
       "          'spectacles': 1,\n",
       "          'dining': 3,\n",
       "          'old-fashioned': 5,\n",
       "          'had': 1587,\n",
       "          'hag': 4,\n",
       "          'hay': 6,\n",
       "          'Surely': 7,\n",
       "          'easy': 8,\n",
       "          'prison': 34,\n",
       "          'has': 391,\n",
       "          'hat': 37,\n",
       "          'good-humoured': 5,\n",
       "          'Avdotya': 115,\n",
       "          'lock-up': 1,\n",
       "          'casually': 5,\n",
       "          'posed': 1,\n",
       "          'possible': 56,\n",
       "          'firmer': 1,\n",
       "          'possibly': 15,\n",
       "          'birth': 3,\n",
       "          'shadow': 3,\n",
       "          'unique': 1,\n",
       "          'tambourine': 1,\n",
       "          'desire': 30,\n",
       "          'psychological': 7,\n",
       "          'articulated': 10,\n",
       "          'cart-horses': 2,\n",
       "          'Schleswig-Holstein': 1,\n",
       "          'remind': 2,\n",
       "          'pavement': 23,\n",
       "          'steps': 48,\n",
       "          'OF': 10,\n",
       "          'Further': 1,\n",
       "          'rhythmically': 1,\n",
       "          'beneficial': 2,\n",
       "          'right': 217,\n",
       "          'old': 200,\n",
       "          'crowd': 56,\n",
       "          'people': 165,\n",
       "          'Idiot': 2,\n",
       "          'Literally': 1,\n",
       "          'creed': 1,\n",
       "          'crown': 1,\n",
       "          'begin': 49,\n",
       "          'sure': 64,\n",
       "          'insistence': 2,\n",
       "          'stealthily': 4,\n",
       "          'Bend': 1,\n",
       "          'creep': 2,\n",
       "          'enemies': 3,\n",
       "          'gasps': 1,\n",
       "          'ruffled': 1,\n",
       "          'for': 1593,\n",
       "          'bottom': 10,\n",
       "          'rehearse': 1,\n",
       "          'PGLAF': 1,\n",
       "          'witty': 2,\n",
       "          'fog': 1,\n",
       "          'Good-day': 1,\n",
       "          'summoned': 4,\n",
       "          'pondered': 7,\n",
       "          \"'ordinary\": 1,\n",
       "          'foo': 2,\n",
       "          'pinched': 2,\n",
       "          'shakes': 1,\n",
       "          'energy': 4,\n",
       "          'losing': 9,\n",
       "          'bowing': 3,\n",
       "          'Think': 8,\n",
       "          'shaken': 5,\n",
       "          'First': 3,\n",
       "          'restlessness': 3,\n",
       "          'predisposition': 1,\n",
       "          'visitors': 9,\n",
       "          'Amalia': 68,\n",
       "          'recollect': 6,\n",
       "          'despair': 39,\n",
       "          'repellent': 1,\n",
       "          \"'And\": 10,\n",
       "          'suggestions': 1,\n",
       "          'slightly': 7,\n",
       "          'meddle': 1,\n",
       "          'ill-founded': 1,\n",
       "          'match': 8,\n",
       "          'raised': 33,\n",
       "          'Boulevard': 2,\n",
       "          'statements': 1,\n",
       "          'facility': 1,\n",
       "          'brutes': 1,\n",
       "          'son': 18,\n",
       "          'respectable': 12,\n",
       "          'beings': 1,\n",
       "          'magazines': 1,\n",
       "          'furnishing': 1,\n",
       "          'reducing': 1,\n",
       "          'soon': 102,\n",
       "          'Governor-General': 1,\n",
       "          'abjectly': 1,\n",
       "          'despised': 4,\n",
       "          'waits': 1,\n",
       "          'support': 11,\n",
       "          'constantly': 6,\n",
       "          'Hang': 5,\n",
       "          'Hand': 1,\n",
       "          'Pray': 2,\n",
       "          'grasping': 1,\n",
       "          'despises': 2,\n",
       "          'music': 2,\n",
       "          'happy': 30,\n",
       "          'waistcoat': 11,\n",
       "          'offer': 14,\n",
       "          'fascination': 1,\n",
       "          'forming': 3,\n",
       "          'conclusively': 3,\n",
       "          'hot-tempered': 1,\n",
       "          'shrilly': 2,\n",
       "          'talents': 1,\n",
       "          'verite_': 1,\n",
       "          'wedding-day': 1,\n",
       "          'Seeing': 8,\n",
       "          'circumstantial': 5,\n",
       "          'humbled': 3,\n",
       "          'extremity': 1,\n",
       "          'inside': 12,\n",
       "          'devices': 1,\n",
       "          \"'That\": 3,\n",
       "          'Engineering': 1,\n",
       "          'torturing': 5,\n",
       "          'smashed': 1,\n",
       "          'Damn': 13,\n",
       "          'feet': 27,\n",
       "          'examples': 4,\n",
       "          'suspiciousness': 1,\n",
       "          'adopt': 1,\n",
       "          'disgrace': 12,\n",
       "          'Sit': 7,\n",
       "          'Six': 3,\n",
       "          \"''\": 4192,\n",
       "          'proves': 4,\n",
       "          'exist': 10,\n",
       "          'tooth': 2,\n",
       "          'dealer': 1,\n",
       "          'effusions': 2,\n",
       "          'protested': 5,\n",
       "          'smelt': 3,\n",
       "          'floor': 36,\n",
       "          \"'clasped\": 1,\n",
       "          'uttered': 17,\n",
       "          'Possibly': 3,\n",
       "          'role': 3,\n",
       "          'momentary': 3,\n",
       "          'superfluous': 2,\n",
       "          'roll': 1,\n",
       "          \"'s\": 1628,\n",
       "          'palms': 1,\n",
       "          'pronounced': 10,\n",
       "          'ointment': 1,\n",
       "          \"'d\": 91,\n",
       "          'intent': 4,\n",
       "          \"'a\": 4,\n",
       "          'smelling': 2,\n",
       "          'rolling': 2,\n",
       "          \"'m\": 56,\n",
       "          'Pyotr': 172,\n",
       "          'transfigured': 1,\n",
       "          'fastened': 8,\n",
       "          'Inform': 1,\n",
       "          'wineglassful': 1,\n",
       "          'sniffed': 1,\n",
       "          'good-natured': 9,\n",
       "          'Madeira': 2,\n",
       "          \"'A\": 1,\n",
       "          'time': 383,\n",
       "          'push': 2,\n",
       "          'overturned': 1,\n",
       "          'shrieking': 4,\n",
       "          \"'I\": 32,\n",
       "          'breadth': 1,\n",
       "          'chain': 6,\n",
       "          'whoever': 1,\n",
       "          'Nokolay': 1,\n",
       "          'fawned': 1,\n",
       "          'chair': 53,\n",
       "          'Proudhon': 1,\n",
       "          'bribes': 3,\n",
       "          'rousing': 4,\n",
       "          'reverting': 1,\n",
       "          'Phew': 1,\n",
       "          'copse': 1,\n",
       "          'splutter': 1,\n",
       "          'persevere': 1,\n",
       "          'downloading': 1,\n",
       "          'risky': 1,\n",
       "          'Polenka': 45,\n",
       "          'choice': 2,\n",
       "          'gloomy': 25,\n",
       "          'bustle': 1,\n",
       "          'five-and-thirty': 1,\n",
       "          'fullest': 1,\n",
       "          'fretting': 3,\n",
       "          'exact': 3,\n",
       "          'minute': 116,\n",
       "          'fainting': 8,\n",
       "          'cooks': 2,\n",
       "          'Tap': 1,\n",
       "          'tear': 3,\n",
       "          'leave': 59,\n",
       "          'solved': 1,\n",
       "          'coincidences': 1,\n",
       "          'inscribed': 1,\n",
       "          'D-damn': 1,\n",
       "          'unaware': 1,\n",
       "          'sixty-five': 1,\n",
       "          'prevent': 8,\n",
       "          'spiritual': 2,\n",
       "          'occurrence': 1,\n",
       "          'insignificant': 2,\n",
       "          'attic': 2,\n",
       "          'sigh': 3,\n",
       "          'sign': 20,\n",
       "          'gratified': 2,\n",
       "          'shirts': 4,\n",
       "          'kindliness': 1,\n",
       "          'coppers': 5,\n",
       "          '_familiar_': 1,\n",
       "          'cleanliness': 2,\n",
       "          'axes': 1,\n",
       "          'current': 4,\n",
       "          \"'he\": 4,\n",
       "          'pruning-knife': 1,\n",
       "          'lazily': 4,\n",
       "          'falling': 8,\n",
       "          'ground': 26,\n",
       "          'peculiarly': 4,\n",
       "          'unintentionally': 1,\n",
       "          'Me': 7,\n",
       "          'Dagestan': 2,\n",
       "          'honour': 34,\n",
       "          'funeral': 33,\n",
       "          \"'your\": 3,\n",
       "          'understanding': 14,\n",
       "          'yards': 8,\n",
       "          'address': 23,\n",
       "          'witticism': 1,\n",
       "          'along': 52,\n",
       "          'My': 43,\n",
       "          'passengers': 1,\n",
       "          'brilliant': 5,\n",
       "          'studied': 2,\n",
       "          'wherever': 3,\n",
       "          'Mere': 1,\n",
       "          'accomplished': 1,\n",
       "          'Neva': 15,\n",
       "          'studies': 5,\n",
       "          'concealed': 6,\n",
       "          \"'Karl\": 1,\n",
       "          'love': 70,\n",
       "          '_Weekly': 3,\n",
       "          'bowled': 1,\n",
       "          'READ': 1,\n",
       "          'radish': 2,\n",
       "          'Defend': 2,\n",
       "          'prefer': 3,\n",
       "          'logical': 8,\n",
       "          'Enough': 12,\n",
       "          'betraying': 1,\n",
       "          'logically': 2,\n",
       "          'flagging': 1,\n",
       "          'undergone': 3,\n",
       "          'huskily': 1,\n",
       "          'working': 17,\n",
       "          'positive': 13,\n",
       "          'angry': 49,\n",
       "          'pelisse': 1,\n",
       "          'only': 420,\n",
       "          'tightly': 5,\n",
       "          'vigour': 1,\n",
       "          'Royalty': 2,\n",
       "          'opposed': 2,\n",
       "          'wondering': 12,\n",
       "          'Positive': 1,\n",
       "          '_assez': 1,\n",
       "          'Those': 3,\n",
       "          'loving': 1,\n",
       "          'scratched': 1,\n",
       "          'introducing': 3,\n",
       "          '``': 3739,\n",
       "          'believe_': 1,\n",
       "          'consoled': 1,\n",
       "          'afford': 1,\n",
       "          'apparent': 9,\n",
       "          'refrain': 3,\n",
       "          'goods': 3,\n",
       "          'everywhere': 10,\n",
       "          'degrade': 1,\n",
       "          'easiest': 1,\n",
       "          'Crucify': 1,\n",
       "          'rebounding': 1,\n",
       "          'preponderance': 1,\n",
       "          'dreaded': 6,\n",
       "          'pretend': 1,\n",
       "          'inflamed': 1,\n",
       "          'believes': 2,\n",
       "          'printing': 2,\n",
       "          'believed': 14,\n",
       "          'Our': 4,\n",
       "          'con-so-la-tion': 1,\n",
       "          'Out': 3,\n",
       "          'admired': 4,\n",
       "          'greatcoat': 3,\n",
       "          'locks': 2,\n",
       "          'laughing-stock': 2,\n",
       "          'allowed': 8,\n",
       "          'stole': 9,\n",
       "          'evidently': 18,\n",
       "          'listens': 1,\n",
       "          'winter': 6,\n",
       "          'unintentional': 1,\n",
       "          'divided': 5,\n",
       "          'Who': 37,\n",
       "          'poking': 2,\n",
       "          'Hullo': 1,\n",
       "          'thanking': 3,\n",
       "          'ruder': 1,\n",
       "          'loathe': 1,\n",
       "          'Why': 239,\n",
       "          'undertook': 2,\n",
       "          'cock-sparrow': 3,\n",
       "          'laundry': 1,\n",
       "          'spot': 19,\n",
       "          'louder': 5,\n",
       "          'date': 7,\n",
       "          'such': 276,\n",
       "          'filthy': 8,\n",
       "          'brainless': 1,\n",
       "          'stress': 4,\n",
       "          'Katia': 6,\n",
       "          'natural': 22,\n",
       "          'mangy': 1,\n",
       "          'conscious': 18,\n",
       "          'yielding': 1,\n",
       "          '_useful_': 1,\n",
       "          'si': 1,\n",
       "          'so': 800,\n",
       "          'swollen': 5,\n",
       "          'pulled': 36,\n",
       "          'unmasked': 1,\n",
       "          'se': 1,\n",
       "          'drunken': 31,\n",
       "          'unsolicited': 1,\n",
       "          \"'On\": 1,\n",
       "          \"'Oh\": 2,\n",
       "          'noteworthy': 2,\n",
       "          'differences': 1,\n",
       "          'epilepsy': 1,\n",
       "          'years': 95,\n",
       "          'course': 169,\n",
       "          'episodes': 1,\n",
       "          'experiments': 1,\n",
       "          'quarrelled': 9,\n",
       "          'ungentlemanly': 4,\n",
       "          'omitting': 1,\n",
       "          'razors': 1,\n",
       "          'tendency': 4,\n",
       "          'tore': 7,\n",
       "          'solitary': 7,\n",
       "          'limbs': 1,\n",
       "          'derive': 2,\n",
       "          'yawning': 2,\n",
       "          'haughty': 11,\n",
       "          'torn': 15,\n",
       "          'troubles': 1,\n",
       "          'stupidity': 8,\n",
       "          'councillor': 1,\n",
       "          'attraction': 2,\n",
       "          'suspicion': 30,\n",
       "          'revulsion': 3,\n",
       "          'constitutes': 2,\n",
       "          'troubled': 8,\n",
       "          'hareskin': 1,\n",
       "          'petition': 1,\n",
       "          'mused': 1,\n",
       "          'modestly': 2,\n",
       "          'Buch': 1,\n",
       "          '_your': 2,\n",
       "          'thereby': 2,\n",
       "          'civilian': 2,\n",
       "          'matches': 2,\n",
       "          'bashful': 3,\n",
       "          'Young': 1,\n",
       "          'compelled': 3,\n",
       "          'arriving': 2,\n",
       "          'reckoning': 16,\n",
       "          'twilight': 2,\n",
       "          'maintaining': 1,\n",
       "          'shouted': 89,\n",
       "          '_you_': 2,\n",
       "          'establishing': 1,\n",
       "          'leather': 10,\n",
       "          'dignified': 3,\n",
       "          'veins': 1,\n",
       "          'quarter': 17,\n",
       "          'workman': 14,\n",
       "          'concertina': 2,\n",
       "          \"'can\": 1,\n",
       "          'bursting': 1,\n",
       "          'whosoever': 1,\n",
       "          'storeys': 6,\n",
       "          'crushing': 2,\n",
       "          'Live': 2,\n",
       "          'owing': 10,\n",
       "          'entering': 6,\n",
       "          'Learned': 1,\n",
       "          'neighbourhood': 4,\n",
       "          'crowding': 2,\n",
       "          'giddy': 3,\n",
       "          'canvas': 1,\n",
       "          'Welcome': 2,\n",
       "          'abide': 1,\n",
       "          'seriously': 19,\n",
       "          'investigation': 2,\n",
       "          'suggesting': 1,\n",
       "          'squares': 1,\n",
       "          'Waesche_': 2,\n",
       "          'bordering': 1,\n",
       "          'superiors': 1,\n",
       "          'hairdresser': 1,\n",
       "          'siege': 2,\n",
       "          'million': 3,\n",
       "          'seventh': 1,\n",
       "          'possibility': 7,\n",
       "          'quite': 167,\n",
       "          'disrespect': 3,\n",
       "          'inwardly': 4,\n",
       "          'Either': 4,\n",
       "          'besides': 35,\n",
       "          'poems': 1,\n",
       "          'Viazemsky': 1,\n",
       "          'seventy': 1,\n",
       "          'patronage': 1,\n",
       "          'Money': 2,\n",
       "          'undisguised': 1,\n",
       "          'modest': 1,\n",
       "          'ostrich': 2,\n",
       "          'distrustfully': 3,\n",
       "          'ill-treating': 1,\n",
       "          'neglect': 2,\n",
       "          'emotion': 9,\n",
       "          'saving': 3,\n",
       "          'spoken': 21,\n",
       "          'one': 581,\n",
       "          'conscientiously': 1,\n",
       "          'open': 85,\n",
       "          'city': 2,\n",
       "          'boulevard': 4,\n",
       "          'wrath': 1,\n",
       "          'penitence': 1,\n",
       "          'thirdly': 3,\n",
       "          'bite': 1,\n",
       "          'waist': 2,\n",
       "          'presentiments': 1,\n",
       "          'shiver': 8,\n",
       "          'stifled': 3,\n",
       "          'stuffed': 3,\n",
       "          'La-la': 1,\n",
       "          'bits': 1,\n",
       "          'lingering': 2,\n",
       "          'spared': 4,\n",
       "          'shawl': 15,\n",
       "          'copecks': 36,\n",
       "          'proving': 3,\n",
       "          'meddling': 1,\n",
       "          'snatch': 3,\n",
       "          'ridiculous': 12,\n",
       "          'Schilleresque': 1,\n",
       "          '1.E.8': 4,\n",
       "          'imagining': 2,\n",
       "          'review': 1,\n",
       "          '1.E.5': 1,\n",
       "          '_speak_': 1,\n",
       "          '1.E.7': 3,\n",
       "          '1.E.6': 1,\n",
       "          'representing': 1,\n",
       "          '1.E.3': 1,\n",
       "          '1.E.2': 1,\n",
       "          'Seven': 1,\n",
       "          'third': 34,\n",
       "          'depressed': 4,\n",
       "          'stammer': 2,\n",
       "          'folly': 4,\n",
       "          'coats': 3,\n",
       "          ...})"
      ]
     },
     "execution_count": 18,
     "metadata": {},
     "output_type": "execute_result"
    }
   ],
   "source": [
    "nltk.FreqDist(text)"
   ]
  },
  {
   "cell_type": "code",
   "execution_count": 21,
   "metadata": {
    "collapsed": false
   },
   "outputs": [
    {
     "name": "stdout",
     "output_type": "stream",
     "text": [
      "Displaying 10 of 10 matches:\n",
      "rs and a sofa covered with American leather , full of holes , before which stoo\n",
      "ointed , beaded headdress and thick leather shoes ; she was cracking nuts and l\n",
      "nd with them a small greasy chamois leather purse with a steel rim and ring . T\n",
      "with an arched lid covered with red leather and studded with steel nails . The \n",
      "dly looked to see ; then four small leather cases . There was a chain , too , m\n",
      "en he had sunk down on the American leather sofa , which was in even worse cond\n",
      " for it 's foreign work and foreign leather ; the secretary of the English Emba\n",
      "ssian translation . It was bound in leather , old and worn . `` Where did you g\n",
      "urse off her neck , made of chamois leather ... a purse stuffed full of somethi\n",
      "r and the room smelt of mice and of leather . He lay in a sort of reverie : one\n"
     ]
    }
   ],
   "source": [
    "text.concordance('leather')"
   ]
  },
  {
   "cell_type": "code",
   "execution_count": 25,
   "metadata": {
    "collapsed": false
   },
   "outputs": [
    {
     "data": {
      "image/png": "[encoded data removed]",
      "text/plain": [
       "<matplotlib.figure.Figure at 0x11c11f98>"
      ]
     },
     "metadata": {},
     "output_type": "display_data"
    }
   ],
   "source": [
    "text.dispersion_plot([\"leather\", \"sofa\",\"furniture\"])"
   ]
  },
  {
   "cell_type": "code",
   "execution_count": 27,
   "metadata": {
    "collapsed": false
   },
   "outputs": [
    {
     "data": {
      "text/plain": [
       "['fawn',\n",
       " 'writings',\n",
       " 'nunnery',\n",
       " 'clotted',\n",
       " 'self-reliant',\n",
       " 'increase',\n",
       " 'Livingstone',\n",
       " '_might_',\n",
       " 'wheeled',\n",
       " 'originality',\n",
       " 'superficially',\n",
       " '_when',\n",
       " 'meadows',\n",
       " 'fogeys',\n",
       " 'anaemic',\n",
       " 'Old',\n",
       " 'buttonhole',\n",
       " 'straws',\n",
       " 'busybody',\n",
       " 'self-abnegation',\n",
       " 'scraped',\n",
       " 'errors',\n",
       " 'cooking',\n",
       " 'contributed',\n",
       " 'shocks',\n",
       " 'specialist',\n",
       " 'dumbfoundered',\n",
       " 'Wanderers',\n",
       " 'china',\n",
       " 'pretensions',\n",
       " 'elaborate',\n",
       " 'N',\n",
       " 'golden',\n",
       " 'secluded',\n",
       " \"'Serves\",\n",
       " 'cherishing',\n",
       " 'mystic',\n",
       " 'paperwork',\n",
       " 'harden',\n",
       " 'LUZHIN',\n",
       " 'gashed',\n",
       " 'morally',\n",
       " 'sweeter',\n",
       " 'apoplexy',\n",
       " 'expressively',\n",
       " 'vanities',\n",
       " 'NOTICE',\n",
       " 'organized',\n",
       " 'BUT',\n",
       " 'Waterloo',\n",
       " 'provincial',\n",
       " 'travel',\n",
       " 'drying',\n",
       " 'feature',\n",
       " 'Killing',\n",
       " 'Anatomy',\n",
       " 'swine',\n",
       " 'short-tempered',\n",
       " 'promotion',\n",
       " 'matter-of-fact',\n",
       " 'effective',\n",
       " 'endeavoured',\n",
       " 'post-haste',\n",
       " 'fleetingly',\n",
       " 'presiding',\n",
       " \"'new\",\n",
       " 'specks',\n",
       " 'nonsensical',\n",
       " '_legal_',\n",
       " 'govern',\n",
       " '_O',\n",
       " '_I',\n",
       " 'fidelity',\n",
       " 'dreamer',\n",
       " 'tallow-candle',\n",
       " 'Hit',\n",
       " 'maturer',\n",
       " 'unforeseen',\n",
       " 'rescued',\n",
       " 'matured',\n",
       " 'approve',\n",
       " 'nobler',\n",
       " 'biding',\n",
       " 'aesthetics',\n",
       " 'Pavlovitch',\n",
       " '_tone_',\n",
       " 'spotless',\n",
       " 'uninfluenced',\n",
       " 'burial',\n",
       " 'woes',\n",
       " 'garment',\n",
       " 'depositing',\n",
       " 'cathedral',\n",
       " 'novices',\n",
       " 'borne',\n",
       " 'indiscretion',\n",
       " 'brutish',\n",
       " 'outburst',\n",
       " 'stamping',\n",
       " 'Work',\n",
       " 'comprehen',\n",
       " '_her_',\n",
       " 'tinkled',\n",
       " 'obstructing',\n",
       " 'ANYTHING',\n",
       " 'Afrosinya',\n",
       " 'Incongruous',\n",
       " 'commented',\n",
       " 'disturbed',\n",
       " 'speedy',\n",
       " 'Human',\n",
       " 'loudness',\n",
       " 'ardour',\n",
       " 'wasp',\n",
       " 'disfigured',\n",
       " 'instruct',\n",
       " 'FITNESS',\n",
       " 'bitten',\n",
       " 'Vassily',\n",
       " 'underlip',\n",
       " 'rummaged',\n",
       " 'convention',\n",
       " \"'she\",\n",
       " 'mutilated',\n",
       " 'tree',\n",
       " 'rusty',\n",
       " 'idly',\n",
       " 'blasphemer',\n",
       " 'spermaceti',\n",
       " 'dozed',\n",
       " 'recommended',\n",
       " 'causing',\n",
       " 'horrible-looking',\n",
       " 'est_',\n",
       " 'disdainfully',\n",
       " 'sensualist',\n",
       " 'hushing',\n",
       " 'Logic',\n",
       " 'retaining',\n",
       " 'singer',\n",
       " 'professor',\n",
       " 'prisons',\n",
       " 'Kobelev',\n",
       " 'Lisbon',\n",
       " 'nineteenth',\n",
       " 'departing',\n",
       " 'touches',\n",
       " 'Barefoot',\n",
       " 'candle-ends',\n",
       " 'bliss',\n",
       " 'upbraiding',\n",
       " 'mend',\n",
       " 'petrified',\n",
       " 'stammered',\n",
       " '_bonne',\n",
       " 'clumsiness',\n",
       " 'spilling',\n",
       " 'SEND',\n",
       " 'sheepish',\n",
       " 'fattish',\n",
       " 'scrofulous',\n",
       " 'respond',\n",
       " 'disaster',\n",
       " '_You_',\n",
       " 'naturalness',\n",
       " 'smirched',\n",
       " \"'travel\",\n",
       " 'playfulness',\n",
       " '_en',\n",
       " 'twinkling',\n",
       " '_et',\n",
       " 'damsels',\n",
       " 'adventures',\n",
       " 'askew',\n",
       " 'Playful',\n",
       " 'argue',\n",
       " 'eradicate',\n",
       " 'absent-mindedly',\n",
       " 'mortified',\n",
       " 'alternate',\n",
       " '//www.gutenberg.org/2/5/5/2554/',\n",
       " 'basque',\n",
       " 'humming',\n",
       " 'truthful',\n",
       " 'Method',\n",
       " 'slay',\n",
       " 'criticised',\n",
       " 'breathlessly',\n",
       " 'privilege',\n",
       " 'exactness',\n",
       " 'First-rate',\n",
       " 'reproof',\n",
       " 'jeeringly',\n",
       " 'manes',\n",
       " 'contemplated',\n",
       " 'propositions',\n",
       " 'contingencies',\n",
       " 'prostrate',\n",
       " 'flooding',\n",
       " 'skirts',\n",
       " 'thing_',\n",
       " 'sloven',\n",
       " 'Painters',\n",
       " 'Capital',\n",
       " 'violin',\n",
       " 'trusted',\n",
       " 'feebler',\n",
       " 'dryness',\n",
       " 'babies',\n",
       " 'visitations',\n",
       " 'kitchen-table',\n",
       " 'ringleaders',\n",
       " 'tops',\n",
       " 'supper',\n",
       " 'Persia',\n",
       " 'tune',\n",
       " 'peremptory',\n",
       " '_blunder_',\n",
       " 'lonelier',\n",
       " 'Svirbey',\n",
       " 'appropriately',\n",
       " 'sleepy',\n",
       " 'forsaken',\n",
       " 'ungovernable',\n",
       " 'spectacles',\n",
       " 'milky',\n",
       " 'Rodionovitch',\n",
       " 'posed',\n",
       " 'firmer',\n",
       " 'unique',\n",
       " 'dish-clout',\n",
       " 'Schleswig-Holstein',\n",
       " 'Further',\n",
       " 'Literally',\n",
       " 'creed',\n",
       " 'crown',\n",
       " 'postmaster',\n",
       " 'gasps',\n",
       " 'ruffled',\n",
       " 'rehearse',\n",
       " 'PGLAF',\n",
       " 'fog',\n",
       " \"'ordinary\",\n",
       " 'shakes',\n",
       " 'predisposition',\n",
       " 'repellent',\n",
       " 'meddle',\n",
       " 'ill-founded',\n",
       " 'statements',\n",
       " 'facility',\n",
       " 'brutes',\n",
       " 'beings',\n",
       " 'magazines',\n",
       " 'furnishing',\n",
       " 'reducing',\n",
       " 'Governor-General',\n",
       " 'abjectly',\n",
       " 'waits',\n",
       " 'Hand',\n",
       " 'senate',\n",
       " 'grasping',\n",
       " 'fascination',\n",
       " 'hot-tempered',\n",
       " 'talents',\n",
       " 'verite_',\n",
       " 'wedding-day',\n",
       " 'sighs',\n",
       " 'extremity',\n",
       " 'devices',\n",
       " 'Engineering',\n",
       " 'smashed',\n",
       " 'mighty',\n",
       " 'accelerate',\n",
       " 'suspiciousness',\n",
       " '_Crevez',\n",
       " 'dealer',\n",
       " \"'clasped\",\n",
       " 'roll',\n",
       " 'palms',\n",
       " 'ointment',\n",
       " 'chiens',\n",
       " 'Inform',\n",
       " 'wineglassful',\n",
       " 'sniffed',\n",
       " 'Regaining',\n",
       " \"'A\",\n",
       " 'overturned',\n",
       " 'quantity',\n",
       " 'breadth',\n",
       " 'whoever',\n",
       " 'Nokolay',\n",
       " 'touchingly',\n",
       " 'Proudhon',\n",
       " 'reverting',\n",
       " 'Phew',\n",
       " 'copse',\n",
       " 'splutter',\n",
       " 'persevere',\n",
       " 'downloading',\n",
       " 'bustle',\n",
       " 'five-and-thirty',\n",
       " 'fullest',\n",
       " 'Tap',\n",
       " 'solved',\n",
       " 'coincidences',\n",
       " 'inscribed',\n",
       " 'spiral',\n",
       " 'D-damn',\n",
       " 'unaware',\n",
       " 'sixty-five',\n",
       " 'occurrence',\n",
       " 'cabinet-maker',\n",
       " \"'Behold\",\n",
       " 'kindliness',\n",
       " '_familiar_',\n",
       " 'axes',\n",
       " 'incautiously',\n",
       " 'pruning-knife',\n",
       " 'Dementyev',\n",
       " 'unintentionally',\n",
       " 'Briefly',\n",
       " 'witticism',\n",
       " 'passengers',\n",
       " 'Mere',\n",
       " 'accomplished',\n",
       " \"'Karl\",\n",
       " 'READ',\n",
       " 'obstinacy',\n",
       " 'betraying',\n",
       " 'flagging',\n",
       " 'fresher',\n",
       " 'pelisse',\n",
       " 'vigour',\n",
       " 'Positive',\n",
       " '_assez',\n",
       " 'loving',\n",
       " 'scratched',\n",
       " 'believe_',\n",
       " 'consoled',\n",
       " 'afford',\n",
       " 'degrade',\n",
       " 'easiest',\n",
       " 'Crucify',\n",
       " 'rebounding',\n",
       " 'preponderance',\n",
       " 'snow',\n",
       " 'pretend',\n",
       " 'inflamed',\n",
       " 'con-so-la-tion',\n",
       " 'undertone',\n",
       " 'listens',\n",
       " 'deserves',\n",
       " 'Hullo',\n",
       " 'ruder',\n",
       " 'Society',\n",
       " 'laundry',\n",
       " 'brainless',\n",
       " 'Precisely',\n",
       " 'mangy',\n",
       " 'yielding',\n",
       " '_useful_',\n",
       " 'si',\n",
       " 'unmasked',\n",
       " 'se',\n",
       " 'unsolicited',\n",
       " \"'On\",\n",
       " 'epilepsy',\n",
       " 'episodes',\n",
       " 'experiments',\n",
       " 'omitting',\n",
       " 'razors',\n",
       " 'rascal',\n",
       " 'limbs',\n",
       " 'troubles',\n",
       " 'councillor',\n",
       " 'celebrate',\n",
       " 'hareskin',\n",
       " 'petition',\n",
       " 'mused',\n",
       " 'Buch',\n",
       " 'pock-marked',\n",
       " 'maintaining',\n",
       " \"He'll\",\n",
       " 'exactitude',\n",
       " 'veins',\n",
       " \"'can\",\n",
       " 'bursting',\n",
       " 'whosoever',\n",
       " 'imbecile',\n",
       " 'Learned',\n",
       " 'flustered',\n",
       " 'canvas',\n",
       " 'abide',\n",
       " 'suggesting',\n",
       " 'squares',\n",
       " 'bordering',\n",
       " 'superiors',\n",
       " 'hairdresser',\n",
       " 'seventh',\n",
       " 'poems',\n",
       " 'Viazemsky',\n",
       " 'seventy',\n",
       " 'patronage',\n",
       " 'undisguised',\n",
       " 'modest',\n",
       " 'err',\n",
       " 'conscientiously',\n",
       " 'wrath',\n",
       " 'penitence',\n",
       " 'occupy',\n",
       " 'bite',\n",
       " 'physically',\n",
       " 'La-la',\n",
       " 'bits',\n",
       " 'meddling',\n",
       " 'Schilleresque',\n",
       " '1.E.5',\n",
       " '_speak_',\n",
       " '1.E.6',\n",
       " 'representing',\n",
       " '1.E.3',\n",
       " '1.E.2',\n",
       " 'Seven',\n",
       " 'executed',\n",
       " 'upholsterers',\n",
       " 'not_',\n",
       " 'alley',\n",
       " 'uninterrupted',\n",
       " \"'we\",\n",
       " 'Jewish',\n",
       " 'Ech',\n",
       " 'convulsive',\n",
       " 's/he',\n",
       " 'altered',\n",
       " 'managing',\n",
       " 'butchered',\n",
       " 'Loose',\n",
       " 'pencilled',\n",
       " 'circulating',\n",
       " 'hiding-place',\n",
       " 'chiselled',\n",
       " 'heeding',\n",
       " 'parsimony',\n",
       " 'interrogations',\n",
       " 'investigators',\n",
       " 'harangue',\n",
       " 'planed',\n",
       " 'rejoiced',\n",
       " 'novels',\n",
       " 'charmed',\n",
       " 'charlatanism',\n",
       " 'balconies',\n",
       " 'Irtish',\n",
       " 'infallible',\n",
       " 'outlet',\n",
       " 'sixthly',\n",
       " 'incontestably',\n",
       " '_could',\n",
       " 'grey-headed',\n",
       " 'artistically',\n",
       " 'Filka',\n",
       " 'expiate',\n",
       " 'overflowed',\n",
       " '_You',\n",
       " 'Church',\n",
       " 'brave',\n",
       " 'upholstered',\n",
       " 'refreshed',\n",
       " 'thinkable',\n",
       " 'inappropriately',\n",
       " 'ever-burning',\n",
       " 'jobs',\n",
       " 'preach',\n",
       " 'revealed',\n",
       " 'gratefully',\n",
       " 'jovial',\n",
       " 'exhortations',\n",
       " 'parapet',\n",
       " 'millionaire',\n",
       " 'unfairly',\n",
       " 'LIABLE',\n",
       " 'riddle',\n",
       " \"Potchinkov's\",\n",
       " 'repulse',\n",
       " 'compels',\n",
       " 'moans',\n",
       " 'sentinel',\n",
       " 'caring',\n",
       " 'plantation',\n",
       " 'companionship',\n",
       " 'unconsciousness',\n",
       " 'raging',\n",
       " 'distinguishing',\n",
       " 'motives',\n",
       " 'Princess',\n",
       " 'enable',\n",
       " 'unsafe',\n",
       " 'abject',\n",
       " 'Round',\n",
       " 'conveyance',\n",
       " 'stupids',\n",
       " 'infamies',\n",
       " 'ill-humoured',\n",
       " 'blab',\n",
       " 'binary',\n",
       " 'Towards',\n",
       " 'preparatory',\n",
       " '_cannot',\n",
       " 'Natalya',\n",
       " 'clapping',\n",
       " 'wrappers',\n",
       " '_as',\n",
       " 'Clear',\n",
       " 'IRS',\n",
       " 'barber',\n",
       " 'healthy-looking',\n",
       " '_a_',\n",
       " 'idiotically',\n",
       " 'peculiarities',\n",
       " 'effects',\n",
       " 'inaudibly',\n",
       " 'steamer',\n",
       " 'Ekaterininsky',\n",
       " 'presumption',\n",
       " 'deceiving',\n",
       " 'ghostly',\n",
       " 'aspects',\n",
       " 'nicher',\n",
       " 'sums',\n",
       " 'unveil',\n",
       " 'retract',\n",
       " 'Mont',\n",
       " 'traffic',\n",
       " 'darn',\n",
       " 'snare',\n",
       " 'Suffering',\n",
       " '60',\n",
       " '2554',\n",
       " 'Prompting',\n",
       " 'malignance',\n",
       " 'francais_',\n",
       " 'India-rubber',\n",
       " 'sleepless',\n",
       " 'lobster',\n",
       " '_tenez',\n",
       " 'divine',\n",
       " 'noble-hearted',\n",
       " 'scandals',\n",
       " 'dimensions',\n",
       " 'Timidly',\n",
       " 'tea-glass',\n",
       " 'refer',\n",
       " 'prosecution',\n",
       " 'phenomenally',\n",
       " 'meal',\n",
       " \"'Change\",\n",
       " 'perturbed',\n",
       " 'unpractised',\n",
       " 'he_',\n",
       " 'Prilukov',\n",
       " 'queer-looking',\n",
       " 'accumulated',\n",
       " 'dawned',\n",
       " 'legacy',\n",
       " 'meals',\n",
       " \"'Shall\",\n",
       " 'hem',\n",
       " 'bubble',\n",
       " 'verb',\n",
       " 'delicious',\n",
       " 'imbibed',\n",
       " 'peaceful',\n",
       " 'thickly-set',\n",
       " 'destinies',\n",
       " 'mice',\n",
       " 'buying',\n",
       " 'abused',\n",
       " '_Gott',\n",
       " 'rescuing',\n",
       " 'Investigation',\n",
       " 'downcast',\n",
       " 'frightened-looking',\n",
       " 'I.O.U',\n",
       " 'pedestal',\n",
       " 'admiring',\n",
       " \"Marmeladov's\",\n",
       " 'sympathetically',\n",
       " 'blinded',\n",
       " 'stubborn',\n",
       " '2001',\n",
       " 'invalidity',\n",
       " 'happened._',\n",
       " 'predestined',\n",
       " 'puppy',\n",
       " 'perspired',\n",
       " 'indemnify',\n",
       " 'decree',\n",
       " 'failures',\n",
       " 'disdained',\n",
       " 'Explained',\n",
       " '_nihil',\n",
       " 'externally',\n",
       " 'Fie',\n",
       " 'plagiarists',\n",
       " \"'trial\",\n",
       " 'wriggling',\n",
       " 'Scarcely',\n",
       " 'crestfallen',\n",
       " 'Noah',\n",
       " 'accompanying',\n",
       " 'herrings',\n",
       " 'EXPRESS',\n",
       " 'underclothes',\n",
       " 'swirling',\n",
       " 'coiners',\n",
       " 'self-abasement',\n",
       " 'unhewn',\n",
       " 'assaults',\n",
       " 'quicken',\n",
       " 'reeled',\n",
       " 'greenness',\n",
       " 'nurse',\n",
       " 'Expound',\n",
       " 'fullness',\n",
       " 'leaping',\n",
       " 'OWNER',\n",
       " 'overawe',\n",
       " 'bulged',\n",
       " 'reactionaries',\n",
       " 'infrequently',\n",
       " 'periodic',\n",
       " \"'paper\",\n",
       " 'forasmuch',\n",
       " 'vin',\n",
       " 'marriages',\n",
       " 'attendance',\n",
       " 'good-tempered',\n",
       " 'Privy',\n",
       " 'objections',\n",
       " 'thickest',\n",
       " 'gesticulating',\n",
       " 'male',\n",
       " 'dislikes',\n",
       " 'hugs',\n",
       " \"'not\",\n",
       " 'wiles',\n",
       " 'saint',\n",
       " 'notre',\n",
       " 'resentful',\n",
       " 'appealed',\n",
       " 'authentic',\n",
       " 'cellars',\n",
       " \"chemist's'\",\n",
       " 'Giving',\n",
       " 'adorned',\n",
       " 'locking',\n",
       " 'distortion',\n",
       " 'all_',\n",
       " 'roots',\n",
       " 'queerness',\n",
       " 'ruining',\n",
       " 'travelling',\n",
       " '_friendship_',\n",
       " 'tentatively',\n",
       " 'trivialities',\n",
       " 'buys',\n",
       " 'plain-stained',\n",
       " 'Trifles',\n",
       " \"'nobler\",\n",
       " 'Silver',\n",
       " 'eloquence',\n",
       " 'courses',\n",
       " 'piping',\n",
       " 'hypochondriacal',\n",
       " 'operation',\n",
       " 'silky',\n",
       " 'expiation',\n",
       " 'impudence',\n",
       " 'attentions',\n",
       " 'declaim',\n",
       " 'nosegays',\n",
       " 'Principle',\n",
       " 'stomach',\n",
       " \"woman's\",\n",
       " 'resembling',\n",
       " '84116',\n",
       " 'castle',\n",
       " 'exhibited',\n",
       " 'contralto',\n",
       " 'thereafter',\n",
       " 'corpulence',\n",
       " 'narcissus',\n",
       " 'numbed',\n",
       " 'rail',\n",
       " 'introduction',\n",
       " 'threatening',\n",
       " 'essays',\n",
       " 'IF',\n",
       " 'peaceably',\n",
       " 'Drunken',\n",
       " 'demonstrations',\n",
       " 'stifle',\n",
       " 'grace',\n",
       " 'bethought',\n",
       " 'Often',\n",
       " 'submissively',\n",
       " 'sarcastic',\n",
       " 'Augen',\n",
       " 'suffocating',\n",
       " 'mawkish',\n",
       " 'permanence',\n",
       " \"'Defend\",\n",
       " 'commotion',\n",
       " 'steppe',\n",
       " 'frail',\n",
       " 'suppliant',\n",
       " 'tryst',\n",
       " 'yawn',\n",
       " 'virus',\n",
       " 'accepting',\n",
       " 'Tolstyakov',\n",
       " 'unequal',\n",
       " 'Capitol',\n",
       " 'arson',\n",
       " 'barred',\n",
       " 'barrel',\n",
       " 'amusements',\n",
       " 'pettishly',\n",
       " 'Explain',\n",
       " 'defended',\n",
       " 'Gambrinus',\n",
       " 'Mihailovitch',\n",
       " 'degraded',\n",
       " 'Kingdom',\n",
       " 'Dirt',\n",
       " 'writer',\n",
       " 'sect.',\n",
       " 'boarding',\n",
       " 'ceasing',\n",
       " 'sunny',\n",
       " 'resent',\n",
       " 'adhered',\n",
       " 'frightening',\n",
       " 'ring-bedecked',\n",
       " 'devoured',\n",
       " 'pleasures',\n",
       " 'harassing',\n",
       " 'sew',\n",
       " 'slanting',\n",
       " '1.D',\n",
       " '#',\n",
       " '_four_',\n",
       " 'seconded',\n",
       " 'rascally',\n",
       " 'propose',\n",
       " \"'Mother\",\n",
       " 'rite',\n",
       " 'acutely',\n",
       " 'screeched',\n",
       " 'hardship',\n",
       " 'smoldering',\n",
       " \"'question\",\n",
       " 'lawgiver',\n",
       " 'improved',\n",
       " 'barely',\n",
       " 'harpy',\n",
       " 'timorous',\n",
       " 'scamp',\n",
       " 'majesty',\n",
       " 'loan',\n",
       " 'smashing',\n",
       " 'five-storied',\n",
       " 'Rousseau',\n",
       " 'Murderer',\n",
       " 'acceptance',\n",
       " 'satire',\n",
       " 'Nekrassov',\n",
       " 'implicit',\n",
       " 'initiation',\n",
       " 'Mack',\n",
       " 'sweetheart',\n",
       " \"what's\",\n",
       " 'disputing',\n",
       " 'races',\n",
       " 'systematic',\n",
       " \"She's\",\n",
       " 'Fetch',\n",
       " 'slyly',\n",
       " 'easy-chair',\n",
       " 'pound',\n",
       " 'backing',\n",
       " 'binding',\n",
       " 'chase',\n",
       " 'renounced',\n",
       " 'choking',\n",
       " 'consolations',\n",
       " 'decoy',\n",
       " 'Plestcheiev',\n",
       " 'pecking',\n",
       " 'ugliness',\n",
       " 'specimen',\n",
       " 'cigar',\n",
       " 'epithet',\n",
       " 'Linen',\n",
       " 'viewing',\n",
       " 'dressing-case',\n",
       " 'nickname',\n",
       " 'expend',\n",
       " 'Son',\n",
       " 'regulating',\n",
       " 'redistribution',\n",
       " 'lads',\n",
       " 'surprises',\n",
       " 'admission',\n",
       " 'danke',\n",
       " 'sojourning',\n",
       " '_buts_',\n",
       " 'defiantly',\n",
       " 'victims',\n",
       " 'emergency',\n",
       " 'mischance',\n",
       " 'standstill',\n",
       " 'flannel',\n",
       " 'kammerjunker',\n",
       " 'pounds',\n",
       " '//pglaf.org/fundraising',\n",
       " 'stylish',\n",
       " 'Accursed',\n",
       " 'oval',\n",
       " 'battalion',\n",
       " 'sanity',\n",
       " 'eating-houses',\n",
       " 'religion',\n",
       " 'convulsions',\n",
       " 'pedlars',\n",
       " 'obscures',\n",
       " 'Domain',\n",
       " 'well-built',\n",
       " 'unintentional',\n",
       " 'wrinkled',\n",
       " 'hatched',\n",
       " 'pincers',\n",
       " 'integral',\n",
       " 'Young',\n",
       " 'primarily',\n",
       " 'uncertainties',\n",
       " 'span',\n",
       " 'jewellery',\n",
       " 'harnessed',\n",
       " 'tasting',\n",
       " 'elsewhere',\n",
       " 'do-own',\n",
       " 'imps',\n",
       " 'inducements',\n",
       " 'redeemed',\n",
       " 'Africa',\n",
       " 'maturity',\n",
       " 'faded',\n",
       " 'medical',\n",
       " 'genial',\n",
       " 'impudently',\n",
       " '1.A',\n",
       " 'defined',\n",
       " 'likewise',\n",
       " 'haunt',\n",
       " 'chat',\n",
       " 'STRICT',\n",
       " 'concealment',\n",
       " 'declaimed',\n",
       " 'stiffly',\n",
       " 'codes',\n",
       " 'fixing',\n",
       " 'idleness',\n",
       " 'Noticing',\n",
       " 'occasional',\n",
       " 'definitely',\n",
       " 'actors',\n",
       " 'scraps',\n",
       " 'imploringly',\n",
       " 'elements',\n",
       " 'wrongly',\n",
       " 'beginnings',\n",
       " 'Golgotha',\n",
       " 'over-studying',\n",
       " 'anticipations',\n",
       " 'Government',\n",
       " 'turn-over',\n",
       " 'oracle',\n",
       " 'code',\n",
       " 'Fairbanks',\n",
       " 'knotted',\n",
       " 'laziness',\n",
       " 'results',\n",
       " 'existing',\n",
       " 'softer',\n",
       " 'dainty',\n",
       " 'luxuries',\n",
       " 'Notice',\n",
       " 'natural_',\n",
       " 'Step',\n",
       " 'outwards',\n",
       " 'balls',\n",
       " 'mixing',\n",
       " 'Vague',\n",
       " 'Maurice',\n",
       " '_they',\n",
       " 'Directly',\n",
       " 'licensed',\n",
       " 'superstitiously',\n",
       " \"'_seems_\",\n",
       " 'expresses',\n",
       " 'publications',\n",
       " 'straight-forward',\n",
       " 'douches',\n",
       " 'licence',\n",
       " 'second-rate',\n",
       " 'deduced',\n",
       " 'involved',\n",
       " 'unwittingly',\n",
       " 'survey',\n",
       " 'bookish',\n",
       " 'dissolute',\n",
       " 'fractured',\n",
       " 'rush-bottom',\n",
       " 'dormouse',\n",
       " 'exciting',\n",
       " 'Presently',\n",
       " 'assuring',\n",
       " 'capriciously',\n",
       " \"crow's\",\n",
       " 'babe',\n",
       " 'stolidly',\n",
       " 'wall-paper',\n",
       " 'dealings',\n",
       " \"latter's\",\n",
       " 'Ryazan',\n",
       " 'reflections',\n",
       " 'semi-delirium',\n",
       " 'insists',\n",
       " 'droite_',\n",
       " \"'This\",\n",
       " 'reproduce',\n",
       " 'paints',\n",
       " \"'hoping\",\n",
       " 'self-admiration',\n",
       " 'weaker',\n",
       " 'Police',\n",
       " 'purposes',\n",
       " 'bend',\n",
       " 'full-skirted',\n",
       " 'trumpet',\n",
       " 'Christmas',\n",
       " 'Duties',\n",
       " '_psychology_',\n",
       " 'educational',\n",
       " 'paws',\n",
       " 'sitting-room',\n",
       " 'wares',\n",
       " 'especial',\n",
       " 'singular',\n",
       " 'halted',\n",
       " 'patted',\n",
       " 'Defects',\n",
       " 'pyramids',\n",
       " 'mute',\n",
       " 'insight',\n",
       " 'seminarists',\n",
       " \"wife's\",\n",
       " 'decay',\n",
       " 'dispose',\n",
       " 'uncleanliness',\n",
       " 'thieves',\n",
       " 'heart-rending',\n",
       " '2011',\n",
       " 'bolting',\n",
       " 'insistent',\n",
       " 'parabola',\n",
       " 'isolation',\n",
       " 'bothering',\n",
       " 'pompous',\n",
       " 'REMEDIES',\n",
       " 'inconvenient',\n",
       " 'princesses',\n",
       " 'beneath',\n",
       " 'Garnett',\n",
       " 'profile',\n",
       " '_living',\n",
       " 'buildings',\n",
       " '_pity_',\n",
       " 'castigate',\n",
       " 'wander',\n",
       " 'fundamentally',\n",
       " 'dismissal',\n",
       " 'schwach',\n",
       " 'Trying',\n",
       " 'Simpletons',\n",
       " 'inferiority',\n",
       " 'shortest',\n",
       " 'Cruel',\n",
       " 'mainland',\n",
       " ...]"
      ]
     },
     "execution_count": 27,
     "metadata": {},
     "output_type": "execute_result"
    }
   ],
   "source": [
    "nltk.FreqDist(text).hapaxes()   # return words only show once"
   ]
  },
  {
   "cell_type": "markdown",
   "metadata": {},
   "source": [
    "### The find() and rfind() (“reverse find”) methods help us get the right index values to\n",
    "use for slicing the string"
   ]
  },
  {
   "cell_type": "code",
   "execution_count": 37,
   "metadata": {
    "collapsed": false
   },
   "outputs": [
    {
     "data": {
      "text/plain": [
       "-1"
      ]
     },
     "execution_count": 37,
     "metadata": {},
     "output_type": "execute_result"
    }
   ],
   "source": [
    "raw.find(\"PART I\")"
   ]
  },
  {
   "cell_type": "code",
   "execution_count": 38,
   "metadata": {
    "collapsed": false
   },
   "outputs": [
    {
     "data": {
      "text/plain": [
       "-1"
      ]
     },
     "execution_count": 38,
     "metadata": {},
     "output_type": "execute_result"
    }
   ],
   "source": [
    "raw.rfind(\"End of Project Gutenberg's Crime\")"
   ]
  },
  {
   "cell_type": "markdown",
   "metadata": {},
   "source": [
    "## Dealing with HTML"
   ]
  },
  {
   "cell_type": "code",
   "execution_count": 39,
   "metadata": {
    "collapsed": false
   },
   "outputs": [
    {
     "data": {
      "text/plain": [
       "'<!doctype html public \"-//W3C//DTD HTML 4.0 Transitional//EN'"
      ]
     },
     "execution_count": 39,
     "metadata": {},
     "output_type": "execute_result"
    }
   ],
   "source": [
    "url = \"http://news.bbc.co.uk/2/hi/health/2284783.stm\"\n",
    "html = urlopen(url).read()\n",
    "html[:60]"
   ]
  },
  {
   "cell_type": "code",
   "execution_count": 40,
   "metadata": {
    "collapsed": false
   },
   "outputs": [
    {
     "data": {
      "text/plain": [
       "u\"\\n\\nBBC NEWS | Health | Blondes 'to die out in 200 years'\\n\\n\\n\\n\\n\\n\\n\\n\\n\\n\\n\\n\\n\\n\\n\""
      ]
     },
     "execution_count": 40,
     "metadata": {},
     "output_type": "execute_result"
    }
   ],
   "source": [
    "from bs4 import BeautifulSoup\n",
    "\n",
    "#raw = nltk.clean_html(html)  # beautifulsoup does a better job\n",
    "soup = BeautifulSoup(html, \"lxml\")\n",
    "raw = soup.get_text()\n",
    "raw[:70]"
   ]
  },
  {
   "cell_type": "code",
   "execution_count": 41,
   "metadata": {
    "collapsed": false
   },
   "outputs": [
    {
     "data": {
      "text/plain": [
       "[u'BBC',\n",
       " u'NEWS',\n",
       " u'|',\n",
       " u'Health',\n",
       " u'|',\n",
       " u'Blondes',\n",
       " u\"'to\",\n",
       " u'die',\n",
       " u'out',\n",
       " u'in']"
      ]
     },
     "execution_count": 41,
     "metadata": {},
     "output_type": "execute_result"
    }
   ],
   "source": [
    "tokens = nltk.word_tokenize(raw)\n",
    "tokens[:10]"
   ]
  },
  {
   "cell_type": "code",
   "execution_count": 42,
   "metadata": {
    "collapsed": false
   },
   "outputs": [
    {
     "data": {
      "text/plain": [
       "[u'BBC',\n",
       " u'NEWS',\n",
       " u'|',\n",
       " u'Health',\n",
       " u'|',\n",
       " u'Blondes',\n",
       " u\"'\",\n",
       " u'to',\n",
       " u'die',\n",
       " u'out']"
      ]
     },
     "execution_count": 42,
     "metadata": {},
     "output_type": "execute_result"
    }
   ],
   "source": [
    "tokens_ = nltk.wordpunct_tokenize(raw)  # nltk.word_tokenize(the_text.translate(None, string.punctuation))\n",
    "tokens_[:10]"
   ]
  },
  {
   "cell_type": "code",
   "execution_count": 43,
   "metadata": {
    "collapsed": false
   },
   "outputs": [
    {
     "data": {
      "text/plain": [
       "[u'BBC',\n",
       " u'NEWS',\n",
       " u'|',\n",
       " u'Health',\n",
       " u'|',\n",
       " u'Blondes',\n",
       " u\"'to\",\n",
       " u'die',\n",
       " u'out',\n",
       " u'in']"
      ]
     },
     "execution_count": 43,
     "metadata": {},
     "output_type": "execute_result"
    }
   ],
   "source": [
    "text = nltk.Text(tokens)\n",
    "text[:10]"
   ]
  },
  {
   "cell_type": "code",
   "execution_count": 44,
   "metadata": {
    "collapsed": false
   },
   "outputs": [
    {
     "name": "stdout",
     "output_type": "stream",
     "text": [
      "blonde hair; n't disappear; Health stories; Alien 'abductees;\n",
      "Alzheimer's Polio; Blondes 'to; Congo Ebola; Country Profiles; Ebola\n",
      "outbreak; Front Page; Gene defect; Iraq Gene; Jonathan Rees; Middle\n",
      "East; Polio campaign; South Asia; Talking Point; Vegetables ward; aid\n",
      "diabetics'; big families\n"
     ]
    }
   ],
   "source": [
    "text.collocations()"
   ]
  },
  {
   "cell_type": "code",
   "execution_count": 45,
   "metadata": {
    "collapsed": false
   },
   "outputs": [
    {
     "name": "stdout",
     "output_type": "stream",
     "text": [
      "Displaying 7 of 7 matches:\n",
      "hey say too few people now carry the gene for blondes to last beyond the next \n",
      "blonde hair is caused by a recessive gene . In order for a child to have blond\n",
      " have blonde hair , it must have the gene on both sides of the family in the g\n",
      "ere is a disadvantage of having that gene or by chance . They do n't disappear\n",
      "des would disappear is if having the gene was a disadvantage and I do not thin\n",
      "er's Polio campaign launched in Iraq Gene defect explains high blood pressure \n",
      "er's Polio campaign launched in Iraq Gene defect explains high blood pressure \n"
     ]
    }
   ],
   "source": [
    "text.concordance('gene')"
   ]
  },
  {
   "cell_type": "code",
   "execution_count": 48,
   "metadata": {
    "collapsed": false
   },
   "outputs": [
    {
     "data": {
      "text/plain": [
       "'hey say too few people now carry the gene for blondes to last beyond t'"
      ]
     },
     "execution_count": 48,
     "metadata": {},
     "output_type": "execute_result"
    }
   ],
   "source": [
    "f = open('document.txt', 'rU')  # r tsands for read, U stands for universial\n",
    "raw = f.read()\n",
    "raw[:70]"
   ]
  },
  {
   "cell_type": "code",
   "execution_count": 49,
   "metadata": {
    "collapsed": false
   },
   "outputs": [
    {
     "name": "stdout",
     "output_type": "stream",
     "text": [
      "hey say too few people now carry the gene for blondes to last beyond the next\n",
      "blonde hair is caused by a recessive gene . In order for a child to have blond\n",
      "have blonde hair , it must have the gene on both sides of the family in the g\n",
      "ere is a disadvantage of having that gene or by chance . They do n't disappear\n",
      "des would disappear is if having the gene was a disadvantage and I do not thin\n",
      "er's Polio campaign launched in Iraq Gene defect explains high blood pressure\n",
      "er's Polio campaign launched in Iraq Gene defect explains high blood pressure\n",
      "In [46]:\n"
     ]
    }
   ],
   "source": [
    "f = open('document.txt', 'rU')\n",
    "for line in f:\n",
    "    print line.strip()  # remove \"\\n\""
   ]
  },
  {
   "cell_type": "markdown",
   "metadata": {},
   "source": [
    "### Examine the current directory"
   ]
  },
  {
   "cell_type": "code",
   "execution_count": 50,
   "metadata": {
    "collapsed": false
   },
   "outputs": [
    {
     "data": {
      "text/plain": [
       "['.ipynb_checkpoints',\n",
       " 'AnIntroductiontoInformationRetrieval.pdf',\n",
       " 'Capstone Proposal.ipynb',\n",
       " 'document.txt',\n",
       " 'NaturalLanguageProcessingWithPython.pdf',\n",
       " 'NLP Note Chapter 1.ipynb',\n",
       " 'NLP Note Chapter 2.ipynb',\n",
       " 'NLP Note Chapter 3.ipynb',\n",
       " 'project_report_template.md',\n",
       " 'README.md',\n",
       " 'report-example-1.pdf',\n",
       " 'report-example-2.pdf',\n",
       " 'report-example-3.pdf',\n",
       " 'textfiles',\n",
       " 'thinkstats2.pdf']"
      ]
     },
     "execution_count": 50,
     "metadata": {},
     "output_type": "execute_result"
    }
   ],
   "source": [
    "import os\n",
    "os.listdir('.')"
   ]
  },
  {
   "cell_type": "markdown",
   "metadata": {},
   "source": [
    "## Extracting text from PDF, MSWord, and Other Binary Formats - pypdf, pywin32"
   ]
  },
  {
   "cell_type": "markdown",
   "metadata": {},
   "source": [
    "## NLP Pipeline\n",
    "\n",
    "The processing pipeline: \n",
    "\n",
    "- open a URL and read its HTML content\n",
    "- remove the markup\n",
    "- tokenized and optionally converted into an nltk.Text object\n",
    "- lowercase all the words and extract the vocabulary."
   ]
  },
  {
   "cell_type": "markdown",
   "metadata": {},
   "source": [
    "## Strings: Text Processing at the Lowest Level\n",
    "\n",
    "long strings go over several lines:\n",
    "\n",
    "- backslash: no new lines\n",
    "- parentheses: no new lines\n",
    "- triple-quoted: give new lines"
   ]
  },
  {
   "cell_type": "code",
   "execution_count": 46,
   "metadata": {
    "collapsed": false
   },
   "outputs": [
    {
     "name": "stdout",
     "output_type": "stream",
     "text": [
      "Shall I compare thee to a Summer's day?Thou are more lovely and more temperate:\n"
     ]
    }
   ],
   "source": [
    "couplet = \"Shall I compare thee to a Summer's day?\"\\\n",
    "\"Thou are more lovely and more temperate:\" \n",
    "print couplet    "
   ]
  },
  {
   "cell_type": "code",
   "execution_count": 45,
   "metadata": {
    "collapsed": false
   },
   "outputs": [
    {
     "name": "stdout",
     "output_type": "stream",
     "text": [
      "Shall I compare thee to a Summer's day?\n",
      "Thou are more lovely and more temperate:\n"
     ]
    }
   ],
   "source": [
    "couplet = \"\"\"Shall I compare thee to a Summer's day?\n",
    "Thou are more lovely and more temperate:\"\"\"\n",
    "print couplet    "
   ]
  },
  {
   "cell_type": "code",
   "execution_count": 52,
   "metadata": {
    "collapsed": false
   },
   "outputs": [
    {
     "name": "stdout",
     "output_type": "stream",
     "text": [
      "f\n",
      "u\n",
      "r\n",
      "i\n",
      "o\n",
      "u\n",
      "s\n",
      "l\n",
      "y\n"
     ]
    }
   ],
   "source": [
    "# use for loops to iterate over the characters in strings:\n",
    "sent = 'colorless green ideas sleep furiously'\n",
    "for char in sent[-9:]:\n",
    "    print(char)"
   ]
  },
  {
   "cell_type": "code",
   "execution_count": 53,
   "metadata": {
    "collapsed": false
   },
   "outputs": [
    {
     "data": {
      "text/plain": [
       "28"
      ]
     },
     "execution_count": 53,
     "metadata": {},
     "output_type": "execute_result"
    }
   ],
   "source": [
    "sent.rfind('furiously')  #return -1 if not found"
   ]
  },
  {
   "cell_type": "code",
   "execution_count": 56,
   "metadata": {
    "collapsed": false
   },
   "outputs": [
    {
     "data": {
      "text/plain": [
       "28"
      ]
     },
     "execution_count": 56,
     "metadata": {},
     "output_type": "execute_result"
    }
   ],
   "source": [
    "sent.rindex('furiously')  # return  ValueError if not found\n"
   ]
  },
  {
   "cell_type": "code",
   "execution_count": 59,
   "metadata": {
    "collapsed": false
   },
   "outputs": [
    {
     "data": {
      "text/plain": [
       "['colorless green ideas sleep furiously']"
      ]
     },
     "execution_count": 59,
     "metadata": {},
     "output_type": "execute_result"
    }
   ],
   "source": [
    "sent.splitlines()  # a list of string, one per line"
   ]
  },
  {
   "cell_type": "code",
   "execution_count": 60,
   "metadata": {
    "collapsed": false
   },
   "outputs": [
    {
     "data": {
      "text/plain": [
       "['colorless', 'green', 'ideas', 'sleep', 'furiously']"
      ]
     },
     "execution_count": 60,
     "metadata": {},
     "output_type": "execute_result"
    }
   ],
   "source": [
    "sent.split()  # a list of words"
   ]
  },
  {
   "cell_type": "markdown",
   "metadata": {},
   "source": [
    "## Text Processing with Unicode\n",
    "\n",
    "- Encoding: Translate other encodings (GB2312, Latin-2, UTF-8) into Unicode (ASCII)\n",
    "- Decoding: Translate Unicode into other encodings"
   ]
  },
  {
   "cell_type": "code",
   "execution_count": 62,
   "metadata": {
    "collapsed": false
   },
   "outputs": [
    {
     "data": {
      "text/plain": [
       "u'Pruska Biblioteka Pa\\u0144stwowa. Jej dawne zbiory znane pod nazw\\u0105\\n\"Berlink'"
      ]
     },
     "execution_count": 62,
     "metadata": {},
     "output_type": "execute_result"
    }
   ],
   "source": [
    "import codecs\n",
    "\n",
    "path = nltk.data.find('corpora/unicode_samples/polish-lat2.txt')\n",
    "f = codecs.open(path, encoding='latin2')\n",
    "raw = f.read()\n",
    "raw[:70]"
   ]
  },
  {
   "cell_type": "code",
   "execution_count": 66,
   "metadata": {
    "collapsed": false
   },
   "outputs": [
    {
     "name": "stdout",
     "output_type": "stream",
     "text": [
      "97\n"
     ]
    }
   ],
   "source": [
    "# find the integer ordinal - ord\n",
    "\n",
    "print ord('a')"
   ]
  },
  {
   "cell_type": "markdown",
   "metadata": {},
   "source": [
    "## Regular Expression for Detecting Word Patterns"
   ]
  },
  {
   "cell_type": "code",
   "execution_count": 68,
   "metadata": {
    "collapsed": false
   },
   "outputs": [
    {
     "data": {
      "text/plain": [
       "[u'a',\n",
       " u'aa',\n",
       " u'aal',\n",
       " u'aalii',\n",
       " u'aam',\n",
       " u'aardvark',\n",
       " u'aardwolf',\n",
       " u'aba',\n",
       " u'abac',\n",
       " u'abaca']"
      ]
     },
     "execution_count": 68,
     "metadata": {},
     "output_type": "execute_result"
    }
   ],
   "source": [
    "import re \n",
    "wordlist = [ w for w in nltk.corpus.words.words('en') if w.islower()]\n",
    "wordlist[:10]"
   ]
  },
  {
   "cell_type": "markdown",
   "metadata": {},
   "source": [
    "### Using basic Metacharacters"
   ]
  },
  {
   "cell_type": "code",
   "execution_count": 71,
   "metadata": {
    "collapsed": false
   },
   "outputs": [
    {
     "data": {
      "text/plain": [
       "[u'abaissed',\n",
       " u'abandoned',\n",
       " u'abased',\n",
       " u'abashed',\n",
       " u'abatised',\n",
       " u'abed',\n",
       " u'aborted',\n",
       " u'abridged',\n",
       " u'abscessed',\n",
       " u'absconded']"
      ]
     },
     "execution_count": 71,
     "metadata": {},
     "output_type": "execute_result"
    }
   ],
   "source": [
    "[w for w in wordlist if re.search('ed$' ,w)][:10]  # search words ended with 'ed', $ match the end of a string"
   ]
  },
  {
   "cell_type": "code",
   "execution_count": 73,
   "metadata": {
    "collapsed": false
   },
   "outputs": [
    {
     "data": {
      "text/plain": [
       "[u'abjectly',\n",
       " u'adjuster',\n",
       " u'dejected',\n",
       " u'dejectly',\n",
       " u'injector',\n",
       " u'majestic',\n",
       " u'objectee',\n",
       " u'objector',\n",
       " u'rejecter',\n",
       " u'rejector']"
      ]
     },
     "execution_count": 73,
     "metadata": {},
     "output_type": "execute_result"
    }
   ],
   "source": [
    "# wildcard symbol . - any single character\n",
    "[w for w in wordlist if re.search('^..j..t..$', w)][:10]  \n",
    "#^match the start of a string, with j as its third letter and t as its sixth letter\n",
    "#when ^ appears as the first character inside square brackets. For example, «[^aeiouAEIOU]» matches any character other than a vowel"
   ]
  },
  {
   "cell_type": "code",
   "execution_count": 77,
   "metadata": {
    "collapsed": false
   },
   "outputs": [
    {
     "data": {
      "text/plain": [
       "0"
      ]
     },
     "execution_count": 77,
     "metadata": {},
     "output_type": "execute_result"
    }
   ],
   "source": [
    "sum(1 for w in text if re.search('^e-?mail$', w))"
   ]
  },
  {
   "cell_type": "markdown",
   "metadata": {},
   "source": [
    "### Ranges and Closures\n",
    "\n",
    "- textonyms: Two or more words that are entered with the same sequence of keystrokes are known as textonyms (T9 system)\n",
    "- raw string. For example, the raw string r'\\band\\b' contains two \\b symbols that are interpreted by the re library as matching word boundaries instead of backspace characters"
   ]
  },
  {
   "cell_type": "code",
   "execution_count": 78,
   "metadata": {
    "collapsed": false
   },
   "outputs": [
    {
     "data": {
      "text/plain": [
       "[u'gold', u'golf', u'hold', u'hole']"
      ]
     },
     "execution_count": 78,
     "metadata": {},
     "output_type": "execute_result"
    }
   ],
   "source": [
    "[w for w in wordlist if re.search('^[ghi][mno][jlk][def]$',w)]"
   ]
  },
  {
   "cell_type": "code",
   "execution_count": 83,
   "metadata": {
    "collapsed": false
   },
   "outputs": [
    {
     "data": {
      "text/plain": [
       "[u'miiiiiiiiiiiiinnnnnnnnnnneeeeeeeeee',\n",
       " u'miiiiiinnnnnnnnnneeeeeeee',\n",
       " u'mine',\n",
       " u'mmmmmmmmiiiiiiiiinnnnnnnnneeeeeeee']"
      ]
     },
     "execution_count": 83,
     "metadata": {},
     "output_type": "execute_result"
    }
   ],
   "source": [
    "chat_words = sorted(set(w for w in nltk.corpus.nps_chat.words()))\n",
    "[w for w in chat_words if re.search('^m+i+n+e+$', w)] # + one or more instances of the preceding item"
   ]
  },
  {
   "cell_type": "code",
   "execution_count": 108,
   "metadata": {
    "collapsed": true
   },
   "outputs": [],
   "source": [
    "# \\: following character is deprived of its special powers and must literally match a specific character, \\. only matchs a period\n",
    "# |: pipe character indicates a choice between the material on its left or its right\n",
    "# {3,5}: braced expressions, specify the number of repeats of the previous item, here means repeat 3 to 5 times\n",
    "# 'w(i|e|ai|oo)t': Parentheses indicate the scope of an operator, can use with pipe\n",
    "# * : zero or more previous item\n",
    "# + : one or more previous item\n",
    "# {n,} At least n repeats\n",
    "# {,n} No more than n repeats\n",
    "# {m,n} At least m and no more than n repeats\n",
    "# ? Zero or one of the previous item "
   ]
  },
  {
   "cell_type": "code",
   "execution_count": 88,
   "metadata": {
    "collapsed": false
   },
   "outputs": [
    {
     "data": {
      "text/plain": [
       "[u'0.0085',\n",
       " u'0.05',\n",
       " u'0.1',\n",
       " u'0.16',\n",
       " u'0.2',\n",
       " u'0.25',\n",
       " u'0.28',\n",
       " u'0.3',\n",
       " u'0.4',\n",
       " u'0.5']"
      ]
     },
     "execution_count": 88,
     "metadata": {},
     "output_type": "execute_result"
    }
   ],
   "source": [
    "wsj =  sorted(set(nltk.corpus.treebank.words()))\n",
    "[w for w in wsj if  re.search('^[0-9]+\\.[0-9]+$',w)][:10]"
   ]
  },
  {
   "cell_type": "code",
   "execution_count": 90,
   "metadata": {
    "collapsed": false
   },
   "outputs": [
    {
     "data": {
      "text/plain": [
       "[u'C$', u'US$']"
      ]
     },
     "execution_count": 90,
     "metadata": {},
     "output_type": "execute_result"
    }
   ],
   "source": [
    "[w for w in wsj if re.search('^[A-Z]+\\$$', w)]"
   ]
  },
  {
   "cell_type": "code",
   "execution_count": 91,
   "metadata": {
    "collapsed": false
   },
   "outputs": [
    {
     "data": {
      "text/plain": [
       "[u'10-day',\n",
       " u'10-lap',\n",
       " u'10-year',\n",
       " u'100-share',\n",
       " u'12-point',\n",
       " u'12-year',\n",
       " u'14-hour',\n",
       " u'15-day',\n",
       " u'150-point',\n",
       " u'190-point',\n",
       " u'20-point',\n",
       " u'20-stock',\n",
       " u'21-month',\n",
       " u'237-seat',\n",
       " u'240-page',\n",
       " u'27-year',\n",
       " u'30-day',\n",
       " u'30-point',\n",
       " u'30-share',\n",
       " u'30-year',\n",
       " u'300-day',\n",
       " u'36-day',\n",
       " u'36-store',\n",
       " u'42-year',\n",
       " u'50-state',\n",
       " u'500-stock',\n",
       " u'52-week',\n",
       " u'69-point',\n",
       " u'84-month',\n",
       " u'87-store',\n",
       " u'90-day']"
      ]
     },
     "execution_count": 91,
     "metadata": {},
     "output_type": "execute_result"
    }
   ],
   "source": [
    "[w for w in wsj if re.search('^[0-9]+-[a-z]{3,5}$', w)]"
   ]
  },
  {
   "cell_type": "markdown",
   "metadata": {},
   "source": [
    "### Useful applications of regular expression\n",
    "\n",
    "- re.findall()  - find all matches of the given regular expression\n"
   ]
  },
  {
   "cell_type": "code",
   "execution_count": 94,
   "metadata": {
    "collapsed": false
   },
   "outputs": [
    {
     "data": {
      "text/plain": [
       "['u',\n",
       " 'e',\n",
       " 'a',\n",
       " 'i',\n",
       " 'a',\n",
       " 'i',\n",
       " 'i',\n",
       " 'i',\n",
       " 'e',\n",
       " 'i',\n",
       " 'a',\n",
       " 'i',\n",
       " 'o',\n",
       " 'i',\n",
       " 'o',\n",
       " 'u']"
      ]
     },
     "execution_count": 94,
     "metadata": {},
     "output_type": "execute_result"
    }
   ],
   "source": [
    "word = 'supercalifragilisticexpialidocious'\n",
    "re.findall(r'[aeiou]',word)"
   ]
  },
  {
   "cell_type": "code",
   "execution_count": 97,
   "metadata": {
    "collapsed": false
   },
   "outputs": [
    {
     "data": {
      "text/plain": [
       "[(u'aiia', 1),\n",
       " (u'eea', 1),\n",
       " (u'oui', 6),\n",
       " (u'iai', 1),\n",
       " (u'ueui', 1),\n",
       " (u'uou', 5),\n",
       " (u'uee', 4),\n",
       " (u'aia', 1),\n",
       " (u'iou', 27),\n",
       " (u'ieu', 3),\n",
       " (u'iao', 1),\n",
       " (u'eei', 2),\n",
       " (u'oei', 1),\n",
       " (u'aii', 1),\n",
       " (u'eou', 5),\n",
       " (u'ooi', 1),\n",
       " (u'uie', 3),\n",
       " (u'eau', 10),\n",
       " (u'ioa', 1)]"
      ]
     },
     "execution_count": 97,
     "metadata": {},
     "output_type": "execute_result"
    }
   ],
   "source": [
    "df = nltk.FreqDist(vs for word in wsj\n",
    "                      for vs in re.findall(r'[aeiou]{3,}', word))\n",
    "df.items()"
   ]
  },
  {
   "cell_type": "code",
   "execution_count": 98,
   "metadata": {
    "collapsed": false
   },
   "outputs": [
    {
     "data": {
      "text/plain": [
       "[2009, 12, 31]"
      ]
     },
     "execution_count": 98,
     "metadata": {},
     "output_type": "execute_result"
    }
   ],
   "source": [
    "[int(n) for n in re.findall('[0-9]+', '2009-12-31')]"
   ]
  },
  {
   "cell_type": "code",
   "execution_count": 104,
   "metadata": {
    "collapsed": false
   },
   "outputs": [
    {
     "data": {
      "text/plain": [
       "['2-0-0-9', '1-2', '3-1']"
      ]
     },
     "execution_count": 104,
     "metadata": {},
     "output_type": "execute_result"
    }
   ],
   "source": [
    "['-'.join(n) for n in re.findall('[0-9]+', '2009-12-31')]"
   ]
  },
  {
   "cell_type": "markdown",
   "metadata": {},
   "source": [
    "### Find word stems"
   ]
  },
  {
   "cell_type": "code",
   "execution_count": 105,
   "metadata": {
    "collapsed": true
   },
   "outputs": [],
   "source": [
    "def stem(word):\n",
    "    for suffix in ['ing', 'ly','ed','ious','ies','ive','es','s','ment','ness']:\n",
    "        if word.endswith(suffix):\n",
    "            return word[:-len(suffix)]\n",
    "    return word"
   ]
  },
  {
   "cell_type": "code",
   "execution_count": 107,
   "metadata": {
    "collapsed": false
   },
   "outputs": [
    {
     "data": {
      "text/plain": [
       "['ing']"
      ]
     },
     "execution_count": 107,
     "metadata": {},
     "output_type": "execute_result"
    }
   ],
   "source": [
    "re.findall(r'^.*(ing|ly|ed|ious|ies|ive|es|s|ment|ness)$', 'processing')"
   ]
  },
  {
   "cell_type": "code",
   "execution_count": 109,
   "metadata": {
    "collapsed": false
   },
   "outputs": [
    {
     "data": {
      "text/plain": [
       "['processing']"
      ]
     },
     "execution_count": 109,
     "metadata": {},
     "output_type": "execute_result"
    }
   ],
   "source": [
    "re.findall(r'^.*(?:ing|ly|ed|ious|ies|ive|es|s|ment)$', 'processing')"
   ]
  },
  {
   "cell_type": "code",
   "execution_count": 111,
   "metadata": {
    "collapsed": false
   },
   "outputs": [
    {
     "data": {
      "text/plain": [
       "[('process', 'ing')]"
      ]
     },
     "execution_count": 111,
     "metadata": {},
     "output_type": "execute_result"
    }
   ],
   "source": [
    "re.findall(r'^(.*)(ing|ly|ed|ious|ies|ive|es|s|ment)$', 'processing')"
   ]
  },
  {
   "cell_type": "code",
   "execution_count": null,
   "metadata": {
    "collapsed": true
   },
   "outputs": [],
   "source": []
  }
 ],
 "metadata": {
  "anaconda-cloud": {},
  "kernelspec": {
   "display_name": "Python 2",
   "language": "python",
   "name": "python2"
  },
  "language_info": {
   "codemirror_mode": {
    "name": "ipython",
    "version": 2
   },
   "file_extension": ".py",
   "mimetype": "text/x-python",
   "name": "python",
   "nbconvert_exporter": "python",
   "pygments_lexer": "ipython2",
   "version": "2.7.11"
  }
 },
 "nbformat": 4,
 "nbformat_minor": 0
}
