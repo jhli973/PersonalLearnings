{
 "cells": [
  {
   "cell_type": "markdown",
   "metadata": {},
   "source": [
    "# [Computer Vision - Udacity](https://classroom.udacity.com/courses/ud810)"
   ]
  },
  {
   "cell_type": "markdown",
   "metadata": {},
   "source": [
    "## Lesson 1 Introduction\n",
    "- OCR (Optical character recognition)\n",
    "- Face detection\n",
    "- Object recognition\n",
    "- Special effects and 3D Modeling\n",
    "- Earth viewers (3D Modeling)\n",
    "- Smart cars\n",
    "- Sports\n",
    "- Vision Based Interaction: Microsoft Kinect \n",
    "- Security and Medical Imaging\n",
    "\n",
    "## Lesson 2 Images as functions\n",
    "\n",
    "- Pixels: stands form picture elements - use floating point images\n",
    "- A Color image has three different values at each pixel\n",
    "\n",
    "\n",
    "```Octave\n",
    "img = imread('dolphin.png');\n",
    "imshow(img);\n",
    "disp(size(img));\n",
    "disp(class(img));\n",
    "disp(img(50, 100));\n",
    "plot(img(50, :));\n",
    "disp(img(50:53, 100:103));  %inclusive\n",
    "\n",
    "% Crop an image\n",
    "cropped = img(110:310, 10:160);\n",
    "imshow(cropped)\n",
    "\n",
    "% Color planes (index start from 1)\n",
    "img = imread('fruit.png');\n",
    "imshow(img);\n",
    "disp(size(img));\n",
    "img_red = img(:, :, 1);\n",
    "imshow(img_read);\n",
    "plot(img_red(150, 0));\n",
    "\n",
    "% Add two images, need same size\n",
    "img1 = imread('dolphin.png');\n",
    "img2 = imread('fruit.png');\n",
    "summed = img1 + img2;\n",
    "imshow(summed);\n",
    "\n",
    "averaged = img1 / 2 + img2 / 2;\n",
    "imshow(averaged);\n",
    "```"
   ]
  },
  {
   "cell_type": "code",
   "execution_count": null,
   "metadata": {
    "collapsed": true
   },
   "outputs": [],
   "source": []
  }
 ],
 "metadata": {
  "kernelspec": {
   "display_name": "Python 3",
   "language": "python",
   "name": "python3"
  },
  "language_info": {
   "codemirror_mode": {
    "name": "ipython",
    "version": 3
   },
   "file_extension": ".py",
   "mimetype": "text/x-python",
   "name": "python",
   "nbconvert_exporter": "python",
   "pygments_lexer": "ipython3",
   "version": "3.6.0"
  }
 },
 "nbformat": 4,
 "nbformat_minor": 2
}
