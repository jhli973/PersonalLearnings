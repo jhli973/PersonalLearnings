{
 "cells": [
  {
   "cell_type": "markdown",
   "metadata": {},
   "source": [
    "## Flask - web development"
   ]
  },
  {
   "cell_type": "markdown",
   "metadata": {},
   "source": [
    "## Features\n",
    "- Templates: Jinja 2\n",
    "- Http and routing: Werkzeug\n",
    "- (Model) View, Controller:\n",
    "- Blueprints:\n",
    "- Unit testing support\n",
    "- Development server + debugger\n",
    "\n",
    "--- Use SQLAIChemy"
   ]
  },
  {
   "cell_type": "markdown",
   "metadata": {},
   "source": [
    "## Getting Started\n",
    "\n",
    "- Installing python 2.7\n",
    "- install virtualenv and virtualenvwrapper\n",
    "- Create project environment\n",
    "- Installing Flask\n",
    "\n",
    "**Command Line Command:**\n",
    "\n",
    "```sh\n",
    "pip install virtualenv\n",
    "pip install virtualenvwrapper-win\n",
    "mkvirtualenv HelloWorld\n",
    "mkdir HelloWorld\n",
    "setprojectdir .\n",
    "\n",
    "workon HelloWorld\n",
    "pip install Flask\n",
    "ls\n",
    "```\n",
    "**HelloWorld.py**\n",
    "```python\n",
    "from flask import Flask\n",
    "\n",
    "app = Flask(__name__)\n",
    "\n",
    "# a view function\n",
    "@app.route('/index')\n",
    "def index():\n",
    "    return 'Hello World!'\n",
    "\n",
    "if __name__ == \"__main__\":\n",
    "    app.run()\n",
    "```\n",
    "**Call the url**\n",
    "```python\n",
    "from helloworld import app\n",
    "app.url_map\n",
    "```\n",
    "\n",
    "**Model, Template, View:**\n",
    "\n",
    "- Model\n",
    "    - Holds data\n",
    "    - sqlite3, SQLAlchemy\n",
    "    \n",
    "- Template (Called \"view\" in MVC)\n",
    "    - Used to generate HTML\n",
    "    - Flask includes Jinja2\n",
    "    \n",
    "- View (Call \"Controller\" in MVC)\n",
    "    - A function that generates a HTTP response for a HTTP request\n",
    "    - Mapped to one or more URLs"
   ]
  },
  {
   "cell_type": "code",
   "execution_count": null,
   "metadata": {
    "collapsed": true
   },
   "outputs": [],
   "source": []
  }
 ],
 "metadata": {
  "kernelspec": {
   "display_name": "Python 2",
   "language": "python",
   "name": "python2"
  },
  "language_info": {
   "codemirror_mode": {
    "name": "ipython",
    "version": 2
   },
   "file_extension": ".py",
   "mimetype": "text/x-python",
   "name": "python",
   "nbconvert_exporter": "python",
   "pygments_lexer": "ipython2",
   "version": "2.7.12"
  }
 },
 "nbformat": 4,
 "nbformat_minor": 0
}
