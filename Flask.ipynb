{
 "cells": [
  {
   "cell_type": "markdown",
   "metadata": {},
   "source": [
    "## Flask - web development"
   ]
  },
  {
   "cell_type": "markdown",
   "metadata": {},
   "source": [
    "## Features\n",
    "- Templates: Jinja 2\n",
    "- Http and routing: Werkzeug\n",
    "- (Model) View, Controller:\n",
    "- Blueprints:\n",
    "- Unit testing support\n",
    "- Development server + debugger\n",
    "\n",
    "--- Use SQLAIChemy"
   ]
  },
  {
   "cell_type": "markdown",
   "metadata": {},
   "source": [
    "## Getting Started\n",
    "\n",
    "- Installing python 2.7\n",
    "- install virtualenv and virtualenvwrapper\n",
    "- Create project environment\n",
    "- Installing Flask\n",
    "\n",
    "**Command Line Command:**\n",
    "\n",
    "```sh\n",
    "pip install virtualenv\n",
    "pip install virtualenvwrapper-win\n",
    "mkvirtualenv HelloWorld\n",
    "mkdir HelloWorld\n",
    "setprojectdir .\n",
    "\n",
    "workon HelloWorld\n",
    "pip install Flask\n",
    "ls\n",
    "```\n",
    "**HelloWorld.py**\n",
    "```python\n",
    "from flask import Flask\n",
    "\n",
    "app = Flask(__name__)\n",
    "\n",
    "# a view function\n",
    "@app.route('/index')\n",
    "def index():\n",
    "    return 'Hello World!'\n",
    "\n",
    "if __name__ == \"__main__\":\n",
    "    app.run()\n",
    "```\n",
    "**Call the url**\n",
    "```python\n",
    "from helloworld import app\n",
    "app.url_map\n",
    "```\n",
    "\n",
    "**Model, Template, View:**\n",
    "\n",
    "- Model\n",
    "    - Holds data\n",
    "    - Usually represents rows in a database table\n",
    "    - sqlite3, SQLAlchemy\n",
    "    \n",
    "- Template (Called \"view\" in MVC -model, view and controller)\n",
    "    - Used to generate HTML\n",
    "    - Flask includes powerful Jinja2 library\n",
    "    \n",
    "- View (Call \"Controller\" in MVC)\n",
    "    - A function that generates a HTTP response for a HTTP request\n",
    "    - Mapped to one or more URLs\n",
    "    \n",
    "**Resources and Summary**\n",
    "\n",
    "- http://pip-installer.org \n",
    "(http://goo.gl/K7suLs)\n",
    "(http://goo.gl/ySHG70)\n",
    "(http://goo.gl/4cg944)\n",
    "(http://goo.gl/vjiTMz)\n",
    "(http://goo.gl/D7qW4G)\n"
   ]
  },
  {
   "cell_type": "markdown",
   "metadata": {
    "collapsed": true
   },
   "source": [
    "## Basic Templates and Views\n",
    "\n",
    "- get some templates from http://www.initializr.com/\n",
    "- ![project folder](ProjectFolder.png)\n",
    "```python\n",
    "- def index():\n",
    "    render_template('index_html')\n",
    "- href= \"../static/css/normalize.min.css\"\n",
    "- src = \"../static/js/vendor/jquery-1.11.0.min.js\"\n",
    "```"
   ]
  },
  {
   "cell_type": "code",
   "execution_count": null,
   "metadata": {
    "collapsed": true
   },
   "outputs": [],
   "source": []
  }
 ],
 "metadata": {
  "kernelspec": {
   "display_name": "Python 3",
   "language": "python",
   "name": "python3"
  },
  "language_info": {
   "codemirror_mode": {
    "name": "ipython",
    "version": 3
   },
   "file_extension": ".py",
   "mimetype": "text/x-python",
   "name": "python",
   "nbconvert_exporter": "python",
   "pygments_lexer": "ipython3",
   "version": "3.6.0"
  }
 },
 "nbformat": 4,
 "nbformat_minor": 0
}
