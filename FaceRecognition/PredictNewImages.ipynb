{
 "cells": [
  {
   "cell_type": "code",
   "execution_count": 1,
   "metadata": {
    "collapsed": false
   },
   "outputs": [
    {
     "name": "stderr",
     "output_type": "stream",
     "text": [
      "Using TensorFlow backend.\n"
     ]
    }
   ],
   "source": [
    "import os\n",
    "import cv2\n",
    "import imutils\n",
    "import numpy as np\n",
    "from BuildModel import Model"
   ]
  },
  {
   "cell_type": "code",
   "execution_count": 2,
   "metadata": {
    "collapsed": true
   },
   "outputs": [],
   "source": [
    "new_image_path = r'C:\\Users\\dbsnail\\ImageFolder\\test\\\\'\n",
    "resized_height = 80"
   ]
  },
  {
   "cell_type": "code",
   "execution_count": 3,
   "metadata": {
    "collapsed": false
   },
   "outputs": [
    {
     "name": "stdout",
     "output_type": "stream",
     "text": [
      "Model Loaded.\n",
      "True label:1, Predicted label:1\n",
      "True label:1, Predicted label:1\n",
      "True label:1, Predicted label:1\n",
      "True label:1, Predicted label:1\n",
      "True label:1, Predicted label:1\n",
      "True label:1, Predicted label:1\n",
      "True label:1, Predicted label:1\n",
      "True label:1, Predicted label:1\n",
      "True label:1, Predicted label:0\n",
      "True label:1, Predicted label:1\n",
      "True label:1, Predicted label:1\n",
      "True label:0, Predicted label:0\n",
      "True label:0, Predicted label:0\n",
      "True label:0, Predicted label:0\n",
      "True label:0, Predicted label:0\n",
      "True label:0, Predicted label:0\n",
      "True label:0, Predicted label:0\n",
      "True label:0, Predicted label:0\n",
      "True label:0, Predicted label:0\n",
      "True label:0, Predicted label:0\n",
      "True label:0, Predicted label:0\n",
      "True label:0, Predicted label:1\n"
     ]
    }
   ],
   "source": [
    "FILE_PATH = r'C:\\Users\\dbsnail\\ImageProject\\models\\ml_70_adam.h5'\n",
    "model = Model()\n",
    "model.load(FILE_PATH)\n",
    "cnt=1\n",
    "for file in os.listdir(new_image_path):\n",
    "    abs_path = os.path.abspath(os.path.join(new_image_path, file))\n",
    "    if abs_path.find('authorized') > 0:\n",
    "        label = 1\n",
    "    else:\n",
    "        label = 0\n",
    "    img = cv2.imread(abs_path)\n",
    "    resized_img = imutils.resize(img, height = resized_height)\n",
    "    print(\"True label:{}, Predicted label:{}\".format(label,model.predict(resized_img)[1]))  "
   ]
  },
  {
   "cell_type": "code",
   "execution_count": 4,
   "metadata": {
    "collapsed": false
   },
   "outputs": [
    {
     "name": "stdout",
     "output_type": "stream",
     "text": [
      "Model Loaded.\n",
      "True label:1, Predicted label:1\n",
      "True label:1, Predicted label:1\n",
      "True label:1, Predicted label:0\n",
      "True label:1, Predicted label:1\n",
      "True label:1, Predicted label:1\n",
      "True label:1, Predicted label:1\n",
      "True label:1, Predicted label:1\n",
      "True label:1, Predicted label:1\n",
      "True label:1, Predicted label:0\n",
      "True label:1, Predicted label:0\n",
      "True label:1, Predicted label:1\n",
      "True label:0, Predicted label:0\n",
      "True label:0, Predicted label:0\n",
      "True label:0, Predicted label:0\n",
      "True label:0, Predicted label:0\n",
      "True label:0, Predicted label:0\n",
      "True label:0, Predicted label:1\n",
      "True label:0, Predicted label:1\n",
      "True label:0, Predicted label:0\n",
      "True label:0, Predicted label:0\n",
      "True label:0, Predicted label:0\n",
      "True label:0, Predicted label:1\n"
     ]
    }
   ],
   "source": [
    "FILE_PATH = r'C:\\Users\\dbsnail\\ImageProject\\models\\ml_40_adamax.h5'\n",
    "model = Model()\n",
    "model.load(FILE_PATH)\n",
    "cnt=1\n",
    "for file in os.listdir(new_image_path):\n",
    "    abs_path = os.path.abspath(os.path.join(new_image_path, file))\n",
    "    if abs_path.find('authorized') > 0:\n",
    "        label = 1\n",
    "    else:\n",
    "        label = 0\n",
    "    img = cv2.imread(abs_path)\n",
    "    resized_img = imutils.resize(img, height = resized_height)\n",
    "    print(\"True label:{}, Predicted label:{}\".format(label,model.predict(resized_img)[1]))  "
   ]
  },
  {
   "cell_type": "code",
   "execution_count": 5,
   "metadata": {
    "collapsed": false
   },
   "outputs": [
    {
     "name": "stdout",
     "output_type": "stream",
     "text": [
      "Model Loaded.\n",
      "True label:1, Predicted label:1\n",
      "True label:1, Predicted label:1\n",
      "True label:1, Predicted label:0\n",
      "True label:1, Predicted label:1\n",
      "True label:1, Predicted label:1\n",
      "True label:1, Predicted label:0\n",
      "True label:1, Predicted label:1\n",
      "True label:1, Predicted label:1\n",
      "True label:1, Predicted label:1\n",
      "True label:1, Predicted label:1\n",
      "True label:1, Predicted label:1\n",
      "True label:0, Predicted label:0\n",
      "True label:0, Predicted label:0\n",
      "True label:0, Predicted label:0\n",
      "True label:0, Predicted label:0\n",
      "True label:0, Predicted label:0\n",
      "True label:0, Predicted label:0\n",
      "True label:0, Predicted label:0\n",
      "True label:0, Predicted label:0\n",
      "True label:0, Predicted label:1\n",
      "True label:0, Predicted label:1\n",
      "True label:0, Predicted label:0\n"
     ]
    }
   ],
   "source": [
    "FILE_PATH = r'C:\\Users\\dbsnail\\ImageProject\\models\\ml_40_sgd.h5'\n",
    "model = Model()\n",
    "model.load(FILE_PATH)\n",
    "cnt=1\n",
    "for file in os.listdir(new_image_path):\n",
    "    abs_path = os.path.abspath(os.path.join(new_image_path, file))\n",
    "    if abs_path.find('authorized') > 0:\n",
    "        label = 1\n",
    "    else:\n",
    "        label = 0\n",
    "    img = cv2.imread(abs_path)\n",
    "    resized_img = imutils.resize(img, height = resized_height)\n",
    "    print(\"True label:{}, Predicted label:{}\".format(label,model.predict(resized_img)[1]))  "
   ]
  },
  {
   "cell_type": "code",
   "execution_count": null,
   "metadata": {
    "collapsed": true
   },
   "outputs": [],
   "source": []
  }
 ],
 "metadata": {
  "anaconda-cloud": {},
  "kernelspec": {
   "display_name": "Python 3",
   "language": "python",
   "name": "python3"
  },
  "language_info": {
   "codemirror_mode": {
    "name": "ipython",
    "version": 3
   },
   "file_extension": ".py",
   "mimetype": "text/x-python",
   "name": "python",
   "nbconvert_exporter": "python",
   "pygments_lexer": "ipython3",
   "version": "3.6.0"
  }
 },
 "nbformat": 4,
 "nbformat_minor": 1
}
