{
 "cells": [
  {
   "cell_type": "markdown",
   "metadata": {},
   "source": [
    "ILSVRC-2012 ImageNet (1.2 million high resolution training images, 1000 classes)\n",
    "\n",
    "\n",
    "Alex Krizhevsky (NIPS 2012)\n",
    "classification task: 16%\n",
    "localization task: 34%\n",
    "\n",
    "- 7 hidden layers not counting some max pooling layers\n",
    "- The early layers were convolutional\n",
    "- The last two layers were globally connected\n",
    "- Relu activation function\n",
    "- Competitive normalization to suppress hidden activities when nearby units have stronger activities. \n",
    "This helps with variations in intensity\n",
    "\n",
    "**Tricks that significantly improve generalization**\n",
    "\n",
    "- Train on random 224 x 224 patches from the 256 x 256 images to get more data. Also use left-right reflections of the images\n",
    "    - At test time, combine the opinions from ten different patches: The four 224 x 224 corner patches plus the central 224 x 224 patch plus the reflections of those five patches. Then combine the opinion\n",
    "- Use \"dropout\" to regularize the weights in the globally connected layers (which contain most of the parameters).   \n",
    "     - Dropout means that half of the hidden units in a layers are randomly removed for each training example.\n",
    "     - This stops hidden units from relying too much on other hidden units\n",
    "- On two Nvidia GTX 580 Graphics Processor Units\n",
    "    - GPUs are very good for matrix-matrix multiplies\n",
    "    - GPUs have very high bandwidth to memory  "
   ]
  },
  {
   "cell_type": "code",
   "execution_count": 1,
   "metadata": {
    "collapsed": true
   },
   "outputs": [],
   "source": [
    "import numpy as np"
   ]
  },
  {
   "cell_type": "code",
   "execution_count": 2,
   "metadata": {
    "collapsed": false
   },
   "outputs": [
    {
     "data": {
      "text/plain": [
       "array([[0, 1, 2],\n",
       "       [3, 4, 5]])"
      ]
     },
     "execution_count": 2,
     "metadata": {},
     "output_type": "execute_result"
    }
   ],
   "source": [
    "a  = np.arange(6).reshape(2,3)\n",
    "a"
   ]
  },
  {
   "cell_type": "code",
   "execution_count": 3,
   "metadata": {
    "collapsed": true
   },
   "outputs": [],
   "source": [
    "for x in np.nditer(a, op_flags=['readwrite']):\n",
    "    x[...] = 2 * x\n",
    "    "
   ]
  },
  {
   "cell_type": "code",
   "execution_count": 4,
   "metadata": {
    "collapsed": false
   },
   "outputs": [
    {
     "data": {
      "text/plain": [
       "array([[ 0,  2,  4],\n",
       "       [ 6,  8, 10]])"
      ]
     },
     "execution_count": 4,
     "metadata": {},
     "output_type": "execute_result"
    }
   ],
   "source": [
    "a"
   ]
  },
  {
   "cell_type": "code",
   "execution_count": null,
   "metadata": {
    "collapsed": true
   },
   "outputs": [],
   "source": []
  }
 ],
 "metadata": {
  "kernelspec": {
   "display_name": "Python [default]",
   "language": "python",
   "name": "python3"
  },
  "language_info": {
   "codemirror_mode": {
    "name": "ipython",
    "version": 3
   },
   "file_extension": ".py",
   "mimetype": "text/x-python",
   "name": "python",
   "nbconvert_exporter": "python",
   "pygments_lexer": "ipython3",
   "version": "3.5.2"
  }
 },
 "nbformat": 4,
 "nbformat_minor": 2
}
