{
 "cells": [
  {
   "cell_type": "markdown",
   "metadata": {},
   "source": [
    "## Load data"
   ]
  },
  {
   "cell_type": "code",
   "execution_count": 1,
   "metadata": {
    "collapsed": false
   },
   "outputs": [
    {
     "name": "stderr",
     "output_type": "stream",
     "text": [
      "Using TensorFlow backend.\n"
     ]
    }
   ],
   "source": [
    "from LoadSplitData import Process\n",
    "import numpy as np\n",
    "np.random.seed(0)\n",
    "\n",
    "import os\n",
    "import cv2\n",
    "from BuildModel import Model\n",
    "from TuneModel import Model"
   ]
  },
  {
   "cell_type": "code",
   "execution_count": 2,
   "metadata": {
    "collapsed": false
   },
   "outputs": [
    {
     "name": "stdout",
     "output_type": "stream",
     "text": [
      "Images shape (24076, 80, 80, 3), label shape (24076,), ratio of authorized data 0.4503655092208008\n",
      "X_train shape: (12639, 80, 80, 3)\n",
      "12639 train samples\n",
      "5418 valid samples\n",
      "6019 test samples\n"
     ]
    }
   ],
   "source": [
    "data = Process()\n",
    "data.split_data()"
   ]
  },
  {
   "cell_type": "code",
   "execution_count": 3,
   "metadata": {
    "collapsed": false
   },
   "outputs": [
    {
     "name": "stdout",
     "output_type": "stream",
     "text": [
      "(6019, 80, 80, 3)\n",
      "(6019, 2)\n"
     ]
    }
   ],
   "source": [
    "X_test = data.X_test\n",
    "print(X_test.shape)\n",
    "Y_test = data.Y_test\n",
    "print(Y_test.shape)"
   ]
  },
  {
   "cell_type": "markdown",
   "metadata": {},
   "source": [
    "## Predict Test Data with Best Model Evaluated with Accuracy"
   ]
  },
  {
   "cell_type": "code",
   "execution_count": 4,
   "metadata": {
    "collapsed": false,
    "scrolled": false
   },
   "outputs": [
    {
     "name": "stdout",
     "output_type": "stream",
     "text": [
      "Model Loaded.\n"
     ]
    }
   ],
   "source": [
    "FILE_PATH = r'C:\\Users\\dbsnail\\ImageProject\\models\\ml_70_adam.h5'\n",
    "model = Model()\n",
    "model.load(FILE_PATH)"
   ]
  },
  {
   "cell_type": "code",
   "execution_count": 5,
   "metadata": {
    "collapsed": false
   },
   "outputs": [
    {
     "name": "stdout",
     "output_type": "stream",
     "text": [
      "TN = 3351\n",
      "FP = 11\n",
      "FN = 7\n",
      "TP = 2650\n",
      "\n",
      "num_authorized_label:2657\n",
      "num_unauthorized_label:3362\n"
     ]
    }
   ],
   "source": [
    "data_size = X_test.shape[0]\n",
    "TN = 0\n",
    "FN = 0\n",
    "FP = 0\n",
    "TP = 0\n",
    "num_authorized_label = 0\n",
    "num_unauthorized_label = 0\n",
    "\n",
    "\n",
    "for i in range(data_size): \n",
    "    pred_label = (model.predict(X_test[i,]*255))[1]\n",
    "    real_label = np.argmax(Y_test[i,])\n",
    "    \n",
    "    if real_label == 1:\n",
    "        num_authorized_label += 1\n",
    "        if (pred_label - real_label) == 0:\n",
    "            TP += 1\n",
    "        else:\n",
    "            FN += 1\n",
    "            \n",
    "    else:\n",
    "        num_unauthorized_label += 1\n",
    "        if (pred_label - real_label) == 0:\n",
    "            TN += 1\n",
    "        else:\n",
    "            FP += 1   \n",
    "print(\"TN = {}\\nFP = {}\\nFN = {}\\nTP = {}\\n\".format(TN, FP, FN, TP))    \n",
    "print(\"num_authorized_label:{}\".format(num_authorized_label))\n",
    "print(\"num_unauthorized_label:{}\".format(num_unauthorized_label))"
   ]
  },
  {
   "cell_type": "markdown",
   "metadata": {},
   "source": [
    "## Predict Test Data with Best Model Evaluated with fbeta_score"
   ]
  },
  {
   "cell_type": "code",
   "execution_count": 6,
   "metadata": {
    "collapsed": false
   },
   "outputs": [
    {
     "name": "stdout",
     "output_type": "stream",
     "text": [
      "Model Loaded.\n"
     ]
    }
   ],
   "source": [
    "FILE_PATH = r'C:\\Users\\dbsnail\\ImageProject\\models\\tune_ml_90_fbeta_score_adam.h5'\n",
    "model = Model()\n",
    "model.load(FILE_PATH)"
   ]
  },
  {
   "cell_type": "code",
   "execution_count": 7,
   "metadata": {
    "collapsed": false
   },
   "outputs": [
    {
     "name": "stdout",
     "output_type": "stream",
     "text": [
      "TN = 3346\n",
      "FP = 16\n",
      "FN = 12\n",
      "TP = 2645\n",
      "\n",
      "num_authorized_label:2657\n",
      "num_unauthorized_label:3362\n"
     ]
    }
   ],
   "source": [
    "data_size = X_test.shape[0]\n",
    "TN = 0\n",
    "FN = 0\n",
    "FP = 0\n",
    "TP = 0\n",
    "num_authorized_label = 0\n",
    "num_unauthorized_label = 0\n",
    "\n",
    "for i in range(data_size): \n",
    "   \n",
    "    pred_label = np.argmax(model.predict(X_test[i,]*255)[0])\n",
    "    real_label = np.argmax(Y_test[i,])\n",
    "\n",
    "    if real_label == 1:\n",
    "        num_authorized_label += 1\n",
    "        if pred_label == real_label:\n",
    "            TP += 1\n",
    "        else:\n",
    "            FN += 1\n",
    "            \n",
    "    else:\n",
    "        num_unauthorized_label += 1\n",
    "        if pred_label == real_label:\n",
    "            TN += 1\n",
    "        else:\n",
    "            FP += 1   \n",
    "print(\"TN = {}\\nFP = {}\\nFN = {}\\nTP = {}\\n\".format(TN, FP, FN, TP))    \n",
    "print(\"num_authorized_label:{}\".format(num_authorized_label))\n",
    "print(\"num_unauthorized_label:{}\".format(num_unauthorized_label))"
   ]
  },
  {
   "cell_type": "code",
   "execution_count": null,
   "metadata": {
    "collapsed": true
   },
   "outputs": [],
   "source": []
  }
 ],
 "metadata": {
  "anaconda-cloud": {},
  "kernelspec": {
   "display_name": "Python [default]",
   "language": "python",
   "name": "python3"
  },
  "language_info": {
   "codemirror_mode": {
    "name": "ipython",
    "version": 3
   },
   "file_extension": ".py",
   "mimetype": "text/x-python",
   "name": "python",
   "nbconvert_exporter": "python",
   "pygments_lexer": "ipython3",
   "version": "3.5.2"
  }
 },
 "nbformat": 4,
 "nbformat_minor": 1
}
