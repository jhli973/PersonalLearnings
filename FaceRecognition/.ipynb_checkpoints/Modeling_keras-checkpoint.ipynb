{
 "cells": [
  {
   "cell_type": "markdown",
   "metadata": {},
   "source": [
    "## Read image data"
   ]
  },
  {
   "cell_type": "code",
   "execution_count": 75,
   "metadata": {
    "collapsed": false
   },
   "outputs": [],
   "source": [
    "from __future__ import print_function\n",
    "import matplotlib.pyplot as plt\n",
    "import numpy as np\n",
    "import os\n",
    "import sys\n",
    "import tarfile\n",
    "from IPython.display import display, Image\n",
    "from scipy import ndimage\n",
    "from sklearn.linear_model import LogisticRegression\n",
    "from six.moves.urllib.request import urlretrieve\n",
    "from six.moves import cPickle as pickle\n",
    "import cv2\n",
    "import imutils\n",
    "\n",
    "\n",
    "class Dataset(object):\n",
    "\n",
    "    \n",
    "    def __init__(self):\n",
    "        self.X_train = None\n",
    "        self.X_valid = None\n",
    "        self.X_test = None\n",
    "        self.Y_train = None\n",
    "        self.Y_valid = None\n",
    "        self.Y_test = None\n",
    "        self.images_list = []\n",
    "        self.labels_list = []\n",
    "        \n",
    "    # traverse folder\n",
    "    def traverse_image_dir(self, file_path):\n",
    "        \n",
    "        for file_or_dir in os.listdir(file_path):\n",
    "            abs_path = os.path.abspath(os.path.join(file_path, file_or_dir))\n",
    "            if os.path.isdir(abs_path):\n",
    "                self.traverse_image_dir(abs_path)\n",
    "            else:\n",
    "                # read jpg file and filter size equals zero file\n",
    "                if file_or_dir.lower().endswith('.jpg') and os.stat(abs_path)[6] > 0:\n",
    "                    image = self.read_resize_image(abs_path)\n",
    "                    self.images_list.append(image)\n",
    "\n",
    "                    if abs_path.find('unauthorized') > 0:\n",
    "                        self.labels_list.append(0)\n",
    "                    elif abs_path.find('authorized') > 0:\n",
    "                        self.labels_list.append(1)\n",
    "                    else:\n",
    "                        print( \"unvalid folder exists\")\n",
    "\n",
    "        #print(\"Image length {}\".format(len(self.images_list)))\n",
    "        return self.images_list, self.labels_list\n",
    "\n",
    "    # read and resize\n",
    "    def read_resize_image(self, full_name, resized_height = 50):\n",
    "        image = cv2.imread(full_name)\n",
    "        resized_image = imutils.resize(image, height = resized_height)\n",
    "        return resized_image    \n",
    "    \n",
    "    # convert to numpy arrays\n",
    "    def get_image_array(self, file_path):\n",
    "\n",
    "        images, labels = self.traverse_image_dir(file_path)\n",
    "        images = np.array(images)\n",
    "        labels = np.array(labels)\n",
    "\n",
    "        return images, labels\n",
    "\n",
    "    def read(self, img_rows=50, img_cols=50, img_channels=3, nb_classes=2):\n",
    "\n",
    "        images, labels = self.get_image_array(r'C:\\Users\\dbsnail\\ImageFolder\\data_large')\n",
    "        print(\"Images shape {}, label shape {}, ratio of authorized data {}\".format(images.shape, labels.shape, labels.mean()))\n",
    "    \n",
    "        # numpy.reshape\n",
    "        X_train_valid, X_test, y_train_valid, y_test = train_test_split(images, labels, test_size=0.3, random_state=123)\n",
    "        X_train, X_valid, y_train, y_valid = train_test_split(X_train_valid, y_train_valid, train_size=0.7, random_state=200)\n",
    "        \n",
    "        \n",
    "        #reshape\n",
    "        X_train = X_train.reshape(X_train.shape[0], img_rows, img_cols, 3)\n",
    "        X_valid = X_valid.reshape(X_valid.shape[0], img_rows, img_cols, 3)\n",
    "        X_test = X_test.reshape(X_test.shape[0], img_rows, img_cols, 3)\n",
    "        input_shape = (img_rows, img_cols, 3)\n",
    "\n",
    "\n",
    "        # the data, shuffled and split between train and test sets\n",
    "        print('X_train shape:', X_train.shape)\n",
    "        print(X_train.shape[0], 'train samples')\n",
    "        print(X_valid.shape[0], 'valid samples')\n",
    "        print(X_test.shape[0], 'test samples')\n",
    "\n",
    "        # convert class vectors to binary class matrices\n",
    "        Y_train = np_utils.to_categorical(y_train, nb_classes)\n",
    "        Y_valid = np_utils.to_categorical(y_valid, nb_classes)\n",
    "        Y_test = np_utils.to_categorical(y_test, nb_classes)\n",
    "        \n",
    "        # scale the input data to the range [0,1]\n",
    "        X_train = X_train.astype('float32')\n",
    "        X_valid = X_valid.astype('float32')\n",
    "        X_test = X_test.astype('float32')\n",
    "        X_train /= 255\n",
    "        X_valid /= 255\n",
    "        X_test /= 255\n",
    "\n",
    "\n",
    "        self.X_train = X_train\n",
    "        self.X_valid = X_valid\n",
    "        self.X_test = X_test\n",
    "        self.Y_train = Y_train\n",
    "        self.Y_valid = Y_valid\n",
    "        self.Y_test = Y_test"
   ]
  },
  {
   "cell_type": "code",
   "execution_count": null,
   "metadata": {
    "collapsed": true
   },
   "outputs": [],
   "source": []
  },
  {
   "cell_type": "markdown",
   "metadata": {},
   "source": [
    "## Modeling"
   ]
  },
  {
   "cell_type": "code",
   "execution_count": 232,
   "metadata": {
    "collapsed": false
   },
   "outputs": [],
   "source": [
    "from __future__ import print_function\n",
    "import random\n",
    "import numpy as np\n",
    "from sklearn.model_selection import train_test_split\n",
    "from keras.preprocessing.image import ImageDataGenerator\n",
    "from keras.models import Sequential\n",
    "from keras.layers import Dense, Dropout, Activation, Flatten\n",
    "from keras.layers import Convolution2D, MaxPooling2D\n",
    "from keras.optimizers import SGD\n",
    "from keras.utils import np_utils\n",
    "from keras.models import load_model\n",
    "from keras import backend as K\n",
    "\n",
    "class Model(object):\n",
    "\n",
    "    FILE_PATH = r'C:\\Users\\dbsnail\\ImageFolder\\model_with_aug.h5'\n",
    "\n",
    "    def __init__(self):\n",
    "        self.model = None\n",
    "\n",
    "    def build_model(self, dataset, nb_classes=2):\n",
    "        self.model = Sequential()\n",
    "\n",
    "        self.model.add(Convolution2D(32, 3, 3, border_mode='same', activation = 'relu', input_shape=dataset.X_train.shape[1:]))\n",
    "        self.model.add(Convolution2D(32, 3, 3, activation = 'relu'))\n",
    "        self.model.add(MaxPooling2D(pool_size=(2, 2)))\n",
    "        self.model.add(Dropout(0.25))\n",
    "\n",
    "        self.model.add(Convolution2D(48, 3, 3, border_mode='same', activation = 'relu'))\n",
    "        self.model.add(Convolution2D(48, 3, 3, border_mode='same', activation = 'relu'))\n",
    "        self.model.add(MaxPooling2D(pool_size=(2, 2)))\n",
    "        #self.model.add(Dropout(0.25))\n",
    "        \n",
    "        self.model.add(Convolution2D(64, 3, 3, border_mode='same', activation = 'relu'))\n",
    "        self.model.add(Convolution2D(64, 3, 3, border_mode='same', activation = 'relu'))\n",
    "        self.model.add(MaxPooling2D(pool_size=(2, 2)))\n",
    "        self.model.add(Dropout(0.25))        \n",
    "\n",
    "        self.model.add(Flatten())\n",
    "        self.model.add(Dense(960))\n",
    "        self.model.add(Activation('relu'))\n",
    "        self.model.add(Dropout(0.5))\n",
    "        self.model.add(Dense(nb_classes))\n",
    "        self.model.add(Activation('softmax'))\n",
    "\n",
    "        self.model.summary()\n",
    "     \n",
    "    def train(self, dataset, batch_size=20, nb_epoch=40, data_augmentation=True):\n",
    "        \n",
    "        # let's train the model using SGD + momentum (how original).\n",
    "        sgd = SGD(lr=0.01, decay=1e-6, momentum=0.9, nesterov=True)\n",
    "        self.model.compile(loss='categorical_crossentropy', ##'binary_crossentropy'\n",
    "                           optimizer=sgd,\n",
    "                           metrics=['accuracy'])  #['precision']) #\n",
    "        if not data_augmentation:\n",
    "            print('Not using data augmentation.')\n",
    "            self.model.fit(dataset.X_train, dataset.Y_train,\n",
    "                           batch_size=batch_size,\n",
    "                           nb_epoch=nb_epoch,\n",
    "                           validation_data=(dataset.X_valid, dataset.Y_valid),\n",
    "                           shuffle=True)\n",
    "        else:\n",
    "            print('Using real-time data augmentation.')\n",
    "\n",
    "            # This will do preprocessing and realtime data augmentation\n",
    "            datagen = ImageDataGenerator(\n",
    "                featurewise_center=False,             # set input mean to 0 over the dataset\n",
    "                samplewise_center=False,              # set each sample mean to 0\n",
    "                featurewise_std_normalization=False,  # divide inputs by std of the dataset\n",
    "                samplewise_std_normalization=False,   # divide each input by its std\n",
    "                zca_whitening=False,                  # apply ZCA whitening\n",
    "                rotation_range=0.,                    # randomly rotate images in the range (degrees, 0 to 180)\n",
    "                width_shift_range=0.,                 # randomly shift images horizontally (fraction of total width)\n",
    "                height_shift_range=0.,                # randomly shift images vertically (fraction of total height)\n",
    "                channel_shift_range=0.2,\n",
    "                fill_mode = 'nearest',        # Points outside the boundaries of the input are filled according to the given mode.\n",
    "                horizontal_flip=False,                 # randomly flip images\n",
    "                vertical_flip=True)                  # randomly flip images\n",
    "\n",
    "            # compute quantities required for featurewise normalization\n",
    "            # (std, mean, and principal components if ZCA whitening is applied)\n",
    "            datagen.fit(dataset.X_train)\n",
    "\n",
    "            # fit the model on the batches generated by datagen.flow()\n",
    "            self.model.fit_generator(datagen.flow(dataset.X_train, dataset.Y_train,\n",
    "                                                  batch_size=batch_size),\n",
    "                                     samples_per_epoch=dataset.X_train.shape[0],\n",
    "                                     nb_epoch=nb_epoch,\n",
    "                                     validation_data=(dataset.X_valid, dataset.Y_valid))\n",
    "\n",
    "    def save(self, file_path=FILE_PATH):\n",
    "        print('Model Saved.')\n",
    "        self.model.save(file_path)\n",
    "\n",
    "    def load(self, file_path=FILE_PATH):\n",
    "        print('Model Loaded.')\n",
    "        self.model = load_model(file_path)\n",
    "\n",
    "    def predict(self, image):\n",
    "        image = image.reshape((1, 50, 50, 3))\n",
    "        image = image.astype('float32')\n",
    "        image /= 255\n",
    "        result = self.model.predict_proba(image)\n",
    "        print(result)\n",
    "        result = self.model.predict_classes(image)\n",
    "\n",
    "        return result[0]\n",
    "\n",
    "    def evaluate(self, dataset):\n",
    "        score = self.model.evaluate(dataset.X_test, dataset.Y_test, verbose=0)\n",
    "        print(\"%s: %.2f%%\" % (self.model.metrics_names[1], score[1] * 100))"
   ]
  },
  {
   "cell_type": "code",
   "execution_count": 77,
   "metadata": {
    "collapsed": false
   },
   "outputs": [
    {
     "name": "stdout",
     "output_type": "stream",
     "text": [
      "Images shape (9733, 50, 50, 3), label shape (9733,), ratio of authorized data 0.3915545052912771\n",
      "X_train shape: (4769, 50, 50, 3)\n",
      "4769 train samples\n",
      "2044 valid samples\n",
      "2920 test samples\n"
     ]
    }
   ],
   "source": [
    "dataset = Dataset()\n",
    "dataset.read()"
   ]
  },
  {
   "cell_type": "markdown",
   "metadata": {},
   "source": [
    "## Train model"
   ]
  },
  {
   "cell_type": "code",
   "execution_count": 233,
   "metadata": {
    "collapsed": false,
    "scrolled": true
   },
   "outputs": [
    {
     "name": "stdout",
     "output_type": "stream",
     "text": [
      "____________________________________________________________________________________________________\n",
      "Layer (type)                     Output Shape          Param #     Connected to                     \n",
      "====================================================================================================\n",
      "convolution2d_84 (Convolution2D) (None, 50, 50, 32)    896         convolution2d_input_31[0][0]     \n",
      "____________________________________________________________________________________________________\n",
      "convolution2d_85 (Convolution2D) (None, 48, 48, 32)    9248        convolution2d_84[0][0]           \n",
      "____________________________________________________________________________________________________\n",
      "maxpooling2d_46 (MaxPooling2D)   (None, 24, 24, 32)    0           convolution2d_85[0][0]           \n",
      "____________________________________________________________________________________________________\n",
      "dropout_53 (Dropout)             (None, 24, 24, 32)    0           maxpooling2d_46[0][0]            \n",
      "____________________________________________________________________________________________________\n",
      "convolution2d_86 (Convolution2D) (None, 24, 24, 48)    13872       dropout_53[0][0]                 \n",
      "____________________________________________________________________________________________________\n",
      "convolution2d_87 (Convolution2D) (None, 24, 24, 48)    20784       convolution2d_86[0][0]           \n",
      "____________________________________________________________________________________________________\n",
      "maxpooling2d_47 (MaxPooling2D)   (None, 12, 12, 48)    0           convolution2d_87[0][0]           \n",
      "____________________________________________________________________________________________________\n",
      "convolution2d_88 (Convolution2D) (None, 12, 12, 64)    27712       maxpooling2d_47[0][0]            \n",
      "____________________________________________________________________________________________________\n",
      "convolution2d_89 (Convolution2D) (None, 12, 12, 64)    36928       convolution2d_88[0][0]           \n",
      "____________________________________________________________________________________________________\n",
      "maxpooling2d_48 (MaxPooling2D)   (None, 6, 6, 64)      0           convolution2d_89[0][0]           \n",
      "____________________________________________________________________________________________________\n",
      "dropout_54 (Dropout)             (None, 6, 6, 64)      0           maxpooling2d_48[0][0]            \n",
      "____________________________________________________________________________________________________\n",
      "flatten_16 (Flatten)             (None, 2304)          0           dropout_54[0][0]                 \n",
      "____________________________________________________________________________________________________\n",
      "dense_31 (Dense)                 (None, 960)           2212800     flatten_16[0][0]                 \n",
      "____________________________________________________________________________________________________\n",
      "activation_30 (Activation)       (None, 960)           0           dense_31[0][0]                   \n",
      "____________________________________________________________________________________________________\n",
      "dropout_55 (Dropout)             (None, 960)           0           activation_30[0][0]              \n",
      "____________________________________________________________________________________________________\n",
      "dense_32 (Dense)                 (None, 2)             1922        dropout_55[0][0]                 \n",
      "____________________________________________________________________________________________________\n",
      "activation_31 (Activation)       (None, 2)             0           dense_32[0][0]                   \n",
      "====================================================================================================\n",
      "Total params: 2,324,162\n",
      "Trainable params: 2,324,162\n",
      "Non-trainable params: 0\n",
      "____________________________________________________________________________________________________\n",
      "Using real-time data augmentation.\n",
      "Epoch 1/40\n",
      "4769/4769 [==============================] - 15s - loss: 0.4198 - acc: 0.8090 - val_loss: 0.2374 - val_acc: 0.9217\n",
      "Epoch 2/40\n",
      "4769/4769 [==============================] - 13s - loss: 0.1836 - acc: 0.9339 - val_loss: 0.1100 - val_acc: 0.9589\n",
      "Epoch 3/40\n",
      "4769/4769 [==============================] - 13s - loss: 0.1212 - acc: 0.9579 - val_loss: 0.0691 - val_acc: 0.9770\n",
      "Epoch 4/40\n",
      "4769/4769 [==============================] - 13s - loss: 0.0724 - acc: 0.9742 - val_loss: 0.0505 - val_acc: 0.9853\n",
      "Epoch 5/40\n",
      "4769/4769 [==============================] - 13s - loss: 0.0549 - acc: 0.9828 - val_loss: 0.0337 - val_acc: 0.9863\n",
      "Epoch 6/40\n",
      "4769/4769 [==============================] - 13s - loss: 0.0454 - acc: 0.9845 - val_loss: 0.0344 - val_acc: 0.9902\n",
      "Epoch 7/40\n",
      "4769/4769 [==============================] - 13s - loss: 0.0327 - acc: 0.9895 - val_loss: 0.0210 - val_acc: 0.9932\n",
      "Epoch 8/40\n",
      "4769/4769 [==============================] - 13s - loss: 0.0308 - acc: 0.9893 - val_loss: 0.0144 - val_acc: 0.9956\n",
      "Epoch 9/40\n",
      "4769/4769 [==============================] - 13s - loss: 0.0265 - acc: 0.9901 - val_loss: 0.0189 - val_acc: 0.9956\n",
      "Epoch 10/40\n",
      "4769/4769 [==============================] - 13s - loss: 0.0279 - acc: 0.9912 - val_loss: 0.0151 - val_acc: 0.9961\n",
      "Epoch 11/40\n",
      "4769/4769 [==============================] - 13s - loss: 0.0217 - acc: 0.9929 - val_loss: 0.0170 - val_acc: 0.9956\n",
      "Epoch 12/40\n",
      "4769/4769 [==============================] - 13s - loss: 0.0241 - acc: 0.9927 - val_loss: 0.0157 - val_acc: 0.9966\n",
      "Epoch 13/40\n",
      "4769/4769 [==============================] - 13s - loss: 0.0126 - acc: 0.9958 - val_loss: 0.0137 - val_acc: 0.9966\n",
      "Epoch 14/40\n",
      "4769/4769 [==============================] - 13s - loss: 0.0199 - acc: 0.9935 - val_loss: 0.0157 - val_acc: 0.9966\n",
      "Epoch 15/40\n",
      "4769/4769 [==============================] - 13s - loss: 0.0121 - acc: 0.9962 - val_loss: 0.0154 - val_acc: 0.9966\n",
      "Epoch 16/40\n",
      "4769/4769 [==============================] - 13s - loss: 0.0150 - acc: 0.9962 - val_loss: 0.0158 - val_acc: 0.9971\n",
      "Epoch 17/40\n",
      "4769/4769 [==============================] - 13s - loss: 0.0183 - acc: 0.9948 - val_loss: 0.0138 - val_acc: 0.9971\n",
      "Epoch 18/40\n",
      "4769/4769 [==============================] - 13s - loss: 0.0116 - acc: 0.9964 - val_loss: 0.0134 - val_acc: 0.9976\n",
      "Epoch 19/40\n",
      "4769/4769 [==============================] - 13s - loss: 0.0113 - acc: 0.9962 - val_loss: 0.0148 - val_acc: 0.9971\n",
      "Epoch 20/40\n",
      "4769/4769 [==============================] - 13s - loss: 0.0127 - acc: 0.9952 - val_loss: 0.0139 - val_acc: 0.9976\n",
      "Epoch 21/40\n",
      "4769/4769 [==============================] - 13s - loss: 0.0111 - acc: 0.9971 - val_loss: 0.0120 - val_acc: 0.9976\n",
      "Epoch 22/40\n",
      "4769/4769 [==============================] - 13s - loss: 0.0113 - acc: 0.9969 - val_loss: 0.0120 - val_acc: 0.9961\n",
      "Epoch 23/40\n",
      "4769/4769 [==============================] - 13s - loss: 0.0068 - acc: 0.9977 - val_loss: 0.0118 - val_acc: 0.9971\n",
      "Epoch 24/40\n",
      "4769/4769 [==============================] - 13s - loss: 0.0135 - acc: 0.9950 - val_loss: 0.0115 - val_acc: 0.9951\n",
      "Epoch 25/40\n",
      "4769/4769 [==============================] - 13s - loss: 0.0102 - acc: 0.9971 - val_loss: 0.0135 - val_acc: 0.9976\n",
      "Epoch 26/40\n",
      "4769/4769 [==============================] - 13s - loss: 0.0045 - acc: 0.9985 - val_loss: 0.0118 - val_acc: 0.9980\n",
      "Epoch 27/40\n",
      "4769/4769 [==============================] - 13s - loss: 0.0055 - acc: 0.9975 - val_loss: 0.0100 - val_acc: 0.9980\n",
      "Epoch 28/40\n",
      "4769/4769 [==============================] - 13s - loss: 0.0062 - acc: 0.9979 - val_loss: 0.0118 - val_acc: 0.9976\n",
      "Epoch 29/40\n",
      "4769/4769 [==============================] - 13s - loss: 0.0089 - acc: 0.9977 - val_loss: 0.0121 - val_acc: 0.9985\n",
      "Epoch 30/40\n",
      "4769/4769 [==============================] - 13s - loss: 0.0048 - acc: 0.9985 - val_loss: 0.0102 - val_acc: 0.9990\n",
      "Epoch 31/40\n",
      "4769/4769 [==============================] - 14s - loss: 0.0042 - acc: 0.9985 - val_loss: 0.0124 - val_acc: 0.9980\n",
      "Epoch 32/40\n",
      "4769/4769 [==============================] - 14s - loss: 0.0025 - acc: 0.9992 - val_loss: 0.0123 - val_acc: 0.9976\n",
      "Epoch 33/40\n",
      "4769/4769 [==============================] - 14s - loss: 0.0066 - acc: 0.9973 - val_loss: 0.0120 - val_acc: 0.9980\n",
      "Epoch 34/40\n",
      "4769/4769 [==============================] - 14s - loss: 0.0044 - acc: 0.9987 - val_loss: 0.0092 - val_acc: 0.9990\n",
      "Epoch 35/40\n",
      "4769/4769 [==============================] - 14s - loss: 0.0031 - acc: 0.9990 - val_loss: 0.0096 - val_acc: 0.9995\n",
      "Epoch 36/40\n",
      "4769/4769 [==============================] - 14s - loss: 0.0050 - acc: 0.9981 - val_loss: 0.0184 - val_acc: 0.9971\n",
      "Epoch 37/40\n",
      "4769/4769 [==============================] - 14s - loss: 0.0120 - acc: 0.9960 - val_loss: 0.0155 - val_acc: 0.9941\n",
      "Epoch 38/40\n",
      "4769/4769 [==============================] - 14s - loss: 0.0048 - acc: 0.9981 - val_loss: 0.0079 - val_acc: 0.9990\n",
      "Epoch 39/40\n",
      "4769/4769 [==============================] - 14s - loss: 0.0043 - acc: 0.9981 - val_loss: 0.0110 - val_acc: 0.9971\n",
      "Epoch 40/40\n",
      "4769/4769 [==============================] - 14s - loss: 0.0083 - acc: 0.9979 - val_loss: 0.0106 - val_acc: 0.9985\n",
      "Model Saved.\n"
     ]
    }
   ],
   "source": [
    "model = Model()\n",
    "model.build_model(dataset)\n",
    "model.train(dataset)\n",
    "model.save()"
   ]
  },
  {
   "cell_type": "code",
   "execution_count": 234,
   "metadata": {
    "collapsed": false
   },
   "outputs": [
    {
     "name": "stdout",
     "output_type": "stream",
     "text": [
      "Model Loaded.\n",
      "acc: 99.86%\n"
     ]
    }
   ],
   "source": [
    "model = Model()\n",
    "model.load()\n",
    "model.evaluate(dataset)"
   ]
  },
  {
   "cell_type": "markdown",
   "metadata": {},
   "source": [
    "## Predict new image "
   ]
  },
  {
   "cell_type": "code",
   "execution_count": 235,
   "metadata": {
    "collapsed": true
   },
   "outputs": [],
   "source": [
    "import cv2\n",
    "import imutils"
   ]
  },
  {
   "cell_type": "code",
   "execution_count": 236,
   "metadata": {
    "collapsed": false
   },
   "outputs": [
    {
     "name": "stdout",
     "output_type": "stream",
     "text": [
      "1/1 [==============================] - 0s\n",
      "[[  1.99542979e-10   1.00000000e+00]]\n",
      "1/1 [==============================] - 0s\n"
     ]
    },
    {
     "data": {
      "text/plain": [
       "1"
      ]
     },
     "execution_count": 236,
     "metadata": {},
     "output_type": "execute_result"
    }
   ],
   "source": [
    "image = cv2.imread(r'C:\\Users\\dbsnail\\ImageFolder\\test\\sample1.jpg')\n",
    "resized_image = imutils.resize(image, height = 50)\n",
    "model.predict(resized_image)"
   ]
  },
  {
   "cell_type": "code",
   "execution_count": 237,
   "metadata": {
    "collapsed": false
   },
   "outputs": [
    {
     "name": "stdout",
     "output_type": "stream",
     "text": [
      "1/1 [==============================] - 0s\n",
      "[[  7.55044603e-05   9.99924541e-01]]\n",
      "1/1 [==============================] - 0s\n"
     ]
    },
    {
     "data": {
      "text/plain": [
       "1"
      ]
     },
     "execution_count": 237,
     "metadata": {},
     "output_type": "execute_result"
    }
   ],
   "source": [
    "image = cv2.imread(r'C:\\Users\\dbsnail\\ImageFolder\\test\\sample2.jpg')\n",
    "resized_image = imutils.resize(image, height = 50)\n",
    "model.predict(resized_image)"
   ]
  },
  {
   "cell_type": "code",
   "execution_count": 238,
   "metadata": {
    "collapsed": false
   },
   "outputs": [
    {
     "name": "stdout",
     "output_type": "stream",
     "text": [
      "1/1 [==============================] - 0s\n",
      "[[  1.68523504e-04   9.99831438e-01]]\n",
      "1/1 [==============================] - 0s\n"
     ]
    },
    {
     "data": {
      "text/plain": [
       "1"
      ]
     },
     "execution_count": 238,
     "metadata": {},
     "output_type": "execute_result"
    }
   ],
   "source": [
    "image = cv2.imread(r'C:\\Users\\dbsnail\\ImageFolder\\test\\sample3.jpg')\n",
    "resized_image = imutils.resize(image, height = 50)\n",
    "model.predict(resized_image)"
   ]
  },
  {
   "cell_type": "code",
   "execution_count": 239,
   "metadata": {
    "collapsed": false
   },
   "outputs": [
    {
     "name": "stdout",
     "output_type": "stream",
     "text": [
      "1/1 [==============================] - 0s\n",
      "[[ 0.00113458  0.99886549]]\n",
      "1/1 [==============================] - 0s\n"
     ]
    },
    {
     "data": {
      "text/plain": [
       "1"
      ]
     },
     "execution_count": 239,
     "metadata": {},
     "output_type": "execute_result"
    }
   ],
   "source": [
    "image = cv2.imread(r'C:\\Users\\dbsnail\\ImageFolder\\test\\sample4.jpg')\n",
    "resized_image = imutils.resize(image, height = 50)\n",
    "model.predict(resized_image)"
   ]
  },
  {
   "cell_type": "code",
   "execution_count": 240,
   "metadata": {
    "collapsed": false
   },
   "outputs": [
    {
     "name": "stdout",
     "output_type": "stream",
     "text": [
      "1/1 [==============================] - 0s\n",
      "[[ 0.54024619  0.45975375]]\n",
      "1/1 [==============================] - 0s\n"
     ]
    },
    {
     "data": {
      "text/plain": [
       "0"
      ]
     },
     "execution_count": 240,
     "metadata": {},
     "output_type": "execute_result"
    }
   ],
   "source": [
    "image = cv2.imread(r'C:\\Users\\dbsnail\\ImageFolder\\test\\chendaoming.jpg')\n",
    "resized_image = imutils.resize(image, height = 50)\n",
    "model.predict(resized_image)"
   ]
  },
  {
   "cell_type": "code",
   "execution_count": 241,
   "metadata": {
    "collapsed": false
   },
   "outputs": [
    {
     "name": "stdout",
     "output_type": "stream",
     "text": [
      "1/1 [==============================] - 0s\n",
      "[[  9.99752581e-01   2.47407588e-04]]\n",
      "1/1 [==============================] - 0s\n"
     ]
    },
    {
     "data": {
      "text/plain": [
       "0"
      ]
     },
     "execution_count": 241,
     "metadata": {},
     "output_type": "execute_result"
    }
   ],
   "source": [
    "image = cv2.imread(r'C:\\Users\\dbsnail\\ImageFolder\\test\\zhourunfa.jpg')\n",
    "resized_image = imutils.resize(image, height = 50)\n",
    "model.predict(resized_image)"
   ]
  },
  {
   "cell_type": "code",
   "execution_count": 242,
   "metadata": {
    "collapsed": false
   },
   "outputs": [
    {
     "name": "stdout",
     "output_type": "stream",
     "text": [
      "1/1 [==============================] - 0s\n",
      "[[  1.00000000e+00   3.64587871e-09]]\n",
      "1/1 [==============================] - 0s\n"
     ]
    },
    {
     "data": {
      "text/plain": [
       "0"
      ]
     },
     "execution_count": 242,
     "metadata": {},
     "output_type": "execute_result"
    }
   ],
   "source": [
    "image = cv2.imread(r'C:\\Users\\dbsnail\\ImageFolder\\test\\chenbaoguo.jpg')\n",
    "resized_image = imutils.resize(image, height = 50)\n",
    "model.predict(resized_image)"
   ]
  },
  {
   "cell_type": "code",
   "execution_count": 243,
   "metadata": {
    "collapsed": false
   },
   "outputs": [
    {
     "name": "stdout",
     "output_type": "stream",
     "text": [
      "1/1 [==============================] - 0s\n",
      "[[  1.00000000e+00   5.34033759e-08]]\n",
      "1/1 [==============================] - 0s\n"
     ]
    },
    {
     "data": {
      "text/plain": [
       "0"
      ]
     },
     "execution_count": 243,
     "metadata": {},
     "output_type": "execute_result"
    }
   ],
   "source": [
    "image = cv2.imread(r'C:\\Users\\dbsnail\\ImageFolder\\test\\zhangguoli.jpg')\n",
    "resized_image = imutils.resize(image, height = 50)\n",
    "model.predict(resized_image)"
   ]
  },
  {
   "cell_type": "code",
   "execution_count": 244,
   "metadata": {
    "collapsed": false
   },
   "outputs": [
    {
     "name": "stdout",
     "output_type": "stream",
     "text": [
      "1/1 [==============================] - 0s\n",
      "[[  1.00000000e+00   4.88550335e-13]]\n",
      "1/1 [==============================] - 0s\n"
     ]
    },
    {
     "data": {
      "text/plain": [
       "0"
      ]
     },
     "execution_count": 244,
     "metadata": {},
     "output_type": "execute_result"
    }
   ],
   "source": [
    "image = cv2.imread(r'C:\\Users\\dbsnail\\ImageFolder\\test\\linyongjian.jpg')\n",
    "resized_image = imutils.resize(image, height = 50)\n",
    "model.predict(resized_image)"
   ]
  },
  {
   "cell_type": "code",
   "execution_count": 245,
   "metadata": {
    "collapsed": false
   },
   "outputs": [
    {
     "name": "stdout",
     "output_type": "stream",
     "text": [
      "1/1 [==============================] - 0s\n",
      "[[  1.00000000e+00   7.53058310e-11]]\n",
      "1/1 [==============================] - 0s\n"
     ]
    },
    {
     "data": {
      "text/plain": [
       "0"
      ]
     },
     "execution_count": 245,
     "metadata": {},
     "output_type": "execute_result"
    }
   ],
   "source": [
    "image = cv2.imread(r'C:\\Users\\dbsnail\\ImageFolder\\test\\lixuejian.jpg')\n",
    "resized_image = imutils.resize(image, height = 50)\n",
    "model.predict(resized_image)"
   ]
  },
  {
   "cell_type": "code",
   "execution_count": 246,
   "metadata": {
    "collapsed": false
   },
   "outputs": [
    {
     "name": "stdout",
     "output_type": "stream",
     "text": [
      "1/1 [==============================] - 0s\n",
      "[[  9.99999762e-01   2.20358757e-07]]\n",
      "1/1 [==============================] - 0s\n"
     ]
    },
    {
     "data": {
      "text/plain": [
       "0"
      ]
     },
     "execution_count": 246,
     "metadata": {},
     "output_type": "execute_result"
    }
   ],
   "source": [
    "image = cv2.imread(r'C:\\Users\\dbsnail\\ImageFolder\\test\\wangziwen.jpg')\n",
    "resized_image = imutils.resize(image, height = 50)\n",
    "model.predict(resized_image)"
   ]
  },
  {
   "cell_type": "code",
   "execution_count": 247,
   "metadata": {
    "collapsed": false
   },
   "outputs": [
    {
     "name": "stdout",
     "output_type": "stream",
     "text": [
      "1/1 [==============================] - 0s\n",
      "[[ 0.66252619  0.33747378]]\n",
      "1/1 [==============================] - 0s\n"
     ]
    },
    {
     "data": {
      "text/plain": [
       "0"
      ]
     },
     "execution_count": 247,
     "metadata": {},
     "output_type": "execute_result"
    }
   ],
   "source": [
    "image = cv2.imread(r'C:\\Users\\dbsnail\\ImageFolder\\test\\tangguoqiang.jpg')\n",
    "resized_image = imutils.resize(image, height = 50)\n",
    "model.predict(resized_image)"
   ]
  },
  {
   "cell_type": "code",
   "execution_count": 248,
   "metadata": {
    "collapsed": false
   },
   "outputs": [
    {
     "name": "stdout",
     "output_type": "stream",
     "text": [
      "1/1 [==============================] - 0s\n",
      "[[ 0.96823043  0.03176954]]\n",
      "1/1 [==============================] - 0s\n"
     ]
    },
    {
     "data": {
      "text/plain": [
       "0"
      ]
     },
     "execution_count": 248,
     "metadata": {},
     "output_type": "execute_result"
    }
   ],
   "source": [
    "image = cv2.imread(r'C:\\Users\\dbsnail\\ImageFolder\\test\\zhangyimou.jpg')\n",
    "resized_image = imutils.resize(image, height = 50)\n",
    "model.predict(resized_image)"
   ]
  },
  {
   "cell_type": "code",
   "execution_count": null,
   "metadata": {
    "collapsed": true
   },
   "outputs": [],
   "source": []
  }
 ],
 "metadata": {
  "anaconda-cloud": {},
  "kernelspec": {
   "display_name": "Python 3",
   "language": "python",
   "name": "python3"
  },
  "language_info": {
   "codemirror_mode": {
    "name": "ipython",
    "version": 3
   },
   "file_extension": ".py",
   "mimetype": "text/x-python",
   "name": "python",
   "nbconvert_exporter": "python",
   "pygments_lexer": "ipython3",
   "version": "3.6.0"
  }
 },
 "nbformat": 4,
 "nbformat_minor": 1
}
