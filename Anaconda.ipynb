{
 "cells": [
  {
   "cell_type": "markdown",
   "metadata": {},
   "source": [
    "## Anaconda command\n",
    "\n",
    "```sh\n",
    "# create a python 3.5 environment\n",
    "conda create -n py35 python=3.5 anacomda\n",
    "\n",
    "# create a python 2.7 environment\n",
    "conda create -n py27 python=2.7 anaconda\n",
    "\n",
    "# update or upgrade Python\n",
    "conda update python\n",
    "\n",
    "# check python version\n",
    "python --version\n",
    "\n",
    "# verify conda environment information, either one\n",
    "conda info --envs\n",
    "conda env list\n",
    "\n",
    "# remove a environmet\n",
    "conda remove --name environmentname --all\n",
    "\n",
    "# active environment\n",
    "activate environmentName\n",
    "\n",
    "# deactivate environment\n",
    "deactivate environmentName\n",
    "```"
   ]
  },
  {
   "cell_type": "markdown",
   "metadata": {},
   "source": [
    "## Using R with conda\n",
    "```sh\n",
    "# install all of the most popular packages with all of their dependencies\n",
    "conda install -c -r r-essentials\n",
    "\n",
    "# update all of the packages and their depencies\n",
    "conda update -c -r r-essentials\n",
    "```"
   ]
  }
 ],
 "metadata": {
  "kernelspec": {
   "display_name": "Python 2",
   "language": "python",
   "name": "python2"
  },
  "language_info": {
   "codemirror_mode": {
    "name": "ipython",
    "version": 2
   },
   "file_extension": ".py",
   "mimetype": "text/x-python",
   "name": "python",
   "nbconvert_exporter": "python",
   "pygments_lexer": "ipython2",
   "version": "2.7.11"
  }
 },
 "nbformat": 4,
 "nbformat_minor": 0
}
