{
 "cells": [
  {
   "cell_type": "markdown",
   "metadata": {},
   "source": [
    "refer this thread from [stack overflow](https://stackoverflow.com/questions/10556048/how-to-extract-tables-from-websites-in-python)"
   ]
  },
  {
   "cell_type": "code",
   "execution_count": 1,
   "metadata": {
    "collapsed": false
   },
   "outputs": [],
   "source": [
    "import requests\n",
    "import pandas as pd"
   ]
  },
  {
   "cell_type": "code",
   "execution_count": 2,
   "metadata": {
    "collapsed": true
   },
   "outputs": [],
   "source": [
    "url1 = 'http://www.ffiec.gov/census/report.aspx?year=2011&state=01&report=demographic&msa=11500'\n",
    "html1 = requests.get(url1).content"
   ]
  },
  {
   "cell_type": "code",
   "execution_count": 3,
   "metadata": {
    "collapsed": false
   },
   "outputs": [],
   "source": [
    "df_list = pd.read_html(html1)\n",
    "df = df_list[-1]"
   ]
  },
  {
   "cell_type": "code",
   "execution_count": 4,
   "metadata": {
    "collapsed": false
   },
   "outputs": [
    {
     "data": {
      "text/html": [
       "<div>\n",
       "<table border=\"1\" class=\"dataframe\">\n",
       "  <thead>\n",
       "    <tr style=\"text-align: right;\">\n",
       "      <th></th>\n",
       "      <th>0</th>\n",
       "      <th>1</th>\n",
       "      <th>2</th>\n",
       "      <th>3</th>\n",
       "      <th>4</th>\n",
       "      <th>5</th>\n",
       "      <th>6</th>\n",
       "      <th>7</th>\n",
       "      <th>8</th>\n",
       "      <th>9</th>\n",
       "      <th>10</th>\n",
       "      <th>11</th>\n",
       "      <th>12</th>\n",
       "    </tr>\n",
       "  </thead>\n",
       "  <tbody>\n",
       "    <tr>\n",
       "      <th>0</th>\n",
       "      <td>County Code</td>\n",
       "      <td>Tract Code</td>\n",
       "      <td>Tract Income Level</td>\n",
       "      <td>Distressed or Under -served Tract</td>\n",
       "      <td>Tract Median Family Income %</td>\n",
       "      <td>2011 HUD Est. MSA/MD non-MSA/MD Median Family ...</td>\n",
       "      <td>2011 Est. Tract Median Family Income</td>\n",
       "      <td>2000 Tract Median Family Income</td>\n",
       "      <td>Tract Population</td>\n",
       "      <td>Tract Minority %</td>\n",
       "      <td>Minority Population</td>\n",
       "      <td>Owner Occupied Units</td>\n",
       "      <td>1- to 4- Family Units</td>\n",
       "    </tr>\n",
       "    <tr>\n",
       "      <th>1</th>\n",
       "      <td>015</td>\n",
       "      <td>0001.00</td>\n",
       "      <td>Moderate</td>\n",
       "      <td>No</td>\n",
       "      <td>74.23</td>\n",
       "      <td>$51,500</td>\n",
       "      <td>$38,228</td>\n",
       "      <td>$29,615</td>\n",
       "      <td>2279</td>\n",
       "      <td>45.77</td>\n",
       "      <td>1043</td>\n",
       "      <td>431</td>\n",
       "      <td>894</td>\n",
       "    </tr>\n",
       "    <tr>\n",
       "      <th>2</th>\n",
       "      <td>015</td>\n",
       "      <td>0002.00</td>\n",
       "      <td>Middle</td>\n",
       "      <td>No</td>\n",
       "      <td>86.40</td>\n",
       "      <td>$51,500</td>\n",
       "      <td>$44,496</td>\n",
       "      <td>$34,468</td>\n",
       "      <td>3084</td>\n",
       "      <td>42.44</td>\n",
       "      <td>1309</td>\n",
       "      <td>881</td>\n",
       "      <td>1543</td>\n",
       "    </tr>\n",
       "    <tr>\n",
       "      <th>3</th>\n",
       "      <td>015</td>\n",
       "      <td>0003.00</td>\n",
       "      <td>Moderate</td>\n",
       "      <td>No</td>\n",
       "      <td>59.27</td>\n",
       "      <td>$51,500</td>\n",
       "      <td>$30,524</td>\n",
       "      <td>$23,644</td>\n",
       "      <td>3545</td>\n",
       "      <td>78.87</td>\n",
       "      <td>2796</td>\n",
       "      <td>637</td>\n",
       "      <td>1562</td>\n",
       "    </tr>\n",
       "    <tr>\n",
       "      <th>4</th>\n",
       "      <td>015</td>\n",
       "      <td>0004.00</td>\n",
       "      <td>Moderate</td>\n",
       "      <td>No</td>\n",
       "      <td>76.24</td>\n",
       "      <td>$51,500</td>\n",
       "      <td>$39,264</td>\n",
       "      <td>$30,417</td>\n",
       "      <td>2777</td>\n",
       "      <td>59.42</td>\n",
       "      <td>1650</td>\n",
       "      <td>908</td>\n",
       "      <td>1335</td>\n",
       "    </tr>\n",
       "  </tbody>\n",
       "</table>\n",
       "</div>"
      ],
      "text/plain": [
       "            0           1                   2   \\\n",
       "0  County Code  Tract Code  Tract Income Level   \n",
       "1          015     0001.00            Moderate   \n",
       "2          015     0002.00              Middle   \n",
       "3          015     0003.00            Moderate   \n",
       "4          015     0004.00            Moderate   \n",
       "\n",
       "                                  3                             4   \\\n",
       "0  Distressed or Under -served Tract  Tract Median Family Income %   \n",
       "1                                 No                         74.23   \n",
       "2                                 No                         86.40   \n",
       "3                                 No                         59.27   \n",
       "4                                 No                         76.24   \n",
       "\n",
       "                                                  5   \\\n",
       "0  2011 HUD Est. MSA/MD non-MSA/MD Median Family ...   \n",
       "1                                            $51,500   \n",
       "2                                            $51,500   \n",
       "3                                            $51,500   \n",
       "4                                            $51,500   \n",
       "\n",
       "                                     6                                7   \\\n",
       "0  2011 Est. Tract Median Family Income  2000 Tract Median Family Income   \n",
       "1                               $38,228                          $29,615   \n",
       "2                               $44,496                          $34,468   \n",
       "3                               $30,524                          $23,644   \n",
       "4                               $39,264                          $30,417   \n",
       "\n",
       "                 8                 9                    10  \\\n",
       "0  Tract Population  Tract Minority %  Minority Population   \n",
       "1              2279             45.77                 1043   \n",
       "2              3084             42.44                 1309   \n",
       "3              3545             78.87                 2796   \n",
       "4              2777             59.42                 1650   \n",
       "\n",
       "                     11                     12  \n",
       "0  Owner Occupied Units  1- to 4- Family Units  \n",
       "1                   431                    894  \n",
       "2                   881                   1543  \n",
       "3                   637                   1562  \n",
       "4                   908                   1335  "
      ]
     },
     "execution_count": 4,
     "metadata": {},
     "output_type": "execute_result"
    }
   ],
   "source": [
    "df.head()"
   ]
  },
  {
   "cell_type": "code",
   "execution_count": 5,
   "metadata": {
    "collapsed": true
   },
   "outputs": [],
   "source": [
    "url2 = 'https://en.wikipedia.org/wiki/List_of_countries_and_dependencies_by_population'\n",
    "html2 = requests.get(url2).content"
   ]
  },
  {
   "cell_type": "code",
   "execution_count": 8,
   "metadata": {
    "collapsed": true
   },
   "outputs": [],
   "source": [
    "df_list2 = pd.read_html(html2)\n",
    "df2 = df_list2[-2]"
   ]
  },
  {
   "cell_type": "code",
   "execution_count": 9,
   "metadata": {
    "collapsed": false
   },
   "outputs": [
    {
     "data": {
      "text/html": [
       "<div>\n",
       "<table border=\"1\" class=\"dataframe\">\n",
       "  <thead>\n",
       "    <tr style=\"text-align: right;\">\n",
       "      <th></th>\n",
       "      <th>0</th>\n",
       "      <th>1</th>\n",
       "      <th>2</th>\n",
       "      <th>3</th>\n",
       "      <th>4</th>\n",
       "      <th>5</th>\n",
       "    </tr>\n",
       "  </thead>\n",
       "  <tbody>\n",
       "    <tr>\n",
       "      <th>0</th>\n",
       "      <td>Rank</td>\n",
       "      <td>Country (or dependent territory)</td>\n",
       "      <td>Population</td>\n",
       "      <td>Date</td>\n",
       "      <td>% of world population</td>\n",
       "      <td>Source</td>\n",
       "    </tr>\n",
       "    <tr>\n",
       "      <th>1</th>\n",
       "      <td>1</td>\n",
       "      <td>China[Note 2]</td>\n",
       "      <td>1388950000</td>\n",
       "      <td>January 30, 2018</td>\n",
       "      <td>18.3%</td>\n",
       "      <td>Official population clock</td>\n",
       "    </tr>\n",
       "    <tr>\n",
       "      <th>2</th>\n",
       "      <td>2</td>\n",
       "      <td>India[Note 3]</td>\n",
       "      <td>1327250000</td>\n",
       "      <td>January 30, 2018</td>\n",
       "      <td>17.5%</td>\n",
       "      <td>Official population clock</td>\n",
       "    </tr>\n",
       "    <tr>\n",
       "      <th>3</th>\n",
       "      <td>3</td>\n",
       "      <td>United States[Note 4]</td>\n",
       "      <td>326542000</td>\n",
       "      <td>January 30, 2018</td>\n",
       "      <td>4.3%</td>\n",
       "      <td>Official population clock</td>\n",
       "    </tr>\n",
       "    <tr>\n",
       "      <th>4</th>\n",
       "      <td>4</td>\n",
       "      <td>Indonesia</td>\n",
       "      <td>261890900</td>\n",
       "      <td>July 1, 2017</td>\n",
       "      <td>3.45%</td>\n",
       "      <td>Official annual projection</td>\n",
       "    </tr>\n",
       "  </tbody>\n",
       "</table>\n",
       "</div>"
      ],
      "text/plain": [
       "      0                                 1           2                 3  \\\n",
       "0  Rank  Country (or dependent territory)  Population              Date   \n",
       "1     1                     China[Note 2]  1388950000  January 30, 2018   \n",
       "2     2                     India[Note 3]  1327250000  January 30, 2018   \n",
       "3     3             United States[Note 4]   326542000  January 30, 2018   \n",
       "4     4                         Indonesia   261890900      July 1, 2017   \n",
       "\n",
       "                       4                           5  \n",
       "0  % of world population                      Source  \n",
       "1                  18.3%   Official population clock  \n",
       "2                  17.5%   Official population clock  \n",
       "3                   4.3%   Official population clock  \n",
       "4                  3.45%  Official annual projection  "
      ]
     },
     "execution_count": 9,
     "metadata": {},
     "output_type": "execute_result"
    }
   ],
   "source": [
    "df2.head()"
   ]
  },
  {
   "cell_type": "code",
   "execution_count": null,
   "metadata": {
    "collapsed": true
   },
   "outputs": [],
   "source": []
  }
 ],
 "metadata": {
  "kernelspec": {
   "display_name": "Python 3",
   "language": "python",
   "name": "python3"
  },
  "language_info": {
   "codemirror_mode": {
    "name": "ipython",
    "version": 3
   },
   "file_extension": ".py",
   "mimetype": "text/x-python",
   "name": "python",
   "nbconvert_exporter": "python",
   "pygments_lexer": "ipython3",
   "version": "3.6.0"
  }
 },
 "nbformat": 4,
 "nbformat_minor": 2
}
